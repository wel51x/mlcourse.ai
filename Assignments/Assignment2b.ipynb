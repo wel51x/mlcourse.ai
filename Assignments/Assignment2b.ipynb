{
 "cells": [
  {
   "cell_type": "markdown",
   "metadata": {
    "_uuid": "945c0f151b28ca53b79e0f7cf5b107af959a3370"
   },
   "source": [
    "<center>\n",
    "<img src=\"https://habrastorage.org/files/fd4/502/43d/fd450243dd604b81b9713213a247aa20.jpg\">\n",
    "\n",
    "## [mlcourse.ai](https://mlcourse.ai) - Open Machine Learning Course\n",
    "    \n",
    "Authors: [Ilya Baryshnikov](https://www.linkedin.com/in/baryshnikov-ilya/), [Maxim Uvarov](https://www.linkedin.com/in/maxis42/), and [Yury Kashnitsky](https://www.linkedin.com/in/festline/). Translated and edited by [Inga Kaydanova](https://www.linkedin.com/in/inga-kaidanova-a92398b1/), [Egor Polusmak](https://www.linkedin.com/in/egor-polusmak/), [Anastasia Manokhina](https://www.linkedin.com/in/anastasiamanokhina/), and [Yuanyuan Pao](https://www.linkedin.com/in/yuanyuanpao/). All content is distributed under the [Creative Commons CC BY-NC-SA 4.0](https://creativecommons.org/licenses/by-nc-sa/4.0/) license."
   ]
  },
  {
   "cell_type": "markdown",
   "metadata": {
    "_uuid": "66409c8728e75df39a1390bcb634ae50c6b37652",
    "collapsed": true
   },
   "source": [
    "# <center>Assignment #2 (demo)\n",
    "## <center>Analyzing cardiovascular disease data "
   ]
  },
  {
   "cell_type": "markdown",
   "metadata": {
    "_uuid": "5cea59b8adb04c5a07a32c5b70a829319ba0cf2a"
   },
   "source": [
    "In this assignment, you will answer questions about a dataset on cardiovascular disease. You do not need to download the data: it is already in the repository. There are some Tasks that will require you to write code. Complete them and then answer the questions in the [form](https://docs.google.com/forms/d/13cE_tSIb6hsScQvvWUJeu1MEHE5L6vnxQUbDYpXsf24). \n",
    "\n",
    "#### Problem\n",
    "\n",
    "Predict the presence or absence of cardiovascular disease (CVD) using the patient examination results.\n",
    "\n",
    "#### Data description\n",
    "\n",
    "There are 3 types of input features:\n",
    "\n",
    "- *Objective*: factual information;\n",
    "- *Examination*: results of medical examination;\n",
    "- *Subjective*: information given by the patient.\n",
    "\n",
    "| Feature | Variable Type | Variable      | Value Type |\n",
    "|---------|--------------|---------------|------------|\n",
    "| Age | Objective Feature | age | int (days) |\n",
    "| Height | Objective Feature | height | int (cm) |\n",
    "| Weight | Objective Feature | weight | float (kg) |\n",
    "| Gender | Objective Feature | gender | categorical code |\n",
    "| Systolic blood pressure | Examination Feature | ap_hi | int |\n",
    "| Diastolic blood pressure | Examination Feature | ap_lo | int |\n",
    "| Cholesterol | Examination Feature | cholesterol | 1: normal, 2: above normal, 3: well above normal |\n",
    "| Glucose | Examination Feature | gluc | 1: normal, 2: above normal, 3: well above normal |\n",
    "| Smoking | Subjective Feature | smoke | binary |\n",
    "| Alcohol intake | Subjective Feature | alco | binary |\n",
    "| Physical activity | Subjective Feature | active | binary |\n",
    "| Presence or absence of cardiovascular disease | Target Variable | cardio | binary |\n",
    "\n",
    "All of the dataset values were collected at the moment of medical examination."
   ]
  },
  {
   "cell_type": "markdown",
   "metadata": {
    "_uuid": "10749a7f9b46749e3a90ff697bc298760045c333"
   },
   "source": [
    "Let's get to know our data by performing a preliminary data analysis.\n",
    "\n",
    "#  Part 1. Preliminary data analysis\n",
    "\n",
    "First, we will initialize the environment:"
   ]
  },
  {
   "cell_type": "code",
   "execution_count": 3,
   "metadata": {
    "_uuid": "85426734e890fcf72416f29a953da115c1171080"
   },
   "outputs": [
    {
     "name": "stdout",
     "output_type": "stream",
     "text": [
      "/notebooks\n"
     ]
    }
   ],
   "source": [
    "%cd /notebooks\n",
    "datadir = \"data/\"\n",
    "# Import all required modules\n",
    "import pandas as pd\n",
    "import numpy as np\n",
    "\n",
    "# Disable warnings\n",
    "import warnings\n",
    "warnings.filterwarnings(\"ignore\")\n",
    "\n",
    "# Import plotting modules\n",
    "import seaborn as sns\n",
    "sns.set()\n",
    "import matplotlib\n",
    "import matplotlib.pyplot as plt\n",
    "import matplotlib.ticker\n",
    "%matplotlib inline"
   ]
  },
  {
   "cell_type": "markdown",
   "metadata": {
    "_uuid": "cbcf821e4bea8a7f7fb1ee4a9bf285b6c4b588ee"
   },
   "source": [
    "You will use the `seaborn` library for visual analysis, so let's set that up too:"
   ]
  },
  {
   "cell_type": "code",
   "execution_count": 2,
   "metadata": {
    "_uuid": "b33601a0cadc2fb2d92f211c31bf99a502f71d48"
   },
   "outputs": [],
   "source": [
    "# Tune the visual settings for figures in `seaborn`\n",
    "sns.set_context(\n",
    "    \"notebook\", \n",
    "    font_scale=1.5,       \n",
    "    rc={ \n",
    "        \"figure.figsize\": (11, 8), \n",
    "        \"axes.titlesize\": 18 \n",
    "    }\n",
    ")\n",
    "\n",
    "from matplotlib import rcParams\n",
    "rcParams['figure.figsize'] = 11, 8"
   ]
  },
  {
   "cell_type": "markdown",
   "metadata": {
    "_uuid": "89381351e4b95530b355e0e55bc4536c0a813d10"
   },
   "source": [
    "To make it simple, we will work only with the training part of the dataset:"
   ]
  },
  {
   "cell_type": "code",
   "execution_count": 5,
   "metadata": {
    "_uuid": "2bd0005e660693a061577ca5244b48ccebf36719"
   },
   "outputs": [
    {
     "name": "stdout",
     "output_type": "stream",
     "text": [
      "Dataset size:  (70000, 13)\n"
     ]
    },
    {
     "data": {
      "text/html": [
       "<div>\n",
       "<style scoped>\n",
       "    .dataframe tbody tr th:only-of-type {\n",
       "        vertical-align: middle;\n",
       "    }\n",
       "\n",
       "    .dataframe tbody tr th {\n",
       "        vertical-align: top;\n",
       "    }\n",
       "\n",
       "    .dataframe thead th {\n",
       "        text-align: right;\n",
       "    }\n",
       "</style>\n",
       "<table border=\"1\" class=\"dataframe\">\n",
       "  <thead>\n",
       "    <tr style=\"text-align: right;\">\n",
       "      <th></th>\n",
       "      <th>id</th>\n",
       "      <th>age</th>\n",
       "      <th>gender</th>\n",
       "      <th>height</th>\n",
       "      <th>weight</th>\n",
       "      <th>ap_hi</th>\n",
       "      <th>ap_lo</th>\n",
       "      <th>cholesterol</th>\n",
       "      <th>gluc</th>\n",
       "      <th>smoke</th>\n",
       "      <th>alco</th>\n",
       "      <th>active</th>\n",
       "      <th>cardio</th>\n",
       "    </tr>\n",
       "  </thead>\n",
       "  <tbody>\n",
       "    <tr>\n",
       "      <th>0</th>\n",
       "      <td>0</td>\n",
       "      <td>18393</td>\n",
       "      <td>2</td>\n",
       "      <td>168</td>\n",
       "      <td>62.0</td>\n",
       "      <td>110</td>\n",
       "      <td>80</td>\n",
       "      <td>1</td>\n",
       "      <td>1</td>\n",
       "      <td>0</td>\n",
       "      <td>0</td>\n",
       "      <td>1</td>\n",
       "      <td>0</td>\n",
       "    </tr>\n",
       "    <tr>\n",
       "      <th>1</th>\n",
       "      <td>1</td>\n",
       "      <td>20228</td>\n",
       "      <td>1</td>\n",
       "      <td>156</td>\n",
       "      <td>85.0</td>\n",
       "      <td>140</td>\n",
       "      <td>90</td>\n",
       "      <td>3</td>\n",
       "      <td>1</td>\n",
       "      <td>0</td>\n",
       "      <td>0</td>\n",
       "      <td>1</td>\n",
       "      <td>1</td>\n",
       "    </tr>\n",
       "    <tr>\n",
       "      <th>2</th>\n",
       "      <td>2</td>\n",
       "      <td>18857</td>\n",
       "      <td>1</td>\n",
       "      <td>165</td>\n",
       "      <td>64.0</td>\n",
       "      <td>130</td>\n",
       "      <td>70</td>\n",
       "      <td>3</td>\n",
       "      <td>1</td>\n",
       "      <td>0</td>\n",
       "      <td>0</td>\n",
       "      <td>0</td>\n",
       "      <td>1</td>\n",
       "    </tr>\n",
       "    <tr>\n",
       "      <th>3</th>\n",
       "      <td>3</td>\n",
       "      <td>17623</td>\n",
       "      <td>2</td>\n",
       "      <td>169</td>\n",
       "      <td>82.0</td>\n",
       "      <td>150</td>\n",
       "      <td>100</td>\n",
       "      <td>1</td>\n",
       "      <td>1</td>\n",
       "      <td>0</td>\n",
       "      <td>0</td>\n",
       "      <td>1</td>\n",
       "      <td>1</td>\n",
       "    </tr>\n",
       "    <tr>\n",
       "      <th>4</th>\n",
       "      <td>4</td>\n",
       "      <td>17474</td>\n",
       "      <td>1</td>\n",
       "      <td>156</td>\n",
       "      <td>56.0</td>\n",
       "      <td>100</td>\n",
       "      <td>60</td>\n",
       "      <td>1</td>\n",
       "      <td>1</td>\n",
       "      <td>0</td>\n",
       "      <td>0</td>\n",
       "      <td>0</td>\n",
       "      <td>0</td>\n",
       "    </tr>\n",
       "  </tbody>\n",
       "</table>\n",
       "</div>"
      ],
      "text/plain": [
       "   id    age  gender  height  weight  ap_hi  ap_lo  cholesterol  gluc  smoke  \\\n",
       "0   0  18393       2     168    62.0    110     80            1     1      0   \n",
       "1   1  20228       1     156    85.0    140     90            3     1      0   \n",
       "2   2  18857       1     165    64.0    130     70            3     1      0   \n",
       "3   3  17623       2     169    82.0    150    100            1     1      0   \n",
       "4   4  17474       1     156    56.0    100     60            1     1      0   \n",
       "\n",
       "   alco  active  cardio  \n",
       "0     0       1       0  \n",
       "1     0       1       1  \n",
       "2     0       0       1  \n",
       "3     0       1       1  \n",
       "4     0       0       0  "
      ]
     },
     "execution_count": 5,
     "metadata": {},
     "output_type": "execute_result"
    }
   ],
   "source": [
    "df = pd.read_csv(datadir + 'mlbootcamp5_train.csv', sep = ';')\n",
    "print('Dataset size: ', df.shape)\n",
    "df.head()"
   ]
  },
  {
   "cell_type": "markdown",
   "metadata": {
    "_uuid": "636bf459023fbc1d1f1b73863c5246397dc26e6d"
   },
   "source": [
    "It would be instructive to peek into the values of our variables.\n",
    " \n",
    "Let's convert the data into *long* format and depict the value counts of the categorical features using [`factorplot()`](https://seaborn.pydata.org/generated/seaborn.factorplot.html)."
   ]
  },
  {
   "cell_type": "code",
   "execution_count": 6,
   "metadata": {
    "_uuid": "334ad6a83e7bb58f2c65ec512bfc401a0948c17a"
   },
   "outputs": [
    {
     "data": {
      "image/png": "[encoded data removed]",
      "text/plain": [
       "<Figure size 910.6x864 with 1 Axes>"
      ]
     },
     "metadata": {
      "needs_background": "light"
     },
     "output_type": "display_data"
    }
   ],
   "source": [
    "df_uniques = pd.melt(frame=df, value_vars=['gender','cholesterol', \n",
    "                                           'gluc', 'smoke', 'alco', \n",
    "                                           'active', 'cardio'])\n",
    "df_uniques = pd.DataFrame(df_uniques.groupby(['variable', \n",
    "                                              'value'])['value'].count()) \\\n",
    "    .sort_index(level=[0, 1]) \\\n",
    "    .rename(columns={'value': 'count'}) \\\n",
    "    .reset_index()\n",
    "\n",
    "sns.factorplot(x='variable', y='count', hue='value', \n",
    "               data=df_uniques, kind='bar', size=12);"
   ]
  },
  {
   "cell_type": "markdown",
   "metadata": {
    "_uuid": "cb94ec9ddf78c607cdec5536581b8ec4004ac16b",
    "collapsed": true
   },
   "source": [
    "We can see that the target classes are balanced. That's great!\n",
    "\n",
    "Let's split the dataset by target values. Can you already spot the most significant feature by just looking at the plot?"
   ]
  },
  {
   "cell_type": "code",
   "execution_count": 7,
   "metadata": {
    "_uuid": "a712d76f8c11588a9aebd4be6a00f01c53a8d80a"
   },
   "outputs": [
    {
     "data": {
      "image/png": "[encoded data removed]",
      "text/plain": [
       "<Figure size 1342.6x648 with 2 Axes>"
      ]
     },
     "metadata": {
      "needs_background": "light"
     },
     "output_type": "display_data"
    }
   ],
   "source": [
    "df_uniques = pd.melt(frame=df, value_vars=['gender','cholesterol', \n",
    "                                           'gluc', 'smoke', 'alco', \n",
    "                                           'active'], \n",
    "                     id_vars=['cardio'])\n",
    "df_uniques = pd.DataFrame(df_uniques.groupby(['variable', 'value', \n",
    "                                              'cardio'])['value'].count()) \\\n",
    "    .sort_index(level=[0, 1]) \\\n",
    "    .rename(columns={'value': 'count'}) \\\n",
    "    .reset_index()\n",
    "\n",
    "sns.factorplot(x='variable', y='count', hue='value', \n",
    "               col='cardio', data=df_uniques, kind='bar', size=9);"
   ]
  },
  {
   "cell_type": "markdown",
   "metadata": {
    "_uuid": "4f4fdb7b979c6594b3060a0b80473fabbdf6acd0"
   },
   "source": [
    "You can see that the distribution of cholesterol and glucose levels great differs by the value of the target variable. Is this a coincidence?\n",
    "\n",
    "Now, let's calculate some statistics for the feature unique values:"
   ]
  },
  {
   "cell_type": "code",
   "execution_count": 8,
   "metadata": {
    "_uuid": "e9cbba719f93f6b544567638be7332b7385fc715"
   },
   "outputs": [
    {
     "name": "stdout",
     "output_type": "stream",
     "text": [
      "id\n",
      "70000\n",
      "----------\n",
      "age\n",
      "8076\n",
      "----------\n",
      "gender\n",
      "2 [(1, 45530), (2, 24470)]\n",
      "----------\n",
      "height\n",
      "109\n",
      "----------\n",
      "weight\n",
      "287\n",
      "----------\n",
      "ap_hi\n",
      "153\n",
      "----------\n",
      "ap_lo\n",
      "157\n",
      "----------\n",
      "cholesterol\n",
      "3 [(1, 52385), (2, 9549), (3, 8066)]\n",
      "----------\n",
      "gluc\n",
      "3 [(1, 59479), (2, 5190), (3, 5331)]\n",
      "----------\n",
      "smoke\n",
      "2 [(0, 63831), (1, 6169)]\n",
      "----------\n",
      "alco\n",
      "2 [(0, 66236), (1, 3764)]\n",
      "----------\n",
      "active\n",
      "2 [(0, 13739), (1, 56261)]\n",
      "----------\n",
      "cardio\n",
      "2 [(0, 35021), (1, 34979)]\n",
      "----------\n"
     ]
    }
   ],
   "source": [
    "for c in df.columns:\n",
    "    n = df[c].nunique()\n",
    "    print(c)\n",
    "    if n <= 3:\n",
    "        print(n, sorted(df[c].value_counts().to_dict().items()))\n",
    "    else:\n",
    "        print(n)\n",
    "    print(10 * '-')"
   ]
  },
  {
   "cell_type": "markdown",
   "metadata": {
    "_uuid": "53507160b237077bf8b19fb987b910669c04ba8b"
   },
   "source": [
    "In the end, we have:\n",
    "- 5 numerical features (excluding *id*);\n",
    "- 7 categorical features;\n",
    "- 70000 records in total."
   ]
  },
  {
   "cell_type": "markdown",
   "metadata": {
    "_uuid": "5f9dc83567c83c1ab2eeb4b855d3f8460c1a735e"
   },
   "source": [
    "## 1.1. Basic observations"
   ]
  },
  {
   "cell_type": "markdown",
   "metadata": {
    "_uuid": "129e6509399146154e8c7e293a2fd11f5d267fa4"
   },
   "source": [
    "### Question 1.1. (1 point). How many men and women are present in this dataset? Values of the `gender` feature were not given (whether \"1\" stands for women or for men) – figure this out by looking analyzing height, making the assumption that men are taller on average.\n",
    "1. 45530 women and 24470 men\n",
    "2. 45530 men and 24470 women\n",
    "3. 45470 women and 24530 men\n",
    "4. 45470 men and 24530 women"
   ]
  },
  {
   "cell_type": "code",
   "execution_count": 9,
   "metadata": {},
   "outputs": [
    {
     "data": {
      "text/plain": [
       "gender\n",
       "1    161.355612\n",
       "2    169.947895\n",
       "Name: height, dtype: float64"
      ]
     },
     "execution_count": 9,
     "metadata": {},
     "output_type": "execute_result"
    }
   ],
   "source": [
    "df.groupby('gender')['height'].mean()"
   ]
  },
  {
   "cell_type": "markdown",
   "metadata": {},
   "source": [
    "#### ==>> implies 1 == f, 2 == m\n",
    "#### ==>> so... 45530 women and 24470 men (#1)\n",
    "\n"
   ]
  },
  {
   "cell_type": "markdown",
   "metadata": {
    "_uuid": "d6b36cf91cd63fcce92c4177475820bd6b94ec89"
   },
   "source": [
    "### Question 1.2. (1 point). Which gender more often reports consuming alcohol - men or women?\n",
    "1. women\n",
    "2. men"
   ]
  },
  {
   "cell_type": "code",
   "execution_count": 11,
   "metadata": {},
   "outputs": [
    {
     "data": {
      "text/plain": [
       "gender\n",
       "1    0.025500\n",
       "2    0.106375\n",
       "Name: alco, dtype: float64"
      ]
     },
     "execution_count": 11,
     "metadata": {},
     "output_type": "execute_result"
    }
   ],
   "source": [
    "df.groupby('gender')['alco'].mean()"
   ]
  },
  {
   "cell_type": "markdown",
   "metadata": {},
   "source": [
    "#### ==>> implies gender 2 (men) reports consuming alcohol more often"
   ]
  },
  {
   "cell_type": "markdown",
   "metadata": {
    "_uuid": "8b98389e26edd01374d6217d8dd1e2d5ffff9d1c"
   },
   "source": [
    "### Question 1.3. (1 point). What is the difference between the percentages of smokers among men and women (rounded)?\n",
    "1. 4\n",
    "2. 16\n",
    "3. 20\n",
    "4. 24"
   ]
  },
  {
   "cell_type": "code",
   "execution_count": 19,
   "metadata": {},
   "outputs": [],
   "source": [
    "gender_smoke = list(df.groupby('gender')['smoke'].mean())"
   ]
  },
  {
   "cell_type": "code",
   "execution_count": 26,
   "metadata": {},
   "outputs": [
    {
     "data": {
      "text/plain": [
       "20"
      ]
     },
     "execution_count": 26,
     "metadata": {},
     "output_type": "execute_result"
    }
   ],
   "source": [
    "round(100 * abs(gender_smoke[0] - gender_smoke[1]))"
   ]
  },
  {
   "cell_type": "markdown",
   "metadata": {},
   "source": [
    "#### ==>> implies selection 3 (20)"
   ]
  },
  {
   "cell_type": "markdown",
   "metadata": {
    "_uuid": "c92554c5fe98a07b298cec98eaa2622a3bedbeeb"
   },
   "source": [
    "### Question 1.4. (1 point). What is the difference between median values of age for smokers and non-smokers (in months, rounded)? You'll need to figure out the units of feature `age` in this dataset.\n",
    "\n",
    "1. 5\n",
    "2. 10\n",
    "3. 15\n",
    "4. 20"
   ]
  },
  {
   "cell_type": "code",
   "execution_count": 28,
   "metadata": {},
   "outputs": [],
   "source": [
    "smoke_age = list(df.groupby('smoke')['age'].median() / 365.25)"
   ]
  },
  {
   "cell_type": "code",
   "execution_count": 32,
   "metadata": {},
   "outputs": [
    {
     "data": {
      "text/plain": [
       "20"
      ]
     },
     "execution_count": 32,
     "metadata": {},
     "output_type": "execute_result"
    }
   ],
   "source": [
    "round(abs(smoke_age[0] - smoke_age[1]) * 12)"
   ]
  },
  {
   "cell_type": "markdown",
   "metadata": {},
   "source": [
    "#### ==>> implies selection 4 (20)"
   ]
  },
  {
   "cell_type": "markdown",
   "metadata": {
    "_uuid": "ac5d59876eb97782eab5f038aa8b2335e014d9bf"
   },
   "source": [
    "## 1.2. Risk maps\n",
    "### Task:"
   ]
  },
  {
   "cell_type": "markdown",
   "metadata": {
    "_uuid": "9efc6fd8ff26ea2ddf95e7e0b70ef3b802f83af5"
   },
   "source": [
    "On the website for the European Society of Cardiology, a [SCORE scale](https://www.escardio.org/Education/Practice-Tools/CVD-prevention-toolbox/SCORE-Risk-Charts) is provided. It is used for calculating the risk of death from a cardiovascular decease in the next 10 years. Here it is:\n",
    "<img src=https://habrastorage.org/webt/ik/gx/hr/ikgxhr3w1vzqihgitgrbdorfb14.png width=75%>\n",
    "\n",
    "Let's take a look at the upper-right rectangle, which shows a subset of smoking men aged from 60 to 65. (It's not obvious, but the values in the figure represent the upper bound).\n",
    "\n",
    "We see the value 9 in the lower-left corner of the rectangle and 47 in the upper-right. This means that, for people in this gender-age group whose systolic pressure is less than 120, the risk of a CVD is estimated to be 5 times lower than for those with the pressure in the interval [160,180).\n",
    "\n",
    "Let's calculate that same ratio using our data.\n",
    "\n",
    "Clarifications:\n",
    "- Calculate ``age_years`` feature – round age to the nearest number of years. For this task, select only the people of age 60 to 64, inclusive.\n",
    "- Cholesterol level categories differ between the figure and our dataset. The conversion for the ``cholesterol`` feature is as follows: 4 mmol/l $\\rightarrow$ 1, 5-7 mmol/l $\\rightarrow$ 2, 8 mmol/l $\\rightarrow$ 3."
   ]
  },
  {
   "cell_type": "code",
   "execution_count": 33,
   "metadata": {
    "_uuid": "8caffb39e65c95e4cfebfe448bbe224af4d0766c"
   },
   "outputs": [],
   "source": [
    "df['age_years'] = (df['age'] / 365.25).round().astype('int')"
   ]
  },
  {
   "cell_type": "code",
   "execution_count": 41,
   "metadata": {},
   "outputs": [],
   "source": [
    "smoking_older_men = df[(df['gender'] == 2) & (df['age_years'] >= 60)\n",
    "                        & (df['age_years'] < 65) & (df['smoke'] == 1)]"
   ]
  },
  {
   "cell_type": "markdown",
   "metadata": {
    "_uuid": "e71f8859a7fb8f23a78ac84b861d41c8f1b9e11f"
   },
   "source": [
    "**Question 1.5. (2 points). Calculate the fraction of the people with CVD for the two segments described above. What is the ratio of these two fractions?**\n",
    "\n",
    "1. 1\n",
    "2. 2\n",
    "3. 3\n",
    "4. 4"
   ]
  },
  {
   "cell_type": "code",
   "execution_count": 36,
   "metadata": {},
   "outputs": [],
   "source": [
    "lo_left = smoking_older_men[(smoking_older_men['cholesterol'] == 1) & \n",
    "                            (smoking_older_men['ap_hi'] < 120)]['cardio'].mean()"
   ]
  },
  {
   "cell_type": "code",
   "execution_count": 42,
   "metadata": {},
   "outputs": [],
   "source": [
    "up_right = smoking_older_men[(smoking_older_men['cholesterol'] == 3) &\n",
    "                             (smoking_older_men['ap_hi'] >= 160) &\n",
    "                             (smoking_older_men['ap_hi'] < 180)]['cardio'].mean()"
   ]
  },
  {
   "cell_type": "code",
   "execution_count": 43,
   "metadata": {},
   "outputs": [
    {
     "data": {
      "text/plain": [
       "3"
      ]
     },
     "execution_count": 43,
     "metadata": {},
     "output_type": "execute_result"
    }
   ],
   "source": [
    "round(up_right / lo_left)"
   ]
  },
  {
   "cell_type": "markdown",
   "metadata": {},
   "source": [
    "#### ==>> implies answer 3 (3)"
   ]
  },
  {
   "cell_type": "markdown",
   "metadata": {
    "_uuid": "54cef692e0af3745091c7177d63a2d6c36044474"
   },
   "source": [
    "## 1.3. Analyzing BMI\n",
    "### Task:"
   ]
  },
  {
   "cell_type": "markdown",
   "metadata": {
    "_uuid": "c52b4b1c20956e3cc420bb13e7bb12d80aa3ef1a"
   },
   "source": [
    "Create a new feature – BMI ([Body Mass Index](https://en.wikipedia.org/wiki/Body_mass_index)). To do this, divide weight in kilogramms by the square of the height in meters. Normal BMI values are said to be from 18.5 to 25. "
   ]
  },
  {
   "cell_type": "markdown",
   "metadata": {
    "_uuid": "1c2baed24cc5b3abb94b5c6c09d571f29b39213b"
   },
   "source": [
    "**Question 1.6. (2 points). Choose the correct statements:**\n",
    "\n",
    "1. Median BMI in the sample is within the range of normal BMI values.\n",
    "2. The BMI for women is on average higher than for men.\n",
    "3. Healthy people have, on average, a higher BMI than the people with CVD.\n",
    "4. For healthy, non-drinking men, BMI is closer to the norm than for healthy, non-drinking women"
   ]
  },
  {
   "cell_type": "code",
   "execution_count": 53,
   "metadata": {
    "_uuid": "5b3134f2597650ae95d0196393b30797518f0498"
   },
   "outputs": [
    {
     "data": {
      "text/plain": [
       "26.374068120774975"
      ]
     },
     "execution_count": 53,
     "metadata": {},
     "output_type": "execute_result"
    }
   ],
   "source": [
    "df['BMI'] = df.weight / (df.height  / 100 * df.height  / 100)\n",
    "df['BMI'].median()"
   ]
  },
  {
   "cell_type": "markdown",
   "metadata": {},
   "source": [
    "#### ==>> implies number 1 is incorrect"
   ]
  },
  {
   "cell_type": "code",
   "execution_count": 54,
   "metadata": {},
   "outputs": [
    {
     "data": {
      "text/plain": [
       "gender\n",
       "1    26.709402\n",
       "2    25.910684\n",
       "Name: BMI, dtype: float64"
      ]
     },
     "execution_count": 54,
     "metadata": {},
     "output_type": "execute_result"
    }
   ],
   "source": [
    "df.groupby('gender')['BMI'].median()"
   ]
  },
  {
   "cell_type": "markdown",
   "metadata": {},
   "source": [
    "#### ==>> implies number 2 is correct"
   ]
  },
  {
   "cell_type": "code",
   "execution_count": 56,
   "metadata": {},
   "outputs": [
    {
     "data": {
      "text/html": [
       "<div>\n",
       "<style scoped>\n",
       "    .dataframe tbody tr th:only-of-type {\n",
       "        vertical-align: middle;\n",
       "    }\n",
       "\n",
       "    .dataframe tbody tr th {\n",
       "        vertical-align: top;\n",
       "    }\n",
       "\n",
       "    .dataframe thead th {\n",
       "        text-align: right;\n",
       "    }\n",
       "</style>\n",
       "<table border=\"1\" class=\"dataframe\">\n",
       "  <thead>\n",
       "    <tr style=\"text-align: right;\">\n",
       "      <th></th>\n",
       "      <th></th>\n",
       "      <th></th>\n",
       "      <th>BMI</th>\n",
       "    </tr>\n",
       "    <tr>\n",
       "      <th>gender</th>\n",
       "      <th>alco</th>\n",
       "      <th>cardio</th>\n",
       "      <th></th>\n",
       "    </tr>\n",
       "  </thead>\n",
       "  <tbody>\n",
       "    <tr>\n",
       "      <th rowspan=\"4\" valign=\"top\">1</th>\n",
       "      <th rowspan=\"2\" valign=\"top\">0</th>\n",
       "      <th>0</th>\n",
       "      <td>25.654372</td>\n",
       "    </tr>\n",
       "    <tr>\n",
       "      <th>1</th>\n",
       "      <td>27.885187</td>\n",
       "    </tr>\n",
       "    <tr>\n",
       "      <th rowspan=\"2\" valign=\"top\">1</th>\n",
       "      <th>0</th>\n",
       "      <td>27.885187</td>\n",
       "    </tr>\n",
       "    <tr>\n",
       "      <th>1</th>\n",
       "      <td>30.110991</td>\n",
       "    </tr>\n",
       "    <tr>\n",
       "      <th rowspan=\"4\" valign=\"top\">2</th>\n",
       "      <th rowspan=\"2\" valign=\"top\">0</th>\n",
       "      <th>0</th>\n",
       "      <td>25.102391</td>\n",
       "    </tr>\n",
       "    <tr>\n",
       "      <th>1</th>\n",
       "      <td>26.674874</td>\n",
       "    </tr>\n",
       "    <tr>\n",
       "      <th rowspan=\"2\" valign=\"top\">1</th>\n",
       "      <th>0</th>\n",
       "      <td>25.351541</td>\n",
       "    </tr>\n",
       "    <tr>\n",
       "      <th>1</th>\n",
       "      <td>27.530797</td>\n",
       "    </tr>\n",
       "  </tbody>\n",
       "</table>\n",
       "</div>"
      ],
      "text/plain": [
       "                          BMI\n",
       "gender alco cardio           \n",
       "1      0    0       25.654372\n",
       "            1       27.885187\n",
       "       1    0       27.885187\n",
       "            1       30.110991\n",
       "2      0    0       25.102391\n",
       "            1       26.674874\n",
       "       1    0       25.351541\n",
       "            1       27.530797"
      ]
     },
     "execution_count": 56,
     "metadata": {},
     "output_type": "execute_result"
    }
   ],
   "source": [
    "df.groupby(['gender', 'alco', 'cardio'])['BMI'].median().to_frame()"
   ]
  },
  {
   "cell_type": "markdown",
   "metadata": {},
   "source": [
    "#### ==>> implies number 4 is correct"
   ]
  },
  {
   "cell_type": "markdown",
   "metadata": {
    "_uuid": "2e059032eee1d57c896e24a98b659a5ab16144fd"
   },
   "source": [
    "## 1.4. Cleaning data"
   ]
  },
  {
   "cell_type": "markdown",
   "metadata": {
    "_uuid": "26ccfbcb212c3631b4941a294906c027b974301a"
   },
   "source": [
    "### Task:\n",
    "We can see that the data is not perfect. It contains \"dirt\" and inaccuracies. We'll see this better as we visualize the data.\n",
    "\n",
    "Filter out the following patient segments (we consider these as erroneous data)\n",
    "\n",
    "- diastolic pressure is higher than systolic \n",
    "- height is strictly less than 2.5 percentile (Use `pd.Series.quantile` to compute this value. If you are not familiar with the function, please read the docs.)\n",
    "- height is strictly more than 97.5 percentile\n",
    "- weight is strictly less than 2.5 percentile\n",
    "- weight is strictly more than 97.5 percentile\n",
    "\n",
    "This is not everything that we can do to clean this data, but this is sufficient for now."
   ]
  },
  {
   "cell_type": "code",
   "execution_count": 57,
   "metadata": {
    "_uuid": "483fd26f0aff141810dcb084095c380acafbfbdd"
   },
   "outputs": [],
   "source": [
    "filtered_df = df[(df['ap_lo'] <= df['ap_hi']) & \n",
    "                 (df['height'] >= df['height'].quantile(0.025)) &\n",
    "                 (df['height'] <= df['height'].quantile(0.975)) &\n",
    "                 (df['weight'] >= df['weight'].quantile(0.025)) & \n",
    "                 (df['weight'] <= df['weight'].quantile(0.975))]"
   ]
  },
  {
   "cell_type": "markdown",
   "metadata": {
    "_uuid": "f807adaa6459d1c75d202bb973831369d6eeb20e"
   },
   "source": [
    "**Question 1.7. (2 points). What percent of the original data (rounded) did we throw away?**\n",
    "\n",
    "1. 8\n",
    "2. 9\n",
    "3. 10\n",
    "4. 11"
   ]
  },
  {
   "cell_type": "code",
   "execution_count": 63,
   "metadata": {},
   "outputs": [
    {
     "name": "stdout",
     "output_type": "stream",
     "text": [
      "Percentage of data dropped: 10\n"
     ]
    }
   ],
   "source": [
    "print(\"Percentage of data dropped:\", round((1 - (filtered_df.shape[0] / df.shape[0]))*100))"
   ]
  },
  {
   "cell_type": "markdown",
   "metadata": {},
   "source": [
    "#### ==>> implies selection 3 (10)"
   ]
  },
  {
   "cell_type": "markdown",
   "metadata": {
    "_uuid": "a9f14b459f71ac2304e73145fc199a90131965e7"
   },
   "source": [
    "# Part 2. Visual data analysis\n",
    "\n",
    "## 2.1. Correlation matrix visualization\n",
    "\n",
    "To understand the features better, you can create a matrix of the correlation coefficients between the features. Use the initial dataset (non-filtered).\n",
    "\n",
    "### Task:\n",
    "\n",
    "Plot a correlation matrix using [`heatmap()`](http://seaborn.pydata.org/generated/seaborn.heatmap.html). You can create the matrix using the standard `pandas` tools with the default parameters."
   ]
  },
  {
   "cell_type": "markdown",
   "metadata": {
    "_uuid": "987ff630db004c51cc9e89e0c6cf6d14d619c4c0"
   },
   "source": [
    "** Question 2.1. (1 point).** Which pair of features has the strongest Pearson's correlation with the *gender* feature?\n",
    "\n",
    "1. Cardio, Cholesterol\n",
    "2. Height, Smoke\n",
    "3. Smoke, Alco\n",
    "4. Height, Weight"
   ]
  },
  {
   "cell_type": "code",
   "execution_count": 67,
   "metadata": {
    "_uuid": "a9c19a7bf2dd564b484e8269886340c13967fede"
   },
   "outputs": [
    {
     "data": {
      "image/png": "[encoded data removed]",
      "text/plain": [
       "<Figure size 1008x756 with 2 Axes>"
      ]
     },
     "metadata": {
      "needs_background": "light"
     },
     "output_type": "display_data"
    }
   ],
   "source": [
    "# Calculate the correlation matrix\n",
    "df = filtered_df.copy()\n",
    "\n",
    "corr = df.corr(method='pearson')\n",
    "\n",
    "# Create a mask to hide the upper triangle of the correlation matrix (which is symmetric)\n",
    "mask = np.zeros_like(corr, dtype=np.bool)\n",
    "mask[np.triu_indices_from(mask)] = True\n",
    "\n",
    "f, ax = plt.subplots(figsize=(14, 10.5))\n",
    "\n",
    "sns.heatmap(corr, mask=mask, vmax=1, center=0, annot=True, fmt='.2f',\n",
    "            square=True, linewidths=.5, cbar_kws={\"shrink\": .5});"
   ]
  },
  {
   "cell_type": "markdown",
   "metadata": {},
   "source": [
    "#### ==>> implies selection 2 (Height, Smoke)"
   ]
  },
  {
   "cell_type": "markdown",
   "metadata": {
    "_uuid": "01edf6a3a68f47f07164b3e4cb9e6ab5ef1efcd6"
   },
   "source": [
    "## 2.2. Height distribution of men and women\n",
    "\n",
    "From our exploration of the unique values earlier, we know that the gender is encoded by the values *1* and *2*. Although you do not know the mapping of these values to gender, you can figure that out graphically by looking at the mean values of height and weight for each value of the *gender* feature.\n",
    "\n",
    "### Task:\n",
    "\n",
    "Create a violin plot for the height and gender using [`violinplot()`](https://seaborn.pydata.org/generated/seaborn.violinplot.html). Use the parameters:\n",
    "- `hue` to split by gender;\n",
    "- `scale` to evaluate the number of records for each gender.\n",
    "\n",
    "In order for the plot to render correctly, you need to convert your `DataFrame` to *long* format using the `melt()` function from `pandas`. Here is [an example](https://stackoverflow.com/a/41575149/3338479) of this for your reference."
   ]
  },
  {
   "cell_type": "code",
   "execution_count": 68,
   "metadata": {
    "_uuid": "71d38ccddbe26ca51c69fbdba7cc4405ee459de4"
   },
   "outputs": [
    {
     "data": {
      "image/png": "[encoded data removed]",
      "text/plain": [
       "<Figure size 864x720 with 1 Axes>"
      ]
     },
     "metadata": {
      "needs_background": "light"
     },
     "output_type": "display_data"
    }
   ],
   "source": [
    "df_melt = pd.melt(frame=df, value_vars=['height'], id_vars=['gender'])\n",
    "\n",
    "plt.figure(figsize=(12, 10))\n",
    "ax = sns.violinplot(\n",
    "    x='variable', \n",
    "    y='value', \n",
    "    hue='gender', \n",
    "    palette=\"muted\", \n",
    "    split=True, \n",
    "    data=df_melt, \n",
    "    scale='count',\n",
    "    scale_hue=False\n",
    ")"
   ]
  },
  {
   "cell_type": "markdown",
   "metadata": {},
   "source": [
    "## 2.3. Rank correlation\n",
    "\n",
    "In most cases, *the Pearson coefficient of linear correlation* is more than enough to discover patterns in data. \n",
    "But let's go a little further and calculate a [rank correlation](https://en.wikipedia.org/wiki/Rank_correlation). It will help us to identify such feature pairs in which the lower rank in the variational series of one feature always precedes the higher rank in the another one (and we have the opposite in the case of negative correlation).\n",
    "\n",
    "### Task:\n",
    "\n",
    "Calculate and plot a correlation matrix using the [Spearman's rank correlation coefficient](https://en.wikipedia.org/wiki/Spearman%27s_rank_correlation_coefficient).\n"
   ]
  },
  {
   "cell_type": "code",
   "execution_count": 69,
   "metadata": {},
   "outputs": [
    {
     "data": {
      "image/png": "[encoded data removed]",
      "text/plain": [
       "<Figure size 576x432 with 2 Axes>"
      ]
     },
     "metadata": {
      "needs_background": "light"
     },
     "output_type": "display_data"
    }
   ],
   "source": [
    "# Calculate the correlation matrix\n",
    "corr = df[['id', 'age', 'height', 'weight', \n",
    "           'ap_hi', 'ap_lo', 'cholesterol', \n",
    "           'gluc']].corr(method='spearman')\n",
    "\n",
    "# Create a mask to hide the upper triangle of the correlation matrix (which is symmetric)\n",
    "mask = np.zeros_like(corr, dtype=np.bool)\n",
    "mask[np.triu_indices_from(mask)] = True\n",
    "\n",
    "f, ax = plt.subplots(figsize=(8, 6))\n",
    "\n",
    "# Plot the heatmap using the mask and correct aspect ratio\n",
    "sns.heatmap(corr, mask=mask, vmax=1, center=0, annot=True, fmt='.2f',\n",
    "            square=True, linewidths=.5, cbar_kws={\"shrink\": .5});"
   ]
  },
  {
   "cell_type": "markdown",
   "metadata": {},
   "source": [
    "**Question 2.3a. (1 point).** Which pair of features has the strongest Spearman correlation?\n",
    "\n",
    "1. Height, Weight\n",
    "2. Age, Weight\n",
    "3. Cholesterol, Gluc\n",
    "4. Cardio, Cholesterol\n",
    "5. Ap_hi, Ap_lo\n",
    "6. Smoke, Alco"
   ]
  },
  {
   "cell_type": "markdown",
   "metadata": {},
   "source": [
    "#### ==>> implies selection 5 (Ap_hi, Ap_lo)"
   ]
  },
  {
   "cell_type": "markdown",
   "metadata": {
    "_uuid": "2282d0651afdbe69cdb68b266e509f20a865a63f"
   },
   "source": [
    "**Question 2.3b. (1 point).** Why do these features have strong rank correlation?\n",
    "\n",
    "1. Inaccuracies in the data (data acquisition errors).\n",
    "2. Relation is wrong, these features should not be related.\n",
    "3. Nature of the data."
   ]
  },
  {
   "cell_type": "markdown",
   "metadata": {},
   "source": [
    "#### ==>> #3 - Nature of the data."
   ]
  },
  {
   "cell_type": "markdown",
   "metadata": {
    "_uuid": "25b4b303156fd6f9178c9b23fba4ff3f220a5977"
   },
   "source": [
    "## 2.4. Age\n",
    "\n",
    "Previously, we calculated the age of the respondents in years at the moment of examination."
   ]
  },
  {
   "cell_type": "markdown",
   "metadata": {
    "_uuid": "d48bb97cba3968e7f73c790226278f6fa818871b"
   },
   "source": [
    "### Task:\n",
    "\n",
    "Create a *count plot* using [`countplot()`](http://seaborn.pydata.org/generated/seaborn.countplot.html) with the age on the *X* axis and the number of people on the *Y* axis. Your resulting plot should have two columns for each age, corresponding to the number of people for each *cardio* class of that age."
   ]
  },
  {
   "cell_type": "code",
   "execution_count": 71,
   "metadata": {
    "_uuid": "fd07f3aab9891fd86228d5880a7a38cc88b282ba"
   },
   "outputs": [
    {
     "data": {
      "image/png": "[encoded data removed]",
      "text/plain": [
       "<Figure size 864x648 with 1 Axes>"
      ]
     },
     "metadata": {
      "needs_background": "light"
     },
     "output_type": "display_data"
    }
   ],
   "source": [
    "f, ax = plt.subplots(figsize=(12, 9))\n",
    "sns.countplot(x=\"age_years\", hue='cardio', data=df);"
   ]
  },
  {
   "cell_type": "markdown",
   "metadata": {
    "_uuid": "49557c7bd46d729c27aa8190df65cc25e45e7528"
   },
   "source": [
    "**Question 2.4. (1 point).** What is the smallest age at which the number of people with CVD outnumber the number of people without CVD?\n",
    "\n",
    "1. 44\n",
    "2. 55\n",
    "3. 64\n",
    "4. 70"
   ]
  },
  {
   "cell_type": "markdown",
   "metadata": {},
   "source": [
    "#### ==>> implies selection 2 (55)"
   ]
  }
 ],
 "metadata": {
  "anaconda-cloud": {},
  "kernelspec": {
   "display_name": "Python 3",
   "language": "python",
   "name": "python3"
  },
  "language_info": {
   "codemirror_mode": {
    "name": "ipython",
    "version": 3
   },
   "file_extension": ".py",
   "mimetype": "text/x-python",
   "name": "python",
   "nbconvert_exporter": "python",
   "pygments_lexer": "ipython3",
   "version": "3.6.6"
  }
 },
 "nbformat": 4,
 "nbformat_minor": 4
}
