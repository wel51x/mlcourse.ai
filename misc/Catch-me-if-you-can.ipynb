{
 "cells": [
  {
   "cell_type": "code",
   "execution_count": 10,
   "metadata": {},
   "outputs": [
    {
     "name": "stdout",
     "output_type": "stream",
     "text": [
      "/notebooks\n"
     ]
    }
   ],
   "source": [
    "%cd /notebooks\n",
    "datadir = \"data/kaggle_catch-me-if-you-can/\""
   ]
  },
  {
   "cell_type": "code",
   "execution_count": 30,
   "metadata": {},
   "outputs": [],
   "source": [
    "from __future__ import division, print_function\n",
    "import warnings\n",
    "warnings.filterwarnings('ignore')\n",
    "import os\n",
    "import pickle\n",
    "import numpy as np\n",
    "import pandas as pd\n",
    "from scipy.sparse import csr_matrix\n",
    "from sklearn.model_selection import train_test_split\n",
    "from sklearn.linear_model import SGDClassifier\n",
    "from sklearn.metrics import roc_auc_score\n",
    "from sklearn import feature_extraction\n",
    "from sklearn.preprocessing import StandardScaler\n",
    "from scipy.sparse import hstack\n"
   ]
  },
  {
   "cell_type": "code",
   "execution_count": 11,
   "metadata": {},
   "outputs": [],
   "source": [
    "train = pd.read_csv(datadir + 'train_sessions.csv', index_col='session_id')\n",
    "test = pd.read_csv(os.path.join(datadir, 'test_sessions.csv'), index_col='session_id')"
   ]
  },
  {
   "cell_type": "code",
   "execution_count": 12,
   "metadata": {},
   "outputs": [],
   "source": [
    "# combine the two\n",
    "sum_data = pd.concat([train, test])"
   ]
  },
  {
   "cell_type": "code",
   "execution_count": 13,
   "metadata": {},
   "outputs": [],
   "source": [
    "# misc pre-processing\n",
    "site_cols = ['site%d' % i for i in range(1, 11)]\n",
    "time_cols = ['time%d' % i for i in range(1, 11)]\n",
    "\n",
    "sum_data[site_cols] = sum_data[site_cols].fillna(0).astype(np.int).astype(np.str)\n",
    "sum_data[time_cols] = sum_data[time_cols].apply(pd.to_datetime)"
   ]
  },
  {
   "cell_type": "code",
   "execution_count": 14,
   "metadata": {},
   "outputs": [
    {
     "data": {
      "text/html": [
       "<div>\n",
       "<style scoped>\n",
       "    .dataframe tbody tr th:only-of-type {\n",
       "        vertical-align: middle;\n",
       "    }\n",
       "\n",
       "    .dataframe tbody tr th {\n",
       "        vertical-align: top;\n",
       "    }\n",
       "\n",
       "    .dataframe thead th {\n",
       "        text-align: right;\n",
       "    }\n",
       "</style>\n",
       "<table border=\"1\" class=\"dataframe\">\n",
       "  <thead>\n",
       "    <tr style=\"text-align: right;\">\n",
       "      <th></th>\n",
       "      <th>site1</th>\n",
       "      <th>site10</th>\n",
       "      <th>site2</th>\n",
       "      <th>site3</th>\n",
       "      <th>site4</th>\n",
       "      <th>site5</th>\n",
       "      <th>site6</th>\n",
       "      <th>site7</th>\n",
       "      <th>site8</th>\n",
       "      <th>site9</th>\n",
       "      <th>...</th>\n",
       "      <th>time1</th>\n",
       "      <th>time10</th>\n",
       "      <th>time2</th>\n",
       "      <th>time3</th>\n",
       "      <th>time4</th>\n",
       "      <th>time5</th>\n",
       "      <th>time6</th>\n",
       "      <th>time7</th>\n",
       "      <th>time8</th>\n",
       "      <th>time9</th>\n",
       "    </tr>\n",
       "    <tr>\n",
       "      <th>session_id</th>\n",
       "      <th></th>\n",
       "      <th></th>\n",
       "      <th></th>\n",
       "      <th></th>\n",
       "      <th></th>\n",
       "      <th></th>\n",
       "      <th></th>\n",
       "      <th></th>\n",
       "      <th></th>\n",
       "      <th></th>\n",
       "      <th></th>\n",
       "      <th></th>\n",
       "      <th></th>\n",
       "      <th></th>\n",
       "      <th></th>\n",
       "      <th></th>\n",
       "      <th></th>\n",
       "      <th></th>\n",
       "      <th></th>\n",
       "      <th></th>\n",
       "      <th></th>\n",
       "    </tr>\n",
       "  </thead>\n",
       "  <tbody>\n",
       "    <tr>\n",
       "      <th>1</th>\n",
       "      <td>718</td>\n",
       "      <td>0</td>\n",
       "      <td>0</td>\n",
       "      <td>0</td>\n",
       "      <td>0</td>\n",
       "      <td>0</td>\n",
       "      <td>0</td>\n",
       "      <td>0</td>\n",
       "      <td>0</td>\n",
       "      <td>0</td>\n",
       "      <td>...</td>\n",
       "      <td>2014-02-20 10:02:45</td>\n",
       "      <td>NaT</td>\n",
       "      <td>NaT</td>\n",
       "      <td>NaT</td>\n",
       "      <td>NaT</td>\n",
       "      <td>NaT</td>\n",
       "      <td>NaT</td>\n",
       "      <td>NaT</td>\n",
       "      <td>NaT</td>\n",
       "      <td>NaT</td>\n",
       "    </tr>\n",
       "    <tr>\n",
       "      <th>2</th>\n",
       "      <td>890</td>\n",
       "      <td>1518</td>\n",
       "      <td>941</td>\n",
       "      <td>3847</td>\n",
       "      <td>941</td>\n",
       "      <td>942</td>\n",
       "      <td>3846</td>\n",
       "      <td>3847</td>\n",
       "      <td>3846</td>\n",
       "      <td>1516</td>\n",
       "      <td>...</td>\n",
       "      <td>2014-02-22 11:19:50</td>\n",
       "      <td>2014-02-22 11:20:16</td>\n",
       "      <td>2014-02-22 11:19:50</td>\n",
       "      <td>2014-02-22 11:19:51</td>\n",
       "      <td>2014-02-22 11:19:51</td>\n",
       "      <td>2014-02-22 11:19:51</td>\n",
       "      <td>2014-02-22 11:19:51</td>\n",
       "      <td>2014-02-22 11:19:52</td>\n",
       "      <td>2014-02-22 11:19:52</td>\n",
       "      <td>2014-02-22 11:20:15</td>\n",
       "    </tr>\n",
       "    <tr>\n",
       "      <th>3</th>\n",
       "      <td>14769</td>\n",
       "      <td>14768</td>\n",
       "      <td>39</td>\n",
       "      <td>14768</td>\n",
       "      <td>14769</td>\n",
       "      <td>37</td>\n",
       "      <td>39</td>\n",
       "      <td>14768</td>\n",
       "      <td>14768</td>\n",
       "      <td>14768</td>\n",
       "      <td>...</td>\n",
       "      <td>2013-12-16 16:40:17</td>\n",
       "      <td>2013-12-16 16:40:24</td>\n",
       "      <td>2013-12-16 16:40:18</td>\n",
       "      <td>2013-12-16 16:40:19</td>\n",
       "      <td>2013-12-16 16:40:19</td>\n",
       "      <td>2013-12-16 16:40:19</td>\n",
       "      <td>2013-12-16 16:40:19</td>\n",
       "      <td>2013-12-16 16:40:20</td>\n",
       "      <td>2013-12-16 16:40:21</td>\n",
       "      <td>2013-12-16 16:40:22</td>\n",
       "    </tr>\n",
       "    <tr>\n",
       "      <th>4</th>\n",
       "      <td>782</td>\n",
       "      <td>782</td>\n",
       "      <td>782</td>\n",
       "      <td>782</td>\n",
       "      <td>782</td>\n",
       "      <td>782</td>\n",
       "      <td>782</td>\n",
       "      <td>782</td>\n",
       "      <td>782</td>\n",
       "      <td>782</td>\n",
       "      <td>...</td>\n",
       "      <td>2014-03-28 10:52:12</td>\n",
       "      <td>2014-03-28 10:56:42</td>\n",
       "      <td>2014-03-28 10:52:42</td>\n",
       "      <td>2014-03-28 10:53:12</td>\n",
       "      <td>2014-03-28 10:53:42</td>\n",
       "      <td>2014-03-28 10:54:12</td>\n",
       "      <td>2014-03-28 10:54:42</td>\n",
       "      <td>2014-03-28 10:55:12</td>\n",
       "      <td>2014-03-28 10:55:42</td>\n",
       "      <td>2014-03-28 10:56:12</td>\n",
       "    </tr>\n",
       "    <tr>\n",
       "      <th>5</th>\n",
       "      <td>22</td>\n",
       "      <td>178</td>\n",
       "      <td>177</td>\n",
       "      <td>175</td>\n",
       "      <td>178</td>\n",
       "      <td>177</td>\n",
       "      <td>178</td>\n",
       "      <td>175</td>\n",
       "      <td>177</td>\n",
       "      <td>177</td>\n",
       "      <td>...</td>\n",
       "      <td>2014-02-28 10:53:05</td>\n",
       "      <td>2014-02-28 10:57:11</td>\n",
       "      <td>2014-02-28 10:55:22</td>\n",
       "      <td>2014-02-28 10:55:22</td>\n",
       "      <td>2014-02-28 10:55:23</td>\n",
       "      <td>2014-02-28 10:55:23</td>\n",
       "      <td>2014-02-28 10:55:59</td>\n",
       "      <td>2014-02-28 10:55:59</td>\n",
       "      <td>2014-02-28 10:55:59</td>\n",
       "      <td>2014-02-28 10:57:06</td>\n",
       "    </tr>\n",
       "    <tr>\n",
       "      <th>...</th>\n",
       "      <td>...</td>\n",
       "      <td>...</td>\n",
       "      <td>...</td>\n",
       "      <td>...</td>\n",
       "      <td>...</td>\n",
       "      <td>...</td>\n",
       "      <td>...</td>\n",
       "      <td>...</td>\n",
       "      <td>...</td>\n",
       "      <td>...</td>\n",
       "      <td>...</td>\n",
       "      <td>...</td>\n",
       "      <td>...</td>\n",
       "      <td>...</td>\n",
       "      <td>...</td>\n",
       "      <td>...</td>\n",
       "      <td>...</td>\n",
       "      <td>...</td>\n",
       "      <td>...</td>\n",
       "      <td>...</td>\n",
       "      <td>...</td>\n",
       "    </tr>\n",
       "    <tr>\n",
       "      <th>82793</th>\n",
       "      <td>812</td>\n",
       "      <td>0</td>\n",
       "      <td>1039</td>\n",
       "      <td>676</td>\n",
       "      <td>0</td>\n",
       "      <td>0</td>\n",
       "      <td>0</td>\n",
       "      <td>0</td>\n",
       "      <td>0</td>\n",
       "      <td>0</td>\n",
       "      <td>...</td>\n",
       "      <td>2014-10-02 18:20:09</td>\n",
       "      <td>NaT</td>\n",
       "      <td>2014-10-02 18:20:09</td>\n",
       "      <td>2014-10-02 18:20:09</td>\n",
       "      <td>NaT</td>\n",
       "      <td>NaT</td>\n",
       "      <td>NaT</td>\n",
       "      <td>NaT</td>\n",
       "      <td>NaT</td>\n",
       "      <td>NaT</td>\n",
       "    </tr>\n",
       "    <tr>\n",
       "      <th>82794</th>\n",
       "      <td>300</td>\n",
       "      <td>1216</td>\n",
       "      <td>302</td>\n",
       "      <td>302</td>\n",
       "      <td>300</td>\n",
       "      <td>300</td>\n",
       "      <td>1222</td>\n",
       "      <td>302</td>\n",
       "      <td>1218</td>\n",
       "      <td>1221</td>\n",
       "      <td>...</td>\n",
       "      <td>2014-05-26 14:16:40</td>\n",
       "      <td>2014-05-26 14:17:19</td>\n",
       "      <td>2014-05-26 14:16:41</td>\n",
       "      <td>2014-05-26 14:16:44</td>\n",
       "      <td>2014-05-26 14:16:44</td>\n",
       "      <td>2014-05-26 14:17:19</td>\n",
       "      <td>2014-05-26 14:17:19</td>\n",
       "      <td>2014-05-26 14:17:19</td>\n",
       "      <td>2014-05-26 14:17:19</td>\n",
       "      <td>2014-05-26 14:17:19</td>\n",
       "    </tr>\n",
       "    <tr>\n",
       "      <th>82795</th>\n",
       "      <td>29</td>\n",
       "      <td>6780</td>\n",
       "      <td>33</td>\n",
       "      <td>35</td>\n",
       "      <td>22</td>\n",
       "      <td>37</td>\n",
       "      <td>6779</td>\n",
       "      <td>30</td>\n",
       "      <td>21</td>\n",
       "      <td>23</td>\n",
       "      <td>...</td>\n",
       "      <td>2014-05-02 11:21:56</td>\n",
       "      <td>2014-05-02 11:22:04</td>\n",
       "      <td>2014-05-02 11:21:56</td>\n",
       "      <td>2014-05-02 11:21:56</td>\n",
       "      <td>2014-05-02 11:22:03</td>\n",
       "      <td>2014-05-02 11:22:03</td>\n",
       "      <td>2014-05-02 11:22:03</td>\n",
       "      <td>2014-05-02 11:22:03</td>\n",
       "      <td>2014-05-02 11:22:04</td>\n",
       "      <td>2014-05-02 11:22:04</td>\n",
       "    </tr>\n",
       "    <tr>\n",
       "      <th>82796</th>\n",
       "      <td>5828</td>\n",
       "      <td>961</td>\n",
       "      <td>23</td>\n",
       "      <td>21</td>\n",
       "      <td>804</td>\n",
       "      <td>21</td>\n",
       "      <td>3350</td>\n",
       "      <td>23</td>\n",
       "      <td>894</td>\n",
       "      <td>21</td>\n",
       "      <td>...</td>\n",
       "      <td>2014-05-03 10:05:25</td>\n",
       "      <td>2014-05-03 10:05:38</td>\n",
       "      <td>2014-05-03 10:05:27</td>\n",
       "      <td>2014-05-03 10:05:27</td>\n",
       "      <td>2014-05-03 10:05:27</td>\n",
       "      <td>2014-05-03 10:05:36</td>\n",
       "      <td>2014-05-03 10:05:37</td>\n",
       "      <td>2014-05-03 10:05:37</td>\n",
       "      <td>2014-05-03 10:05:38</td>\n",
       "      <td>2014-05-03 10:05:38</td>\n",
       "    </tr>\n",
       "    <tr>\n",
       "      <th>82797</th>\n",
       "      <td>21</td>\n",
       "      <td>1098</td>\n",
       "      <td>1098</td>\n",
       "      <td>1098</td>\n",
       "      <td>1098</td>\n",
       "      <td>1098</td>\n",
       "      <td>1098</td>\n",
       "      <td>1098</td>\n",
       "      <td>1098</td>\n",
       "      <td>1098</td>\n",
       "      <td>...</td>\n",
       "      <td>2014-11-02 10:46:57</td>\n",
       "      <td>2014-11-02 10:47:47</td>\n",
       "      <td>2014-11-02 10:46:57</td>\n",
       "      <td>2014-11-02 10:46:58</td>\n",
       "      <td>2014-11-02 10:47:12</td>\n",
       "      <td>2014-11-02 10:47:13</td>\n",
       "      <td>2014-11-02 10:47:14</td>\n",
       "      <td>2014-11-02 10:47:15</td>\n",
       "      <td>2014-11-02 10:47:18</td>\n",
       "      <td>2014-11-02 10:47:42</td>\n",
       "    </tr>\n",
       "  </tbody>\n",
       "</table>\n",
       "<p>336358 rows × 21 columns</p>\n",
       "</div>"
      ],
      "text/plain": [
       "            site1 site10 site2  site3  site4 site5 site6  site7  site8  site9  \\\n",
       "session_id                                                                      \n",
       "1             718      0     0      0      0     0     0      0      0      0   \n",
       "2             890   1518   941   3847    941   942  3846   3847   3846   1516   \n",
       "3           14769  14768    39  14768  14769    37    39  14768  14768  14768   \n",
       "4             782    782   782    782    782   782   782    782    782    782   \n",
       "5              22    178   177    175    178   177   178    175    177    177   \n",
       "...           ...    ...   ...    ...    ...   ...   ...    ...    ...    ...   \n",
       "82793         812      0  1039    676      0     0     0      0      0      0   \n",
       "82794         300   1216   302    302    300   300  1222    302   1218   1221   \n",
       "82795          29   6780    33     35     22    37  6779     30     21     23   \n",
       "82796        5828    961    23     21    804    21  3350     23    894     21   \n",
       "82797          21   1098  1098   1098   1098  1098  1098   1098   1098   1098   \n",
       "\n",
       "            ...               time1              time10               time2  \\\n",
       "session_id  ...                                                               \n",
       "1           ... 2014-02-20 10:02:45                 NaT                 NaT   \n",
       "2           ... 2014-02-22 11:19:50 2014-02-22 11:20:16 2014-02-22 11:19:50   \n",
       "3           ... 2013-12-16 16:40:17 2013-12-16 16:40:24 2013-12-16 16:40:18   \n",
       "4           ... 2014-03-28 10:52:12 2014-03-28 10:56:42 2014-03-28 10:52:42   \n",
       "5           ... 2014-02-28 10:53:05 2014-02-28 10:57:11 2014-02-28 10:55:22   \n",
       "...         ...                 ...                 ...                 ...   \n",
       "82793       ... 2014-10-02 18:20:09                 NaT 2014-10-02 18:20:09   \n",
       "82794       ... 2014-05-26 14:16:40 2014-05-26 14:17:19 2014-05-26 14:16:41   \n",
       "82795       ... 2014-05-02 11:21:56 2014-05-02 11:22:04 2014-05-02 11:21:56   \n",
       "82796       ... 2014-05-03 10:05:25 2014-05-03 10:05:38 2014-05-03 10:05:27   \n",
       "82797       ... 2014-11-02 10:46:57 2014-11-02 10:47:47 2014-11-02 10:46:57   \n",
       "\n",
       "                         time3               time4               time5  \\\n",
       "session_id                                                               \n",
       "1                          NaT                 NaT                 NaT   \n",
       "2          2014-02-22 11:19:51 2014-02-22 11:19:51 2014-02-22 11:19:51   \n",
       "3          2013-12-16 16:40:19 2013-12-16 16:40:19 2013-12-16 16:40:19   \n",
       "4          2014-03-28 10:53:12 2014-03-28 10:53:42 2014-03-28 10:54:12   \n",
       "5          2014-02-28 10:55:22 2014-02-28 10:55:23 2014-02-28 10:55:23   \n",
       "...                        ...                 ...                 ...   \n",
       "82793      2014-10-02 18:20:09                 NaT                 NaT   \n",
       "82794      2014-05-26 14:16:44 2014-05-26 14:16:44 2014-05-26 14:17:19   \n",
       "82795      2014-05-02 11:21:56 2014-05-02 11:22:03 2014-05-02 11:22:03   \n",
       "82796      2014-05-03 10:05:27 2014-05-03 10:05:27 2014-05-03 10:05:36   \n",
       "82797      2014-11-02 10:46:58 2014-11-02 10:47:12 2014-11-02 10:47:13   \n",
       "\n",
       "                         time6               time7               time8  \\\n",
       "session_id                                                               \n",
       "1                          NaT                 NaT                 NaT   \n",
       "2          2014-02-22 11:19:51 2014-02-22 11:19:52 2014-02-22 11:19:52   \n",
       "3          2013-12-16 16:40:19 2013-12-16 16:40:20 2013-12-16 16:40:21   \n",
       "4          2014-03-28 10:54:42 2014-03-28 10:55:12 2014-03-28 10:55:42   \n",
       "5          2014-02-28 10:55:59 2014-02-28 10:55:59 2014-02-28 10:55:59   \n",
       "...                        ...                 ...                 ...   \n",
       "82793                      NaT                 NaT                 NaT   \n",
       "82794      2014-05-26 14:17:19 2014-05-26 14:17:19 2014-05-26 14:17:19   \n",
       "82795      2014-05-02 11:22:03 2014-05-02 11:22:03 2014-05-02 11:22:04   \n",
       "82796      2014-05-03 10:05:37 2014-05-03 10:05:37 2014-05-03 10:05:38   \n",
       "82797      2014-11-02 10:47:14 2014-11-02 10:47:15 2014-11-02 10:47:18   \n",
       "\n",
       "                         time9  \n",
       "session_id                      \n",
       "1                          NaT  \n",
       "2          2014-02-22 11:20:15  \n",
       "3          2013-12-16 16:40:22  \n",
       "4          2014-03-28 10:56:12  \n",
       "5          2014-02-28 10:57:06  \n",
       "...                        ...  \n",
       "82793                      NaT  \n",
       "82794      2014-05-26 14:17:19  \n",
       "82795      2014-05-02 11:22:04  \n",
       "82796      2014-05-03 10:05:38  \n",
       "82797      2014-11-02 10:47:42  \n",
       "\n",
       "[336358 rows x 21 columns]"
      ]
     },
     "execution_count": 14,
     "metadata": {},
     "output_type": "execute_result"
    }
   ],
   "source": [
    "sum_data"
   ]
  },
  {
   "cell_type": "code",
   "execution_count": 16,
   "metadata": {},
   "outputs": [
    {
     "name": "stdout",
     "output_type": "stream",
     "text": [
      "Number of sessions: 336358\n"
     ]
    }
   ],
   "source": [
    "# create a discharged matrix in the form of a \"word bag\" on the sites\n",
    "def join_str(row):\n",
    "    return ' '.join(row)\n",
    "\n",
    "site_text_data = sum_data[site_cols].apply(join_str, axis=1)\n",
    "print('Number of sessions: {}'.format(site_text_data.shape[0]))"
   ]
  },
  {
   "cell_type": "code",
   "execution_count": 18,
   "metadata": {},
   "outputs": [],
   "source": [
    "vectorizer = feature_extraction.text.TfidfVectorizer()\n",
    "sum_data_site_sparse = vectorizer.fit_transform(site_text_data)"
   ]
  },
  {
   "cell_type": "code",
   "execution_count": 19,
   "metadata": {},
   "outputs": [
    {
     "name": "stdout",
     "output_type": "stream",
     "text": [
      "Matrix dimensions: (336358, 48362)\n"
     ]
    }
   ],
   "source": [
    "print('Sparse matrix dimensions: {}'.format(sum_data_site_sparse.shape))"
   ]
  },
  {
   "cell_type": "markdown",
   "metadata": {},
   "source": [
    "### Create new properties\n",
    "#### session_timespan\n",
    "#### unique_sites\n",
    "#### day_of_week\n",
    "#### start_hour"
   ]
  },
  {
   "cell_type": "code",
   "execution_count": 20,
   "metadata": {},
   "outputs": [],
   "source": [
    "def calc_session_timespan(row):\n",
    "    timestamps = row[time_cols].values\n",
    "    session_timespan = timestamps.max() - timestamps.min()\n",
    "    \n",
    "    return session_timespan.total_seconds()\n",
    "\n",
    "def calc_unique_sites(row):\n",
    "    sites_vals = row[site_cols].values\n",
    "    \n",
    "    return len(np.unique([a for a in sites_vals if int(a) > 0]))\n",
    "    \n",
    "def calc_day_of_week(row):\n",
    "    timestamps = row[time_cols].values    \n",
    "    return timestamps.min().weekday()\n",
    "\n",
    "def calc_start_hour(row):\n",
    "    timestamps = row[time_cols].values    \n",
    "    return timestamps.min().hour\n",
    "\n",
    "def calc_end_hour(row):\n",
    "    timestamps = row[time_cols].values    \n",
    "    return timestamps.max().hour\n",
    "\n",
    "def calc_day_of_month(row):\n",
    "    timestamps = row[time_cols].values    \n",
    "    return timestamps.min().day\n",
    "\n",
    "def calc_month(row):\n",
    "    timestamps = row[time_cols].values    \n",
    "    return timestamps.min().month\n",
    "\n",
    "def calc_is_weekend(row):\n",
    "    day_of_week = row['day_of_week']\n",
    "    if day_of_week == 6 or day_of_week == 5:\n",
    "        return 1\n",
    "    \n",
    "    return 0"
   ]
  },
  {
   "cell_type": "markdown",
   "metadata": {},
   "source": [
    "#### next two run long!"
   ]
  },
  {
   "cell_type": "code",
   "execution_count": 21,
   "metadata": {},
   "outputs": [
    {
     "name": "stdout",
     "output_type": "stream",
     "text": [
      "CPU times: user 29min 26s, sys: 11.4 s, total: 29min 38s\n",
      "Wall time: 29min 44s\n"
     ]
    }
   ],
   "source": [
    "%%time\n",
    "sum_data['unique_sites'] = sum_data.apply(calc_unique_sites, axis=1)\n",
    "sum_data['session_timespan'] = sum_data.apply(calc_session_timespan, axis=1)\n",
    "sum_data['day_of_week'] = sum_data.apply(calc_day_of_week, axis=1)\n",
    "sum_data['start_hour'] = sum_data.apply(calc_start_hour, axis=1)"
   ]
  },
  {
   "cell_type": "code",
   "execution_count": 22,
   "metadata": {},
   "outputs": [
    {
     "name": "stdout",
     "output_type": "stream",
     "text": [
      "CPU times: user 15min 40s, sys: 3.29 s, total: 15min 43s\n",
      "Wall time: 15min 48s\n"
     ]
    }
   ],
   "source": [
    "%%time\n",
    "sum_data['end_hour'] = sum_data.apply(calc_end_hour, axis=1)\n",
    "sum_data['month'] = sum_data.apply(calc_month, axis=1)\n",
    "sum_data['day_of_month'] = sum_data.apply(calc_day_of_month, axis=1)\n",
    "sum_data['is_weekend'] = sum_data.apply(calc_is_weekend, axis=1)"
   ]
  },
  {
   "cell_type": "code",
   "execution_count": 23,
   "metadata": {},
   "outputs": [
    {
     "name": "stdout",
     "output_type": "stream",
     "text": [
      "--> invalid features in sum_data:\n",
      "target:82797\n",
      "month:30500\n",
      "end_hour:30500\n",
      "start_hour:30500\n",
      "day_of_week:30500\n",
      "session_timespan:30500\n",
      "day_of_month:30500\n",
      "time10:30500\n",
      "time9:27790\n",
      "time8:24983\n",
      "time7:22221\n",
      "time6:19297\n",
      "time5:16188\n",
      "time4:12855\n",
      "time3:9364\n",
      "time2:4952\n"
     ]
    }
   ],
   "source": [
    "# identify bad data\n",
    "def print_empty_cell(collection, name):\n",
    "    total_row = collection.shape[0]\n",
    "    data_count = collection.count().sort_values(ascending=True)\n",
    "\n",
    "    i = 0\n",
    "    str_val = []\n",
    "    for item, value in data_count.items():\n",
    "        if value < total_row:\n",
    "            str_val.append(\"{}:{}\".format(item, total_row - value))\n",
    "            i += 1\n",
    "\n",
    "    if i > 0:\n",
    "        print(\"--> invalid features in {}:\".format(name))\n",
    "        for s in str_val:\n",
    "            print(s)\n",
    "    else:\n",
    "        print(\"--> success data in {}:\".format(name))\n",
    "        \n",
    "print_empty_cell(sum_data, 'sum_data')"
   ]
  },
  {
   "cell_type": "code",
   "execution_count": 24,
   "metadata": {},
   "outputs": [],
   "source": [
    "# clean it and take a look\n",
    "sum_data['day_of_week'] = sum_data['day_of_week'].fillna(round(sum_data['day_of_week'].mean())).astype(np.int)\n",
    "sum_data['start_hour'] = sum_data['start_hour'].fillna(round(sum_data['start_hour'].mean())).astype(np.int)\n",
    "sum_data['end_hour'] = sum_data['end_hour'].fillna(round(sum_data['end_hour'].mean())).astype(np.int)\n",
    "sum_data['month'] = sum_data['month'].fillna(round(sum_data['month'].mean())).astype(np.int)\n",
    "sum_data['day_of_month'] = sum_data['day_of_month'].fillna(round(sum_data['day_of_month'].mean())).astype(np.int)\n",
    "sum_data['session_timespan'] = sum_data['session_timespan'].fillna(round(sum_data['session_timespan'].mean())).astype(np.int)\n",
    "sum_data['start_site'] = sum_data['site1'].astype(np.int)\n",
    "sum_data['is_weekend'] = sum_data['is_weekend'].fillna(round(sum_data['is_weekend'].mean())).astype(np.int)\n",
    "sum_data"
   ]
  },
  {
   "cell_type": "markdown",
   "metadata": {},
   "source": [
    "#### Create categoricals"
   ]
  },
  {
   "cell_type": "code",
   "execution_count": 25,
   "metadata": {},
   "outputs": [
    {
     "data": {
      "text/plain": [
       "(336358, 30)"
      ]
     },
     "execution_count": 25,
     "metadata": {},
     "output_type": "execute_result"
    }
   ],
   "source": [
    "sum_data.shape"
   ]
  },
  {
   "cell_type": "code",
   "execution_count": 26,
   "metadata": {},
   "outputs": [
    {
     "data": {
      "text/plain": [
       "(336358, 103)"
      ]
     },
     "execution_count": 26,
     "metadata": {},
     "output_type": "execute_result"
    }
   ],
   "source": [
    "sum_data = pd.get_dummies(sum_data, columns=['day_of_week', 'start_hour', 'end_hour', 'month', 'day_of_month'])\n",
    "sum_data.shape"
   ]
  },
  {
   "cell_type": "code",
   "execution_count": 27,
   "metadata": {},
   "outputs": [
    {
     "name": "stdout",
     "output_type": "stream",
     "text": [
      "Index(['day_of_week_0', 'day_of_week_1', 'day_of_week_2', 'day_of_week_3',\n",
      "       'day_of_week_4', 'day_of_week_5', 'day_of_week_6'],\n",
      "      dtype='object')\n",
      "Index(['start_hour_7', 'start_hour_8', 'start_hour_9', 'start_hour_10',\n",
      "       'start_hour_11', 'start_hour_12', 'start_hour_13', 'start_hour_14',\n",
      "       'start_hour_15', 'start_hour_16', 'start_hour_17', 'start_hour_18',\n",
      "       'start_hour_19', 'start_hour_20', 'start_hour_21', 'start_hour_22',\n",
      "       'start_hour_23'],\n",
      "      dtype='object')\n",
      "Index(['end_hour_7', 'end_hour_8', 'end_hour_9', 'end_hour_10', 'end_hour_11',\n",
      "       'end_hour_12', 'end_hour_13', 'end_hour_14', 'end_hour_15',\n",
      "       'end_hour_16', 'end_hour_17', 'end_hour_18', 'end_hour_19',\n",
      "       'end_hour_20', 'end_hour_21', 'end_hour_22', 'end_hour_23'],\n",
      "      dtype='object')\n",
      "Index(['day_of_month_1', 'day_of_month_2', 'day_of_month_3', 'day_of_month_4',\n",
      "       'day_of_month_5', 'day_of_month_12', 'day_of_month_13',\n",
      "       'day_of_month_14', 'day_of_month_15', 'day_of_month_16',\n",
      "       'day_of_month_17', 'day_of_month_18', 'day_of_month_19',\n",
      "       'day_of_month_20', 'day_of_month_21', 'day_of_month_22',\n",
      "       'day_of_month_23', 'day_of_month_24', 'day_of_month_25',\n",
      "       'day_of_month_26', 'day_of_month_27', 'day_of_month_28',\n",
      "       'day_of_month_29', 'day_of_month_30', 'day_of_month_31'],\n",
      "      dtype='object')\n",
      "['month_1', 'month_2', 'month_3', 'month_4', 'month_5', 'month_6', 'month_7', 'month_8', 'month_9', 'month_10', 'month_11', 'month_12']\n"
     ]
    }
   ],
   "source": [
    "day_of_week_cols = sum_data.filter(like='day_of_week').columns\n",
    "start_hour_cols = sum_data.filter(like='start_hour').columns\n",
    "end_hour_cols = sum_data.filter(like='end_hour').columns\n",
    "day_of_month_cols = sum_data.filter(like='day_of_month').columns\n",
    "month_cols = ['month_1','month_2','month_3','month_4','month_5','month_6',\n",
    "              'month_7','month_8','month_9','month_10','month_11','month_12']\n",
    "print(\"day_of_week_cols\\n\", day_of_week_cols)\n",
    "print(\"start_hour_cols\\n\", start_hour_cols)\n",
    "print(\"end_hour_cols\\n\", end_hour_cols)\n",
    "print(\"day_of_month_cols\\n\", day_of_month_cols)\n",
    "print(\"month_cols\\n\", month_cols)"
   ]
  },
  {
   "cell_type": "code",
   "execution_count": 28,
   "metadata": {},
   "outputs": [],
   "source": [
    "# more features\n",
    "additional_cols = np.hstack((['unique_sites', 'start_site', 'session_timespan', 'is_weekend'],\n",
    "                             day_of_week_cols,\n",
    "                             start_hour_cols,\n",
    "                             end_hour_cols,\n",
    "                             day_of_month_cols,\n",
    "                             month_cols\n",
    "                            ))"
   ]
  },
  {
   "cell_type": "code",
   "execution_count": 29,
   "metadata": {},
   "outputs": [],
   "source": [
    "# write temp\n",
    "# sum_data.to_csv(\"sum_data.csv\")"
   ]
  },
  {
   "cell_type": "code",
   "execution_count": 31,
   "metadata": {},
   "outputs": [
    {
     "name": "stdout",
     "output_type": "stream",
     "text": [
      "CPU times: user 1.19 s, sys: 839 ms, total: 2.03 s\n",
      "Wall time: 2.04 s\n"
     ]
    }
   ],
   "source": [
    "standard_scaler = StandardScaler()\n",
    "scaler_sum_data_2 = standard_scaler.fit_transform(sum_data[additional_cols])"
   ]
  },
  {
   "cell_type": "code",
   "execution_count": 33,
   "metadata": {},
   "outputs": [
    {
     "name": "stdout",
     "output_type": "stream",
     "text": [
      "additional_data shape: (336358, 82)\n",
      "sum_data_site_sparse shape: (336358, 48362)\n",
      "sum_data shape: (336358, 103)\n",
      "CPU times: user 1.9 s, sys: 2.1 s, total: 4 s\n",
      "Wall time: 5.01 s\n"
     ]
    }
   ],
   "source": [
    "%%time\n",
    "additional_data = csr_matrix(scaler_sum_data_2)\n",
    "print('additional_data shape: {}'.format(additional_data.shape))\n",
    "print('sum_data_site_sparse shape: {}'.format(sum_data_site_sparse.shape))\n",
    "print('sum_data shape: {}'.format(sum_data.shape))"
   ]
  },
  {
   "cell_type": "markdown",
   "metadata": {},
   "source": [
    "## blows kernel"
   ]
  },
  {
   "cell_type": "code",
   "execution_count": null,
   "metadata": {},
   "outputs": [],
   "source": [
    "# Combine additional_data, sum_data_site_sparse and select the training and test sets\n",
    "temp = hstack((sum_data_site_sparse, additional_data))\n",
    "print('combined shape: {}'.format(temp.shape))"
   ]
  },
  {
   "cell_type": "code",
   "execution_count": null,
   "metadata": {},
   "outputs": [],
   "source": [
    "X_train = temp.tocsc()[:train.shape[0]]\n",
    "y_train = train['target']\n",
    "X_test = temp.tocsc()[train.shape[0]:]\n",
    "\n",
    "print(\"X_train.shape =\", X_train.shape, \"y_train.shape =\", y_train.shape,\n",
    "      \"X_test.shape =\", X_test.shape)\n",
    "\n",
    "X_train_tmp, X_test_tmp, y_train_tmp, y_test_tmp = train_test_split(X_train, y_train, test_size=0.3, random_state=17)\n",
    "print(\"X_train_tmp.shape =\", X_train_tmp.shape, \"y_train_tmp.shape =\", y_train_tmp.shape,\n",
    "      \"X_test_tmp.shape =\", X_test_tmp.shape, \"y_test_tmp.shape =\", y_test_tmp.shape)\n",
    "\n",
    "sgd_logit = SGDClassifier(loss='log', random_state=17, n_jobs=-1)\n",
    "\n",
    "sgd_logit.fit(X_train_tmp, y_train_tmp)\n",
    "\n",
    "y_pred = sgd_logit.predict_proba(X_test_tmp)[:, 1]\n",
    "\n",
    "roc = roc_auc_score(y_test_tmp, y_pred)\n",
    "print('SGDClassifier ROC AUC: {}'.format(round(roc, 4))) # ROC AUC: 0.9705\n",
    "\n",
    "sgd_logit.fit(X_train, y_train)\n",
    "y_pred = sgd_logit.predict_proba(X_test)[:, 1]\n",
    "\n",
    "def write_to_submission_file(predicted_labels, out_file,\n",
    "                             target='target', index_label=\"session_id\"):\n",
    "    predicted_df = pd.DataFrame(predicted_labels,\n",
    "                                index = np.arange(1, predicted_labels.shape[0] + 1),\n",
    "                                columns=[target])\n",
    "    predicted_df.to_csv(out_file, index_label=index_label)\n",
    "\n",
    "write_to_submission_file(y_pred, catchmedir + 'SGDClassifier_y_pred.CSV') # 0.85692 on kaggle\n",
    "\n",
    "reg_logit = LogisticRegression(random_state=17, n_jobs=-1, max_iter=200)\n",
    "reg_logit.fit(X_train_tmp, y_train_tmp)\n",
    "\n",
    "y_pred = reg_logit.predict_proba(X_test_tmp)[:, 1]\n",
    "\n",
    "roc = roc_auc_score(y_test_tmp, y_pred)\n",
    "\n",
    "print('LogisticRegression ROC AUC: {}'.format(round(roc, 4))) # ROC AUC: 0.9882\n",
    "\n",
    "reg_logit.fit(X_train, y_train)\n",
    "y_pred = reg_logit.predict_proba(X_test)[:, 1]\n",
    "\n",
    "write_to_submission_file(y_pred, catchmedir + 'LogisticRegression_y_pred.CSV') # 0.88027 on kaggle\n"
   ]
  }
 ],
 "metadata": {
  "kernelspec": {
   "display_name": "Python 3",
   "language": "python",
   "name": "python3"
  },
  "language_info": {
   "codemirror_mode": {
    "name": "ipython",
    "version": 3
   },
   "file_extension": ".py",
   "mimetype": "text/x-python",
   "name": "python",
   "nbconvert_exporter": "python",
   "pygments_lexer": "ipython3",
   "version": "3.6.6"
  }
 },
 "nbformat": 4,
 "nbformat_minor": 2
}
