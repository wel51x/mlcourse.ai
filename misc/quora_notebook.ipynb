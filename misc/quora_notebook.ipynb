{
 "cells": [
  {
   "cell_type": "markdown",
   "metadata": {
    "_uuid": "8dc4465d05db7f8443d66385d36b5e3491948371"
   },
   "source": [
    "**Notebook Objective:**\n",
    "\n",
    "Objective of the notebook is to explore the data and to build a simple baseline model.\n",
    "\n",
    "**Objective of the competition:**\n",
    "\n",
    "In this second competition by Quora, the objective is to predict whether a question asked on Quora is sincere or not. This is a kernels only comeptition.\n",
    "\n",
    "An insincere question is defined as a question intended to make a statement rather than look for helpful answers. Some characteristics that can signify that a question is insincere:\n",
    "\n",
    "* Has a non-neutral tone\n",
    "    * Has an exaggerated tone to underscore a point about a group of people\n",
    "    * Is rhetorical and meant to imply a statement about a group of people\n",
    "* Is disparaging or inflammatory\n",
    "    * Suggests a discriminatory idea against a protected class of people, or seeks confirmation of a stereotype\n",
    "    * Makes disparaging attacks/insults against a specific person or group of people\n",
    "    * Based on an outlandish premise about a group of people\n",
    "    * Disparages against a characteristic that is not fixable and not measurable\n",
    "* Isn't grounded in reality\n",
    "    * Based on false information, or contains absurd assumptions\n",
    "* Uses sexual content (incest, bestiality, pedophilia) for shock value, and not to seek genuine answers\n",
    "\n",
    "P.S: This is a work in progress. Please stay tuned.!"
   ]
  },
  {
   "cell_type": "code",
   "execution_count": 10,
   "metadata": {},
   "outputs": [
    {
     "name": "stdout",
     "output_type": "stream",
     "text": [
      "/notebooks\n"
     ]
    }
   ],
   "source": [
    "%cd /notebooks\n",
    "datadir = \"data/quora/\""
   ]
  },
  {
   "cell_type": "code",
   "execution_count": 2,
   "metadata": {
    "_cell_guid": "b1076dfc-b9ad-4769-8c92-a6c4dae69d19",
    "_kg_hide-input": true,
    "_uuid": "8f2839f25d086af736a60e9eeb907d3b93b6e0e5"
   },
   "outputs": [
    {
     "data": {
      "text/html": [
       "        <script type=\"text/javascript\">\n",
       "        window.PlotlyConfig = {MathJaxConfig: 'local'};\n",
       "        if (window.MathJax) {MathJax.Hub.Config({SVG: {font: \"STIX-Web\"}});}\n",
       "        if (typeof require !== 'undefined') {\n",
       "        require.undef(\"plotly\");\n",
       "        requirejs.config({\n",
       "            paths: {\n",
       "                'plotly': ['https://cdn.plot.ly/plotly-latest.min']\n",
       "            }\n",
       "        });\n",
       "        require(['plotly'], function(Plotly) {\n",
       "            window._Plotly = Plotly;\n",
       "        });\n",
       "        }\n",
       "        </script>\n",
       "        "
      ]
     },
     "metadata": {},
     "output_type": "display_data"
    }
   ],
   "source": [
    "import os\n",
    "import json\n",
    "import string\n",
    "import numpy as np\n",
    "import pandas as pd\n",
    "from pandas.io.json import json_normalize\n",
    "import matplotlib.pyplot as plt\n",
    "import seaborn as sns\n",
    "color = sns.color_palette()\n",
    "\n",
    "%matplotlib inline\n",
    "\n",
    "from plotly import tools\n",
    "import plotly.offline as py\n",
    "py.init_notebook_mode(connected=True)\n",
    "import plotly.graph_objs as go\n",
    "\n",
    "from sklearn import model_selection, preprocessing, metrics, ensemble, naive_bayes, linear_model\n",
    "from sklearn.feature_extraction.text import TfidfVectorizer, CountVectorizer\n",
    "from sklearn.decomposition import TruncatedSVD\n",
    "import lightgbm as lgb\n",
    "\n",
    "pd.options.mode.chained_assignment = None\n",
    "pd.options.display.max_columns = 999"
   ]
  },
  {
   "cell_type": "markdown",
   "metadata": {
    "_uuid": "c0d647a81bb5b1a13332a17fffad6c6b0e5cf787"
   },
   "source": [
    "**Data Files:**\n",
    "\n",
    "Following data files are given."
   ]
  },
  {
   "cell_type": "code",
   "execution_count": 7,
   "metadata": {
    "_uuid": "6fc5aa15387e3585ac51fbc5db66565a058f1a2d"
   },
   "outputs": [
    {
     "name": "stdout",
     "output_type": "stream",
     "text": [
      "embeddings  sample_submission.csv  test.csv  train.csv\r\n"
     ]
    }
   ],
   "source": [
    "!ls data/quora"
   ]
  },
  {
   "cell_type": "markdown",
   "metadata": {
    "_uuid": "ca4069cd714e42e1c9b6b3bb4f95c95aa0fc7838"
   },
   "source": [
    "* train.csv - the training set\n",
    "* test.csv - the test set\n",
    "* sample_submission.csv - A sample submission in the correct format\n",
    "* enbeddings/ - Folder containing word embeddings.\n",
    "\n",
    "We are not allowed to use any external data sources. The following embeddings are given to us which can be used for building our models."
   ]
  },
  {
   "cell_type": "code",
   "execution_count": 9,
   "metadata": {
    "_uuid": "5adcd5cd216cf95623326abf3235b7670a2af729"
   },
   "outputs": [
    {
     "name": "stdout",
     "output_type": "stream",
     "text": [
      "GoogleNews-vectors-negative300\tparagram_300_sl999\r\n",
      "glove.840B.300d\t\t\twiki-news-300d-1M\r\n"
     ]
    }
   ],
   "source": [
    "!ls data/quora/embeddings/"
   ]
  },
  {
   "cell_type": "markdown",
   "metadata": {
    "_uuid": "e8e3bc86f52a01c4125201a736ce77343a48c11e"
   },
   "source": [
    "* GoogleNews-vectors-negative300 - https://code.google.com/archive/p/word2vec/\n",
    "* glove.840B.300d - https://nlp.stanford.edu/projects/glove/\n",
    "* paragram_300_sl999 - https://cogcomp.org/page/resource_view/106\n",
    "* wiki-news-300d-1M - https://fasttext.cc/docs/en/english-vectors.html"
   ]
  },
  {
   "cell_type": "code",
   "execution_count": 11,
   "metadata": {
    "_cell_guid": "79c7e3d0-c299-4dcb-8224-4455121ee9b0",
    "_uuid": "d629ff2d2480ee46fbb7e2d37f6b5fab8052498a"
   },
   "outputs": [
    {
     "name": "stdout",
     "output_type": "stream",
     "text": [
      "Train shape :  (1306122, 3)\n",
      "Test shape :  (375806, 2)\n"
     ]
    }
   ],
   "source": [
    "train_df = pd.read_csv(datadir + \"train.csv\")\n",
    "test_df = pd.read_csv(datadir + \"test.csv\")\n",
    "print(\"Train shape : \", train_df.shape)\n",
    "print(\"Test shape : \", test_df.shape)"
   ]
  },
  {
   "cell_type": "code",
   "execution_count": 12,
   "metadata": {
    "_uuid": "6473283634cdd157b12575c0b828cdff9721eadc",
    "scrolled": true
   },
   "outputs": [
    {
     "data": {
      "text/html": [
       "<div>\n",
       "<style scoped>\n",
       "    .dataframe tbody tr th:only-of-type {\n",
       "        vertical-align: middle;\n",
       "    }\n",
       "\n",
       "    .dataframe tbody tr th {\n",
       "        vertical-align: top;\n",
       "    }\n",
       "\n",
       "    .dataframe thead th {\n",
       "        text-align: right;\n",
       "    }\n",
       "</style>\n",
       "<table border=\"1\" class=\"dataframe\">\n",
       "  <thead>\n",
       "    <tr style=\"text-align: right;\">\n",
       "      <th></th>\n",
       "      <th>qid</th>\n",
       "      <th>question_text</th>\n",
       "      <th>target</th>\n",
       "    </tr>\n",
       "  </thead>\n",
       "  <tbody>\n",
       "    <tr>\n",
       "      <th>0</th>\n",
       "      <td>00002165364db923c7e6</td>\n",
       "      <td>How did Quebec nationalists see their province...</td>\n",
       "      <td>0</td>\n",
       "    </tr>\n",
       "    <tr>\n",
       "      <th>1</th>\n",
       "      <td>000032939017120e6e44</td>\n",
       "      <td>Do you have an adopted dog, how would you enco...</td>\n",
       "      <td>0</td>\n",
       "    </tr>\n",
       "    <tr>\n",
       "      <th>2</th>\n",
       "      <td>0000412ca6e4628ce2cf</td>\n",
       "      <td>Why does velocity affect time? Does velocity a...</td>\n",
       "      <td>0</td>\n",
       "    </tr>\n",
       "    <tr>\n",
       "      <th>3</th>\n",
       "      <td>000042bf85aa498cd78e</td>\n",
       "      <td>How did Otto von Guericke used the Magdeburg h...</td>\n",
       "      <td>0</td>\n",
       "    </tr>\n",
       "    <tr>\n",
       "      <th>4</th>\n",
       "      <td>0000455dfa3e01eae3af</td>\n",
       "      <td>Can I convert montra helicon D to a mountain b...</td>\n",
       "      <td>0</td>\n",
       "    </tr>\n",
       "  </tbody>\n",
       "</table>\n",
       "</div>"
      ],
      "text/plain": [
       "                    qid                                      question_text  \\\n",
       "0  00002165364db923c7e6  How did Quebec nationalists see their province...   \n",
       "1  000032939017120e6e44  Do you have an adopted dog, how would you enco...   \n",
       "2  0000412ca6e4628ce2cf  Why does velocity affect time? Does velocity a...   \n",
       "3  000042bf85aa498cd78e  How did Otto von Guericke used the Magdeburg h...   \n",
       "4  0000455dfa3e01eae3af  Can I convert montra helicon D to a mountain b...   \n",
       "\n",
       "   target  \n",
       "0       0  \n",
       "1       0  \n",
       "2       0  \n",
       "3       0  \n",
       "4       0  "
      ]
     },
     "execution_count": 12,
     "metadata": {},
     "output_type": "execute_result"
    }
   ],
   "source": [
    "train_df.head()"
   ]
  },
  {
   "cell_type": "markdown",
   "metadata": {
    "_uuid": "a5fb3e1dd7990f063b5cbb199c51a6f6fc3a9d91"
   },
   "source": [
    "**Target Distribution:**\n",
    "\n",
    "First let us look at the distribution of the target variable to understand more about the imbalance and so on."
   ]
  },
  {
   "cell_type": "code",
   "execution_count": 13,
   "metadata": {
    "_kg_hide-input": true,
    "_uuid": "dea34a7f45dc6656c34472f0b7a941070bc9bee6"
   },
   "outputs": [
    {
     "data": {
      "application/vnd.plotly.v1+json": {
       "config": {
        "linkText": "Export to plot.ly",
        "plotlyServerURL": "https://plot.ly",
        "showLink": false
       },
       "data": [
        {
         "marker": {
          "color": [
           1225312,
           80810
          ],
          "colorscale": [
           [
            0,
            "rgb(0,0,255)"
           ],
           [
            0.1,
            "rgb(51,153,255)"
           ],
           [
            0.2,
            "rgb(102,204,255)"
           ],
           [
            0.3,
            "rgb(153,204,255)"
           ],
           [
            0.4,
            "rgb(204,204,255)"
           ],
           [
            0.5,
            "rgb(255,255,255)"
           ],
           [
            0.6,
            "rgb(255,204,255)"
           ],
           [
            0.7,
            "rgb(255,153,255)"
           ],
           [
            0.8,
            "rgb(255,102,204)"
           ],
           [
            0.9,
            "rgb(255,102,102)"
           ],
           [
            1,
            "rgb(255,0,0)"
           ]
          ],
          "reversescale": true
         },
         "type": "bar",
         "x": [
          0,
          1
         ],
         "y": [
          1225312,
          80810
         ]
        }
       ],
       "layout": {
        "font": {
         "size": 18
        },
        "template": {
         "data": {
          "bar": [
           {
            "error_x": {
             "color": "#2a3f5f"
            },
            "error_y": {
             "color": "#2a3f5f"
            },
            "marker": {
             "line": {
              "color": "#E5ECF6",
              "width": 0.5
             }
            },
            "type": "bar"
           }
          ],
          "barpolar": [
           {
            "marker": {
             "line": {
              "color": "#E5ECF6",
              "width": 0.5
             }
            },
            "type": "barpolar"
           }
          ],
          "carpet": [
           {
            "aaxis": {
             "endlinecolor": "#2a3f5f",
             "gridcolor": "white",
             "linecolor": "white",
             "minorgridcolor": "white",
             "startlinecolor": "#2a3f5f"
            },
            "baxis": {
             "endlinecolor": "#2a3f5f",
             "gridcolor": "white",
             "linecolor": "white",
             "minorgridcolor": "white",
             "startlinecolor": "#2a3f5f"
            },
            "type": "carpet"
           }
          ],
          "choropleth": [
           {
            "colorbar": {
             "outlinewidth": 0,
             "ticks": ""
            },
            "type": "choropleth"
           }
          ],
          "contour": [
           {
            "colorbar": {
             "outlinewidth": 0,
             "ticks": ""
            },
            "colorscale": [
             [
              0,
              "#0d0887"
             ],
             [
              0.1111111111111111,
              "#46039f"
             ],
             [
              0.2222222222222222,
              "#7201a8"
             ],
             [
              0.3333333333333333,
              "#9c179e"
             ],
             [
              0.4444444444444444,
              "#bd3786"
             ],
             [
              0.5555555555555556,
              "#d8576b"
             ],
             [
              0.6666666666666666,
              "#ed7953"
             ],
             [
              0.7777777777777778,
              "#fb9f3a"
             ],
             [
              0.8888888888888888,
              "#fdca26"
             ],
             [
              1,
              "#f0f921"
             ]
            ],
            "type": "contour"
           }
          ],
          "contourcarpet": [
           {
            "colorbar": {
             "outlinewidth": 0,
             "ticks": ""
            },
            "type": "contourcarpet"
           }
          ],
          "heatmap": [
           {
            "colorbar": {
             "outlinewidth": 0,
             "ticks": ""
            },
            "colorscale": [
             [
              0,
              "#0d0887"
             ],
             [
              0.1111111111111111,
              "#46039f"
             ],
             [
              0.2222222222222222,
              "#7201a8"
             ],
             [
              0.3333333333333333,
              "#9c179e"
             ],
             [
              0.4444444444444444,
              "#bd3786"
             ],
             [
              0.5555555555555556,
              "#d8576b"
             ],
             [
              0.6666666666666666,
              "#ed7953"
             ],
             [
              0.7777777777777778,
              "#fb9f3a"
             ],
             [
              0.8888888888888888,
              "#fdca26"
             ],
             [
              1,
              "#f0f921"
             ]
            ],
            "type": "heatmap"
           }
          ],
          "heatmapgl": [
           {
            "colorbar": {
             "outlinewidth": 0,
             "ticks": ""
            },
            "colorscale": [
             [
              0,
              "#0d0887"
             ],
             [
              0.1111111111111111,
              "#46039f"
             ],
             [
              0.2222222222222222,
              "#7201a8"
             ],
             [
              0.3333333333333333,
              "#9c179e"
             ],
             [
              0.4444444444444444,
              "#bd3786"
             ],
             [
              0.5555555555555556,
              "#d8576b"
             ],
             [
              0.6666666666666666,
              "#ed7953"
             ],
             [
              0.7777777777777778,
              "#fb9f3a"
             ],
             [
              0.8888888888888888,
              "#fdca26"
             ],
             [
              1,
              "#f0f921"
             ]
            ],
            "type": "heatmapgl"
           }
          ],
          "histogram": [
           {
            "marker": {
             "colorbar": {
              "outlinewidth": 0,
              "ticks": ""
             }
            },
            "type": "histogram"
           }
          ],
          "histogram2d": [
           {
            "colorbar": {
             "outlinewidth": 0,
             "ticks": ""
            },
            "colorscale": [
             [
              0,
              "#0d0887"
             ],
             [
              0.1111111111111111,
              "#46039f"
             ],
             [
              0.2222222222222222,
              "#7201a8"
             ],
             [
              0.3333333333333333,
              "#9c179e"
             ],
             [
              0.4444444444444444,
              "#bd3786"
             ],
             [
              0.5555555555555556,
              "#d8576b"
             ],
             [
              0.6666666666666666,
              "#ed7953"
             ],
             [
              0.7777777777777778,
              "#fb9f3a"
             ],
             [
              0.8888888888888888,
              "#fdca26"
             ],
             [
              1,
              "#f0f921"
             ]
            ],
            "type": "histogram2d"
           }
          ],
          "histogram2dcontour": [
           {
            "colorbar": {
             "outlinewidth": 0,
             "ticks": ""
            },
            "colorscale": [
             [
              0,
              "#0d0887"
             ],
             [
              0.1111111111111111,
              "#46039f"
             ],
             [
              0.2222222222222222,
              "#7201a8"
             ],
             [
              0.3333333333333333,
              "#9c179e"
             ],
             [
              0.4444444444444444,
              "#bd3786"
             ],
             [
              0.5555555555555556,
              "#d8576b"
             ],
             [
              0.6666666666666666,
              "#ed7953"
             ],
             [
              0.7777777777777778,
              "#fb9f3a"
             ],
             [
              0.8888888888888888,
              "#fdca26"
             ],
             [
              1,
              "#f0f921"
             ]
            ],
            "type": "histogram2dcontour"
           }
          ],
          "mesh3d": [
           {
            "colorbar": {
             "outlinewidth": 0,
             "ticks": ""
            },
            "type": "mesh3d"
           }
          ],
          "parcoords": [
           {
            "line": {
             "colorbar": {
              "outlinewidth": 0,
              "ticks": ""
             }
            },
            "type": "parcoords"
           }
          ],
          "scatter": [
           {
            "marker": {
             "colorbar": {
              "outlinewidth": 0,
              "ticks": ""
             }
            },
            "type": "scatter"
           }
          ],
          "scatter3d": [
           {
            "line": {
             "colorbar": {
              "outlinewidth": 0,
              "ticks": ""
             }
            },
            "marker": {
             "colorbar": {
              "outlinewidth": 0,
              "ticks": ""
             }
            },
            "type": "scatter3d"
           }
          ],
          "scattercarpet": [
           {
            "marker": {
             "colorbar": {
              "outlinewidth": 0,
              "ticks": ""
             }
            },
            "type": "scattercarpet"
           }
          ],
          "scattergeo": [
           {
            "marker": {
             "colorbar": {
              "outlinewidth": 0,
              "ticks": ""
             }
            },
            "type": "scattergeo"
           }
          ],
          "scattergl": [
           {
            "marker": {
             "colorbar": {
              "outlinewidth": 0,
              "ticks": ""
             }
            },
            "type": "scattergl"
           }
          ],
          "scattermapbox": [
           {
            "marker": {
             "colorbar": {
              "outlinewidth": 0,
              "ticks": ""
             }
            },
            "type": "scattermapbox"
           }
          ],
          "scatterpolar": [
           {
            "marker": {
             "colorbar": {
              "outlinewidth": 0,
              "ticks": ""
             }
            },
            "type": "scatterpolar"
           }
          ],
          "scatterpolargl": [
           {
            "marker": {
             "colorbar": {
              "outlinewidth": 0,
              "ticks": ""
             }
            },
            "type": "scatterpolargl"
           }
          ],
          "scatterternary": [
           {
            "marker": {
             "colorbar": {
              "outlinewidth": 0,
              "ticks": ""
             }
            },
            "type": "scatterternary"
           }
          ],
          "surface": [
           {
            "colorbar": {
             "outlinewidth": 0,
             "ticks": ""
            },
            "colorscale": [
             [
              0,
              "#0d0887"
             ],
             [
              0.1111111111111111,
              "#46039f"
             ],
             [
              0.2222222222222222,
              "#7201a8"
             ],
             [
              0.3333333333333333,
              "#9c179e"
             ],
             [
              0.4444444444444444,
              "#bd3786"
             ],
             [
              0.5555555555555556,
              "#d8576b"
             ],
             [
              0.6666666666666666,
              "#ed7953"
             ],
             [
              0.7777777777777778,
              "#fb9f3a"
             ],
             [
              0.8888888888888888,
              "#fdca26"
             ],
             [
              1,
              "#f0f921"
             ]
            ],
            "type": "surface"
           }
          ],
          "table": [
           {
            "cells": {
             "fill": {
              "color": "#EBF0F8"
             },
             "line": {
              "color": "white"
             }
            },
            "header": {
             "fill": {
              "color": "#C8D4E3"
             },
             "line": {
              "color": "white"
             }
            },
            "type": "table"
           }
          ]
         },
         "layout": {
          "annotationdefaults": {
           "arrowcolor": "#2a3f5f",
           "arrowhead": 0,
           "arrowwidth": 1
          },
          "colorscale": {
           "diverging": [
            [
             0,
             "#8e0152"
            ],
            [
             0.1,
             "#c51b7d"
            ],
            [
             0.2,
             "#de77ae"
            ],
            [
             0.3,
             "#f1b6da"
            ],
            [
             0.4,
             "#fde0ef"
            ],
            [
             0.5,
             "#f7f7f7"
            ],
            [
             0.6,
             "#e6f5d0"
            ],
            [
             0.7,
             "#b8e186"
            ],
            [
             0.8,
             "#7fbc41"
            ],
            [
             0.9,
             "#4d9221"
            ],
            [
             1,
             "#276419"
            ]
           ],
           "sequential": [
            [
             0,
             "#0d0887"
            ],
            [
             0.1111111111111111,
             "#46039f"
            ],
            [
             0.2222222222222222,
             "#7201a8"
            ],
            [
             0.3333333333333333,
             "#9c179e"
            ],
            [
             0.4444444444444444,
             "#bd3786"
            ],
            [
             0.5555555555555556,
             "#d8576b"
            ],
            [
             0.6666666666666666,
             "#ed7953"
            ],
            [
             0.7777777777777778,
             "#fb9f3a"
            ],
            [
             0.8888888888888888,
             "#fdca26"
            ],
            [
             1,
             "#f0f921"
            ]
           ],
           "sequentialminus": [
            [
             0,
             "#0d0887"
            ],
            [
             0.1111111111111111,
             "#46039f"
            ],
            [
             0.2222222222222222,
             "#7201a8"
            ],
            [
             0.3333333333333333,
             "#9c179e"
            ],
            [
             0.4444444444444444,
             "#bd3786"
            ],
            [
             0.5555555555555556,
             "#d8576b"
            ],
            [
             0.6666666666666666,
             "#ed7953"
            ],
            [
             0.7777777777777778,
             "#fb9f3a"
            ],
            [
             0.8888888888888888,
             "#fdca26"
            ],
            [
             1,
             "#f0f921"
            ]
           ]
          },
          "colorway": [
           "#636efa",
           "#EF553B",
           "#00cc96",
           "#ab63fa",
           "#FFA15A",
           "#19d3f3",
           "#FF6692",
           "#B6E880",
           "#FF97FF",
           "#FECB52"
          ],
          "font": {
           "color": "#2a3f5f"
          },
          "geo": {
           "bgcolor": "white",
           "lakecolor": "white",
           "landcolor": "#E5ECF6",
           "showlakes": true,
           "showland": true,
           "subunitcolor": "white"
          },
          "hoverlabel": {
           "align": "left"
          },
          "hovermode": "closest",
          "mapbox": {
           "style": "light"
          },
          "paper_bgcolor": "white",
          "plot_bgcolor": "#E5ECF6",
          "polar": {
           "angularaxis": {
            "gridcolor": "white",
            "linecolor": "white",
            "ticks": ""
           },
           "bgcolor": "#E5ECF6",
           "radialaxis": {
            "gridcolor": "white",
            "linecolor": "white",
            "ticks": ""
           }
          },
          "scene": {
           "xaxis": {
            "backgroundcolor": "#E5ECF6",
            "gridcolor": "white",
            "gridwidth": 2,
            "linecolor": "white",
            "showbackground": true,
            "ticks": "",
            "zerolinecolor": "white"
           },
           "yaxis": {
            "backgroundcolor": "#E5ECF6",
            "gridcolor": "white",
            "gridwidth": 2,
            "linecolor": "white",
            "showbackground": true,
            "ticks": "",
            "zerolinecolor": "white"
           },
           "zaxis": {
            "backgroundcolor": "#E5ECF6",
            "gridcolor": "white",
            "gridwidth": 2,
            "linecolor": "white",
            "showbackground": true,
            "ticks": "",
            "zerolinecolor": "white"
           }
          },
          "shapedefaults": {
           "line": {
            "color": "#2a3f5f"
           }
          },
          "ternary": {
           "aaxis": {
            "gridcolor": "white",
            "linecolor": "white",
            "ticks": ""
           },
           "baxis": {
            "gridcolor": "white",
            "linecolor": "white",
            "ticks": ""
           },
           "bgcolor": "#E5ECF6",
           "caxis": {
            "gridcolor": "white",
            "linecolor": "white",
            "ticks": ""
           }
          },
          "title": {
           "x": 0.05
          },
          "xaxis": {
           "automargin": true,
           "gridcolor": "white",
           "linecolor": "white",
           "ticks": "",
           "zerolinecolor": "white",
           "zerolinewidth": 2
          },
          "yaxis": {
           "automargin": true,
           "gridcolor": "white",
           "linecolor": "white",
           "ticks": "",
           "zerolinecolor": "white",
           "zerolinewidth": 2
          }
         }
        },
        "title": {
         "text": "Target Count"
        }
       }
      },
      "text/html": [
       "<div>\n",
       "        \n",
       "        \n",
       "            <div id=\"5d1e9644-aeb6-4eed-bcb4-2ad60d037611\" class=\"plotly-graph-div\" style=\"height:525px; width:100%;\"></div>\n",
       "            <script type=\"text/javascript\">\n",
       "                require([\"plotly\"], function(Plotly) {\n",
       "                    window.PLOTLYENV=window.PLOTLYENV || {};\n",
       "                    \n",
       "                if (document.getElementById(\"5d1e9644-aeb6-4eed-bcb4-2ad60d037611\")) {\n",
       "                    Plotly.newPlot(\n",
       "                        '5d1e9644-aeb6-4eed-bcb4-2ad60d037611',\n",
       "                        [{\"marker\": {\"color\": [1225312, 80810], \"colorscale\": [[0.0, \"rgb(0,0,255)\"], [0.1, \"rgb(51,153,255)\"], [0.2, \"rgb(102,204,255)\"], [0.3, \"rgb(153,204,255)\"], [0.4, \"rgb(204,204,255)\"], [0.5, \"rgb(255,255,255)\"], [0.6, \"rgb(255,204,255)\"], [0.7, \"rgb(255,153,255)\"], [0.8, \"rgb(255,102,204)\"], [0.9, \"rgb(255,102,102)\"], [1.0, \"rgb(255,0,0)\"]], \"reversescale\": true}, \"type\": \"bar\", \"x\": [0, 1], \"y\": [1225312, 80810]}],\n",
       "                        {\"font\": {\"size\": 18}, \"template\": {\"data\": {\"bar\": [{\"error_x\": {\"color\": \"#2a3f5f\"}, \"error_y\": {\"color\": \"#2a3f5f\"}, \"marker\": {\"line\": {\"color\": \"#E5ECF6\", \"width\": 0.5}}, \"type\": \"bar\"}], \"barpolar\": [{\"marker\": {\"line\": {\"color\": \"#E5ECF6\", \"width\": 0.5}}, \"type\": \"barpolar\"}], \"carpet\": [{\"aaxis\": {\"endlinecolor\": \"#2a3f5f\", \"gridcolor\": \"white\", \"linecolor\": \"white\", \"minorgridcolor\": \"white\", \"startlinecolor\": \"#2a3f5f\"}, \"baxis\": {\"endlinecolor\": \"#2a3f5f\", \"gridcolor\": \"white\", \"linecolor\": \"white\", \"minorgridcolor\": \"white\", \"startlinecolor\": \"#2a3f5f\"}, \"type\": \"carpet\"}], \"choropleth\": [{\"colorbar\": {\"outlinewidth\": 0, \"ticks\": \"\"}, \"type\": \"choropleth\"}], \"contour\": [{\"colorbar\": {\"outlinewidth\": 0, \"ticks\": \"\"}, \"colorscale\": [[0.0, \"#0d0887\"], [0.1111111111111111, \"#46039f\"], [0.2222222222222222, \"#7201a8\"], [0.3333333333333333, \"#9c179e\"], [0.4444444444444444, \"#bd3786\"], [0.5555555555555556, \"#d8576b\"], [0.6666666666666666, \"#ed7953\"], [0.7777777777777778, \"#fb9f3a\"], [0.8888888888888888, \"#fdca26\"], [1.0, \"#f0f921\"]], \"type\": \"contour\"}], \"contourcarpet\": [{\"colorbar\": {\"outlinewidth\": 0, \"ticks\": \"\"}, \"type\": \"contourcarpet\"}], \"heatmap\": [{\"colorbar\": {\"outlinewidth\": 0, \"ticks\": \"\"}, \"colorscale\": [[0.0, \"#0d0887\"], [0.1111111111111111, \"#46039f\"], [0.2222222222222222, \"#7201a8\"], [0.3333333333333333, \"#9c179e\"], [0.4444444444444444, \"#bd3786\"], [0.5555555555555556, \"#d8576b\"], [0.6666666666666666, \"#ed7953\"], [0.7777777777777778, \"#fb9f3a\"], [0.8888888888888888, \"#fdca26\"], [1.0, \"#f0f921\"]], \"type\": \"heatmap\"}], \"heatmapgl\": [{\"colorbar\": {\"outlinewidth\": 0, \"ticks\": \"\"}, \"colorscale\": [[0.0, \"#0d0887\"], [0.1111111111111111, \"#46039f\"], [0.2222222222222222, \"#7201a8\"], [0.3333333333333333, \"#9c179e\"], [0.4444444444444444, \"#bd3786\"], [0.5555555555555556, \"#d8576b\"], [0.6666666666666666, \"#ed7953\"], [0.7777777777777778, \"#fb9f3a\"], [0.8888888888888888, \"#fdca26\"], [1.0, \"#f0f921\"]], \"type\": \"heatmapgl\"}], \"histogram\": [{\"marker\": {\"colorbar\": {\"outlinewidth\": 0, \"ticks\": \"\"}}, \"type\": \"histogram\"}], \"histogram2d\": [{\"colorbar\": {\"outlinewidth\": 0, \"ticks\": \"\"}, \"colorscale\": [[0.0, \"#0d0887\"], [0.1111111111111111, \"#46039f\"], [0.2222222222222222, \"#7201a8\"], [0.3333333333333333, \"#9c179e\"], [0.4444444444444444, \"#bd3786\"], [0.5555555555555556, \"#d8576b\"], [0.6666666666666666, \"#ed7953\"], [0.7777777777777778, \"#fb9f3a\"], [0.8888888888888888, \"#fdca26\"], [1.0, \"#f0f921\"]], \"type\": \"histogram2d\"}], \"histogram2dcontour\": [{\"colorbar\": {\"outlinewidth\": 0, \"ticks\": \"\"}, \"colorscale\": [[0.0, \"#0d0887\"], [0.1111111111111111, \"#46039f\"], [0.2222222222222222, \"#7201a8\"], [0.3333333333333333, \"#9c179e\"], [0.4444444444444444, \"#bd3786\"], [0.5555555555555556, \"#d8576b\"], [0.6666666666666666, \"#ed7953\"], [0.7777777777777778, \"#fb9f3a\"], [0.8888888888888888, \"#fdca26\"], [1.0, \"#f0f921\"]], \"type\": \"histogram2dcontour\"}], \"mesh3d\": [{\"colorbar\": {\"outlinewidth\": 0, \"ticks\": \"\"}, \"type\": \"mesh3d\"}], \"parcoords\": [{\"line\": {\"colorbar\": {\"outlinewidth\": 0, \"ticks\": \"\"}}, \"type\": \"parcoords\"}], \"scatter\": [{\"marker\": {\"colorbar\": {\"outlinewidth\": 0, \"ticks\": \"\"}}, \"type\": \"scatter\"}], \"scatter3d\": [{\"line\": {\"colorbar\": {\"outlinewidth\": 0, \"ticks\": \"\"}}, \"marker\": {\"colorbar\": {\"outlinewidth\": 0, \"ticks\": \"\"}}, \"type\": \"scatter3d\"}], \"scattercarpet\": [{\"marker\": {\"colorbar\": {\"outlinewidth\": 0, \"ticks\": \"\"}}, \"type\": \"scattercarpet\"}], \"scattergeo\": [{\"marker\": {\"colorbar\": {\"outlinewidth\": 0, \"ticks\": \"\"}}, \"type\": \"scattergeo\"}], \"scattergl\": [{\"marker\": {\"colorbar\": {\"outlinewidth\": 0, \"ticks\": \"\"}}, \"type\": \"scattergl\"}], \"scattermapbox\": [{\"marker\": {\"colorbar\": {\"outlinewidth\": 0, \"ticks\": \"\"}}, \"type\": \"scattermapbox\"}], \"scatterpolar\": [{\"marker\": {\"colorbar\": {\"outlinewidth\": 0, \"ticks\": \"\"}}, \"type\": \"scatterpolar\"}], \"scatterpolargl\": [{\"marker\": {\"colorbar\": {\"outlinewidth\": 0, \"ticks\": \"\"}}, \"type\": \"scatterpolargl\"}], \"scatterternary\": [{\"marker\": {\"colorbar\": {\"outlinewidth\": 0, \"ticks\": \"\"}}, \"type\": \"scatterternary\"}], \"surface\": [{\"colorbar\": {\"outlinewidth\": 0, \"ticks\": \"\"}, \"colorscale\": [[0.0, \"#0d0887\"], [0.1111111111111111, \"#46039f\"], [0.2222222222222222, \"#7201a8\"], [0.3333333333333333, \"#9c179e\"], [0.4444444444444444, \"#bd3786\"], [0.5555555555555556, \"#d8576b\"], [0.6666666666666666, \"#ed7953\"], [0.7777777777777778, \"#fb9f3a\"], [0.8888888888888888, \"#fdca26\"], [1.0, \"#f0f921\"]], \"type\": \"surface\"}], \"table\": [{\"cells\": {\"fill\": {\"color\": \"#EBF0F8\"}, \"line\": {\"color\": \"white\"}}, \"header\": {\"fill\": {\"color\": \"#C8D4E3\"}, \"line\": {\"color\": \"white\"}}, \"type\": \"table\"}]}, \"layout\": {\"annotationdefaults\": {\"arrowcolor\": \"#2a3f5f\", \"arrowhead\": 0, \"arrowwidth\": 1}, \"colorscale\": {\"diverging\": [[0, \"#8e0152\"], [0.1, \"#c51b7d\"], [0.2, \"#de77ae\"], [0.3, \"#f1b6da\"], [0.4, \"#fde0ef\"], [0.5, \"#f7f7f7\"], [0.6, \"#e6f5d0\"], [0.7, \"#b8e186\"], [0.8, \"#7fbc41\"], [0.9, \"#4d9221\"], [1, \"#276419\"]], \"sequential\": [[0.0, \"#0d0887\"], [0.1111111111111111, \"#46039f\"], [0.2222222222222222, \"#7201a8\"], [0.3333333333333333, \"#9c179e\"], [0.4444444444444444, \"#bd3786\"], [0.5555555555555556, \"#d8576b\"], [0.6666666666666666, \"#ed7953\"], [0.7777777777777778, \"#fb9f3a\"], [0.8888888888888888, \"#fdca26\"], [1.0, \"#f0f921\"]], \"sequentialminus\": [[0.0, \"#0d0887\"], [0.1111111111111111, \"#46039f\"], [0.2222222222222222, \"#7201a8\"], [0.3333333333333333, \"#9c179e\"], [0.4444444444444444, \"#bd3786\"], [0.5555555555555556, \"#d8576b\"], [0.6666666666666666, \"#ed7953\"], [0.7777777777777778, \"#fb9f3a\"], [0.8888888888888888, \"#fdca26\"], [1.0, \"#f0f921\"]]}, \"colorway\": [\"#636efa\", \"#EF553B\", \"#00cc96\", \"#ab63fa\", \"#FFA15A\", \"#19d3f3\", \"#FF6692\", \"#B6E880\", \"#FF97FF\", \"#FECB52\"], \"font\": {\"color\": \"#2a3f5f\"}, \"geo\": {\"bgcolor\": \"white\", \"lakecolor\": \"white\", \"landcolor\": \"#E5ECF6\", \"showlakes\": true, \"showland\": true, \"subunitcolor\": \"white\"}, \"hoverlabel\": {\"align\": \"left\"}, \"hovermode\": \"closest\", \"mapbox\": {\"style\": \"light\"}, \"paper_bgcolor\": \"white\", \"plot_bgcolor\": \"#E5ECF6\", \"polar\": {\"angularaxis\": {\"gridcolor\": \"white\", \"linecolor\": \"white\", \"ticks\": \"\"}, \"bgcolor\": \"#E5ECF6\", \"radialaxis\": {\"gridcolor\": \"white\", \"linecolor\": \"white\", \"ticks\": \"\"}}, \"scene\": {\"xaxis\": {\"backgroundcolor\": \"#E5ECF6\", \"gridcolor\": \"white\", \"gridwidth\": 2, \"linecolor\": \"white\", \"showbackground\": true, \"ticks\": \"\", \"zerolinecolor\": \"white\"}, \"yaxis\": {\"backgroundcolor\": \"#E5ECF6\", \"gridcolor\": \"white\", \"gridwidth\": 2, \"linecolor\": \"white\", \"showbackground\": true, \"ticks\": \"\", \"zerolinecolor\": \"white\"}, \"zaxis\": {\"backgroundcolor\": \"#E5ECF6\", \"gridcolor\": \"white\", \"gridwidth\": 2, \"linecolor\": \"white\", \"showbackground\": true, \"ticks\": \"\", \"zerolinecolor\": \"white\"}}, \"shapedefaults\": {\"line\": {\"color\": \"#2a3f5f\"}}, \"ternary\": {\"aaxis\": {\"gridcolor\": \"white\", \"linecolor\": \"white\", \"ticks\": \"\"}, \"baxis\": {\"gridcolor\": \"white\", \"linecolor\": \"white\", \"ticks\": \"\"}, \"bgcolor\": \"#E5ECF6\", \"caxis\": {\"gridcolor\": \"white\", \"linecolor\": \"white\", \"ticks\": \"\"}}, \"title\": {\"x\": 0.05}, \"xaxis\": {\"automargin\": true, \"gridcolor\": \"white\", \"linecolor\": \"white\", \"ticks\": \"\", \"zerolinecolor\": \"white\", \"zerolinewidth\": 2}, \"yaxis\": {\"automargin\": true, \"gridcolor\": \"white\", \"linecolor\": \"white\", \"ticks\": \"\", \"zerolinecolor\": \"white\", \"zerolinewidth\": 2}}}, \"title\": {\"text\": \"Target Count\"}},\n",
       "                        {\"responsive\": true}\n",
       "                    ).then(function(){\n",
       "                            \n",
       "var gd = document.getElementById('5d1e9644-aeb6-4eed-bcb4-2ad60d037611');\n",
       "var x = new MutationObserver(function (mutations, observer) {{\n",
       "        var display = window.getComputedStyle(gd).display;\n",
       "        if (!display || display === 'none') {{\n",
       "            console.log([gd, 'removed!']);\n",
       "            Plotly.purge(gd);\n",
       "            observer.disconnect();\n",
       "        }}\n",
       "}});\n",
       "\n",
       "// Listen for the removal of the full notebook cells\n",
       "var notebookContainer = gd.closest('#notebook-container');\n",
       "if (notebookContainer) {{\n",
       "    x.observe(notebookContainer, {childList: true});\n",
       "}}\n",
       "\n",
       "// Listen for the clearing of the current output cell\n",
       "var outputEl = gd.closest('.output');\n",
       "if (outputEl) {{\n",
       "    x.observe(outputEl, {childList: true});\n",
       "}}\n",
       "\n",
       "                        })\n",
       "                };\n",
       "                });\n",
       "            </script>\n",
       "        </div>"
      ]
     },
     "metadata": {},
     "output_type": "display_data"
    },
    {
     "data": {
      "application/vnd.plotly.v1+json": {
       "config": {
        "linkText": "Export to plot.ly",
        "plotlyServerURL": "https://plot.ly",
        "showLink": false
       },
       "data": [
        {
         "labels": [
          0,
          1
         ],
         "type": "pie",
         "values": [
          93.81298224821265,
          6.187017751787352
         ]
        }
       ],
       "layout": {
        "font": {
         "size": 18
        },
        "height": 600,
        "template": {
         "data": {
          "bar": [
           {
            "error_x": {
             "color": "#2a3f5f"
            },
            "error_y": {
             "color": "#2a3f5f"
            },
            "marker": {
             "line": {
              "color": "#E5ECF6",
              "width": 0.5
             }
            },
            "type": "bar"
           }
          ],
          "barpolar": [
           {
            "marker": {
             "line": {
              "color": "#E5ECF6",
              "width": 0.5
             }
            },
            "type": "barpolar"
           }
          ],
          "carpet": [
           {
            "aaxis": {
             "endlinecolor": "#2a3f5f",
             "gridcolor": "white",
             "linecolor": "white",
             "minorgridcolor": "white",
             "startlinecolor": "#2a3f5f"
            },
            "baxis": {
             "endlinecolor": "#2a3f5f",
             "gridcolor": "white",
             "linecolor": "white",
             "minorgridcolor": "white",
             "startlinecolor": "#2a3f5f"
            },
            "type": "carpet"
           }
          ],
          "choropleth": [
           {
            "colorbar": {
             "outlinewidth": 0,
             "ticks": ""
            },
            "type": "choropleth"
           }
          ],
          "contour": [
           {
            "colorbar": {
             "outlinewidth": 0,
             "ticks": ""
            },
            "colorscale": [
             [
              0,
              "#0d0887"
             ],
             [
              0.1111111111111111,
              "#46039f"
             ],
             [
              0.2222222222222222,
              "#7201a8"
             ],
             [
              0.3333333333333333,
              "#9c179e"
             ],
             [
              0.4444444444444444,
              "#bd3786"
             ],
             [
              0.5555555555555556,
              "#d8576b"
             ],
             [
              0.6666666666666666,
              "#ed7953"
             ],
             [
              0.7777777777777778,
              "#fb9f3a"
             ],
             [
              0.8888888888888888,
              "#fdca26"
             ],
             [
              1,
              "#f0f921"
             ]
            ],
            "type": "contour"
           }
          ],
          "contourcarpet": [
           {
            "colorbar": {
             "outlinewidth": 0,
             "ticks": ""
            },
            "type": "contourcarpet"
           }
          ],
          "heatmap": [
           {
            "colorbar": {
             "outlinewidth": 0,
             "ticks": ""
            },
            "colorscale": [
             [
              0,
              "#0d0887"
             ],
             [
              0.1111111111111111,
              "#46039f"
             ],
             [
              0.2222222222222222,
              "#7201a8"
             ],
             [
              0.3333333333333333,
              "#9c179e"
             ],
             [
              0.4444444444444444,
              "#bd3786"
             ],
             [
              0.5555555555555556,
              "#d8576b"
             ],
             [
              0.6666666666666666,
              "#ed7953"
             ],
             [
              0.7777777777777778,
              "#fb9f3a"
             ],
             [
              0.8888888888888888,
              "#fdca26"
             ],
             [
              1,
              "#f0f921"
             ]
            ],
            "type": "heatmap"
           }
          ],
          "heatmapgl": [
           {
            "colorbar": {
             "outlinewidth": 0,
             "ticks": ""
            },
            "colorscale": [
             [
              0,
              "#0d0887"
             ],
             [
              0.1111111111111111,
              "#46039f"
             ],
             [
              0.2222222222222222,
              "#7201a8"
             ],
             [
              0.3333333333333333,
              "#9c179e"
             ],
             [
              0.4444444444444444,
              "#bd3786"
             ],
             [
              0.5555555555555556,
              "#d8576b"
             ],
             [
              0.6666666666666666,
              "#ed7953"
             ],
             [
              0.7777777777777778,
              "#fb9f3a"
             ],
             [
              0.8888888888888888,
              "#fdca26"
             ],
             [
              1,
              "#f0f921"
             ]
            ],
            "type": "heatmapgl"
           }
          ],
          "histogram": [
           {
            "marker": {
             "colorbar": {
              "outlinewidth": 0,
              "ticks": ""
             }
            },
            "type": "histogram"
           }
          ],
          "histogram2d": [
           {
            "colorbar": {
             "outlinewidth": 0,
             "ticks": ""
            },
            "colorscale": [
             [
              0,
              "#0d0887"
             ],
             [
              0.1111111111111111,
              "#46039f"
             ],
             [
              0.2222222222222222,
              "#7201a8"
             ],
             [
              0.3333333333333333,
              "#9c179e"
             ],
             [
              0.4444444444444444,
              "#bd3786"
             ],
             [
              0.5555555555555556,
              "#d8576b"
             ],
             [
              0.6666666666666666,
              "#ed7953"
             ],
             [
              0.7777777777777778,
              "#fb9f3a"
             ],
             [
              0.8888888888888888,
              "#fdca26"
             ],
             [
              1,
              "#f0f921"
             ]
            ],
            "type": "histogram2d"
           }
          ],
          "histogram2dcontour": [
           {
            "colorbar": {
             "outlinewidth": 0,
             "ticks": ""
            },
            "colorscale": [
             [
              0,
              "#0d0887"
             ],
             [
              0.1111111111111111,
              "#46039f"
             ],
             [
              0.2222222222222222,
              "#7201a8"
             ],
             [
              0.3333333333333333,
              "#9c179e"
             ],
             [
              0.4444444444444444,
              "#bd3786"
             ],
             [
              0.5555555555555556,
              "#d8576b"
             ],
             [
              0.6666666666666666,
              "#ed7953"
             ],
             [
              0.7777777777777778,
              "#fb9f3a"
             ],
             [
              0.8888888888888888,
              "#fdca26"
             ],
             [
              1,
              "#f0f921"
             ]
            ],
            "type": "histogram2dcontour"
           }
          ],
          "mesh3d": [
           {
            "colorbar": {
             "outlinewidth": 0,
             "ticks": ""
            },
            "type": "mesh3d"
           }
          ],
          "parcoords": [
           {
            "line": {
             "colorbar": {
              "outlinewidth": 0,
              "ticks": ""
             }
            },
            "type": "parcoords"
           }
          ],
          "scatter": [
           {
            "marker": {
             "colorbar": {
              "outlinewidth": 0,
              "ticks": ""
             }
            },
            "type": "scatter"
           }
          ],
          "scatter3d": [
           {
            "line": {
             "colorbar": {
              "outlinewidth": 0,
              "ticks": ""
             }
            },
            "marker": {
             "colorbar": {
              "outlinewidth": 0,
              "ticks": ""
             }
            },
            "type": "scatter3d"
           }
          ],
          "scattercarpet": [
           {
            "marker": {
             "colorbar": {
              "outlinewidth": 0,
              "ticks": ""
             }
            },
            "type": "scattercarpet"
           }
          ],
          "scattergeo": [
           {
            "marker": {
             "colorbar": {
              "outlinewidth": 0,
              "ticks": ""
             }
            },
            "type": "scattergeo"
           }
          ],
          "scattergl": [
           {
            "marker": {
             "colorbar": {
              "outlinewidth": 0,
              "ticks": ""
             }
            },
            "type": "scattergl"
           }
          ],
          "scattermapbox": [
           {
            "marker": {
             "colorbar": {
              "outlinewidth": 0,
              "ticks": ""
             }
            },
            "type": "scattermapbox"
           }
          ],
          "scatterpolar": [
           {
            "marker": {
             "colorbar": {
              "outlinewidth": 0,
              "ticks": ""
             }
            },
            "type": "scatterpolar"
           }
          ],
          "scatterpolargl": [
           {
            "marker": {
             "colorbar": {
              "outlinewidth": 0,
              "ticks": ""
             }
            },
            "type": "scatterpolargl"
           }
          ],
          "scatterternary": [
           {
            "marker": {
             "colorbar": {
              "outlinewidth": 0,
              "ticks": ""
             }
            },
            "type": "scatterternary"
           }
          ],
          "surface": [
           {
            "colorbar": {
             "outlinewidth": 0,
             "ticks": ""
            },
            "colorscale": [
             [
              0,
              "#0d0887"
             ],
             [
              0.1111111111111111,
              "#46039f"
             ],
             [
              0.2222222222222222,
              "#7201a8"
             ],
             [
              0.3333333333333333,
              "#9c179e"
             ],
             [
              0.4444444444444444,
              "#bd3786"
             ],
             [
              0.5555555555555556,
              "#d8576b"
             ],
             [
              0.6666666666666666,
              "#ed7953"
             ],
             [
              0.7777777777777778,
              "#fb9f3a"
             ],
             [
              0.8888888888888888,
              "#fdca26"
             ],
             [
              1,
              "#f0f921"
             ]
            ],
            "type": "surface"
           }
          ],
          "table": [
           {
            "cells": {
             "fill": {
              "color": "#EBF0F8"
             },
             "line": {
              "color": "white"
             }
            },
            "header": {
             "fill": {
              "color": "#C8D4E3"
             },
             "line": {
              "color": "white"
             }
            },
            "type": "table"
           }
          ]
         },
         "layout": {
          "annotationdefaults": {
           "arrowcolor": "#2a3f5f",
           "arrowhead": 0,
           "arrowwidth": 1
          },
          "colorscale": {
           "diverging": [
            [
             0,
             "#8e0152"
            ],
            [
             0.1,
             "#c51b7d"
            ],
            [
             0.2,
             "#de77ae"
            ],
            [
             0.3,
             "#f1b6da"
            ],
            [
             0.4,
             "#fde0ef"
            ],
            [
             0.5,
             "#f7f7f7"
            ],
            [
             0.6,
             "#e6f5d0"
            ],
            [
             0.7,
             "#b8e186"
            ],
            [
             0.8,
             "#7fbc41"
            ],
            [
             0.9,
             "#4d9221"
            ],
            [
             1,
             "#276419"
            ]
           ],
           "sequential": [
            [
             0,
             "#0d0887"
            ],
            [
             0.1111111111111111,
             "#46039f"
            ],
            [
             0.2222222222222222,
             "#7201a8"
            ],
            [
             0.3333333333333333,
             "#9c179e"
            ],
            [
             0.4444444444444444,
             "#bd3786"
            ],
            [
             0.5555555555555556,
             "#d8576b"
            ],
            [
             0.6666666666666666,
             "#ed7953"
            ],
            [
             0.7777777777777778,
             "#fb9f3a"
            ],
            [
             0.8888888888888888,
             "#fdca26"
            ],
            [
             1,
             "#f0f921"
            ]
           ],
           "sequentialminus": [
            [
             0,
             "#0d0887"
            ],
            [
             0.1111111111111111,
             "#46039f"
            ],
            [
             0.2222222222222222,
             "#7201a8"
            ],
            [
             0.3333333333333333,
             "#9c179e"
            ],
            [
             0.4444444444444444,
             "#bd3786"
            ],
            [
             0.5555555555555556,
             "#d8576b"
            ],
            [
             0.6666666666666666,
             "#ed7953"
            ],
            [
             0.7777777777777778,
             "#fb9f3a"
            ],
            [
             0.8888888888888888,
             "#fdca26"
            ],
            [
             1,
             "#f0f921"
            ]
           ]
          },
          "colorway": [
           "#636efa",
           "#EF553B",
           "#00cc96",
           "#ab63fa",
           "#FFA15A",
           "#19d3f3",
           "#FF6692",
           "#B6E880",
           "#FF97FF",
           "#FECB52"
          ],
          "font": {
           "color": "#2a3f5f"
          },
          "geo": {
           "bgcolor": "white",
           "lakecolor": "white",
           "landcolor": "#E5ECF6",
           "showlakes": true,
           "showland": true,
           "subunitcolor": "white"
          },
          "hoverlabel": {
           "align": "left"
          },
          "hovermode": "closest",
          "mapbox": {
           "style": "light"
          },
          "paper_bgcolor": "white",
          "plot_bgcolor": "#E5ECF6",
          "polar": {
           "angularaxis": {
            "gridcolor": "white",
            "linecolor": "white",
            "ticks": ""
           },
           "bgcolor": "#E5ECF6",
           "radialaxis": {
            "gridcolor": "white",
            "linecolor": "white",
            "ticks": ""
           }
          },
          "scene": {
           "xaxis": {
            "backgroundcolor": "#E5ECF6",
            "gridcolor": "white",
            "gridwidth": 2,
            "linecolor": "white",
            "showbackground": true,
            "ticks": "",
            "zerolinecolor": "white"
           },
           "yaxis": {
            "backgroundcolor": "#E5ECF6",
            "gridcolor": "white",
            "gridwidth": 2,
            "linecolor": "white",
            "showbackground": true,
            "ticks": "",
            "zerolinecolor": "white"
           },
           "zaxis": {
            "backgroundcolor": "#E5ECF6",
            "gridcolor": "white",
            "gridwidth": 2,
            "linecolor": "white",
            "showbackground": true,
            "ticks": "",
            "zerolinecolor": "white"
           }
          },
          "shapedefaults": {
           "line": {
            "color": "#2a3f5f"
           }
          },
          "ternary": {
           "aaxis": {
            "gridcolor": "white",
            "linecolor": "white",
            "ticks": ""
           },
           "baxis": {
            "gridcolor": "white",
            "linecolor": "white",
            "ticks": ""
           },
           "bgcolor": "#E5ECF6",
           "caxis": {
            "gridcolor": "white",
            "linecolor": "white",
            "ticks": ""
           }
          },
          "title": {
           "x": 0.05
          },
          "xaxis": {
           "automargin": true,
           "gridcolor": "white",
           "linecolor": "white",
           "ticks": "",
           "zerolinecolor": "white",
           "zerolinewidth": 2
          },
          "yaxis": {
           "automargin": true,
           "gridcolor": "white",
           "linecolor": "white",
           "ticks": "",
           "zerolinecolor": "white",
           "zerolinewidth": 2
          }
         }
        },
        "title": {
         "text": "Target distribution"
        },
        "width": 600
       }
      },
      "text/html": [
       "<div>\n",
       "        \n",
       "        \n",
       "            <div id=\"69adb4b4-af87-46a8-bc72-cd172cca75f5\" class=\"plotly-graph-div\" style=\"height:600px; width:600px;\"></div>\n",
       "            <script type=\"text/javascript\">\n",
       "                require([\"plotly\"], function(Plotly) {\n",
       "                    window.PLOTLYENV=window.PLOTLYENV || {};\n",
       "                    \n",
       "                if (document.getElementById(\"69adb4b4-af87-46a8-bc72-cd172cca75f5\")) {\n",
       "                    Plotly.newPlot(\n",
       "                        '69adb4b4-af87-46a8-bc72-cd172cca75f5',\n",
       "                        [{\"labels\": [0, 1], \"type\": \"pie\", \"values\": [93.81298224821265, 6.187017751787352]}],\n",
       "                        {\"font\": {\"size\": 18}, \"height\": 600, \"template\": {\"data\": {\"bar\": [{\"error_x\": {\"color\": \"#2a3f5f\"}, \"error_y\": {\"color\": \"#2a3f5f\"}, \"marker\": {\"line\": {\"color\": \"#E5ECF6\", \"width\": 0.5}}, \"type\": \"bar\"}], \"barpolar\": [{\"marker\": {\"line\": {\"color\": \"#E5ECF6\", \"width\": 0.5}}, \"type\": \"barpolar\"}], \"carpet\": [{\"aaxis\": {\"endlinecolor\": \"#2a3f5f\", \"gridcolor\": \"white\", \"linecolor\": \"white\", \"minorgridcolor\": \"white\", \"startlinecolor\": \"#2a3f5f\"}, \"baxis\": {\"endlinecolor\": \"#2a3f5f\", \"gridcolor\": \"white\", \"linecolor\": \"white\", \"minorgridcolor\": \"white\", \"startlinecolor\": \"#2a3f5f\"}, \"type\": \"carpet\"}], \"choropleth\": [{\"colorbar\": {\"outlinewidth\": 0, \"ticks\": \"\"}, \"type\": \"choropleth\"}], \"contour\": [{\"colorbar\": {\"outlinewidth\": 0, \"ticks\": \"\"}, \"colorscale\": [[0.0, \"#0d0887\"], [0.1111111111111111, \"#46039f\"], [0.2222222222222222, \"#7201a8\"], [0.3333333333333333, \"#9c179e\"], [0.4444444444444444, \"#bd3786\"], [0.5555555555555556, \"#d8576b\"], [0.6666666666666666, \"#ed7953\"], [0.7777777777777778, \"#fb9f3a\"], [0.8888888888888888, \"#fdca26\"], [1.0, \"#f0f921\"]], \"type\": \"contour\"}], \"contourcarpet\": [{\"colorbar\": {\"outlinewidth\": 0, \"ticks\": \"\"}, \"type\": \"contourcarpet\"}], \"heatmap\": [{\"colorbar\": {\"outlinewidth\": 0, \"ticks\": \"\"}, \"colorscale\": [[0.0, \"#0d0887\"], [0.1111111111111111, \"#46039f\"], [0.2222222222222222, \"#7201a8\"], [0.3333333333333333, \"#9c179e\"], [0.4444444444444444, \"#bd3786\"], [0.5555555555555556, \"#d8576b\"], [0.6666666666666666, \"#ed7953\"], [0.7777777777777778, \"#fb9f3a\"], [0.8888888888888888, \"#fdca26\"], [1.0, \"#f0f921\"]], \"type\": \"heatmap\"}], \"heatmapgl\": [{\"colorbar\": {\"outlinewidth\": 0, \"ticks\": \"\"}, \"colorscale\": [[0.0, \"#0d0887\"], [0.1111111111111111, \"#46039f\"], [0.2222222222222222, \"#7201a8\"], [0.3333333333333333, \"#9c179e\"], [0.4444444444444444, \"#bd3786\"], [0.5555555555555556, \"#d8576b\"], [0.6666666666666666, \"#ed7953\"], [0.7777777777777778, \"#fb9f3a\"], [0.8888888888888888, \"#fdca26\"], [1.0, \"#f0f921\"]], \"type\": \"heatmapgl\"}], \"histogram\": [{\"marker\": {\"colorbar\": {\"outlinewidth\": 0, \"ticks\": \"\"}}, \"type\": \"histogram\"}], \"histogram2d\": [{\"colorbar\": {\"outlinewidth\": 0, \"ticks\": \"\"}, \"colorscale\": [[0.0, \"#0d0887\"], [0.1111111111111111, \"#46039f\"], [0.2222222222222222, \"#7201a8\"], [0.3333333333333333, \"#9c179e\"], [0.4444444444444444, \"#bd3786\"], [0.5555555555555556, \"#d8576b\"], [0.6666666666666666, \"#ed7953\"], [0.7777777777777778, \"#fb9f3a\"], [0.8888888888888888, \"#fdca26\"], [1.0, \"#f0f921\"]], \"type\": \"histogram2d\"}], \"histogram2dcontour\": [{\"colorbar\": {\"outlinewidth\": 0, \"ticks\": \"\"}, \"colorscale\": [[0.0, \"#0d0887\"], [0.1111111111111111, \"#46039f\"], [0.2222222222222222, \"#7201a8\"], [0.3333333333333333, \"#9c179e\"], [0.4444444444444444, \"#bd3786\"], [0.5555555555555556, \"#d8576b\"], [0.6666666666666666, \"#ed7953\"], [0.7777777777777778, \"#fb9f3a\"], [0.8888888888888888, \"#fdca26\"], [1.0, \"#f0f921\"]], \"type\": \"histogram2dcontour\"}], \"mesh3d\": [{\"colorbar\": {\"outlinewidth\": 0, \"ticks\": \"\"}, \"type\": \"mesh3d\"}], \"parcoords\": [{\"line\": {\"colorbar\": {\"outlinewidth\": 0, \"ticks\": \"\"}}, \"type\": \"parcoords\"}], \"scatter\": [{\"marker\": {\"colorbar\": {\"outlinewidth\": 0, \"ticks\": \"\"}}, \"type\": \"scatter\"}], \"scatter3d\": [{\"line\": {\"colorbar\": {\"outlinewidth\": 0, \"ticks\": \"\"}}, \"marker\": {\"colorbar\": {\"outlinewidth\": 0, \"ticks\": \"\"}}, \"type\": \"scatter3d\"}], \"scattercarpet\": [{\"marker\": {\"colorbar\": {\"outlinewidth\": 0, \"ticks\": \"\"}}, \"type\": \"scattercarpet\"}], \"scattergeo\": [{\"marker\": {\"colorbar\": {\"outlinewidth\": 0, \"ticks\": \"\"}}, \"type\": \"scattergeo\"}], \"scattergl\": [{\"marker\": {\"colorbar\": {\"outlinewidth\": 0, \"ticks\": \"\"}}, \"type\": \"scattergl\"}], \"scattermapbox\": [{\"marker\": {\"colorbar\": {\"outlinewidth\": 0, \"ticks\": \"\"}}, \"type\": \"scattermapbox\"}], \"scatterpolar\": [{\"marker\": {\"colorbar\": {\"outlinewidth\": 0, \"ticks\": \"\"}}, \"type\": \"scatterpolar\"}], \"scatterpolargl\": [{\"marker\": {\"colorbar\": {\"outlinewidth\": 0, \"ticks\": \"\"}}, \"type\": \"scatterpolargl\"}], \"scatterternary\": [{\"marker\": {\"colorbar\": {\"outlinewidth\": 0, \"ticks\": \"\"}}, \"type\": \"scatterternary\"}], \"surface\": [{\"colorbar\": {\"outlinewidth\": 0, \"ticks\": \"\"}, \"colorscale\": [[0.0, \"#0d0887\"], [0.1111111111111111, \"#46039f\"], [0.2222222222222222, \"#7201a8\"], [0.3333333333333333, \"#9c179e\"], [0.4444444444444444, \"#bd3786\"], [0.5555555555555556, \"#d8576b\"], [0.6666666666666666, \"#ed7953\"], [0.7777777777777778, \"#fb9f3a\"], [0.8888888888888888, \"#fdca26\"], [1.0, \"#f0f921\"]], \"type\": \"surface\"}], \"table\": [{\"cells\": {\"fill\": {\"color\": \"#EBF0F8\"}, \"line\": {\"color\": \"white\"}}, \"header\": {\"fill\": {\"color\": \"#C8D4E3\"}, \"line\": {\"color\": \"white\"}}, \"type\": \"table\"}]}, \"layout\": {\"annotationdefaults\": {\"arrowcolor\": \"#2a3f5f\", \"arrowhead\": 0, \"arrowwidth\": 1}, \"colorscale\": {\"diverging\": [[0, \"#8e0152\"], [0.1, \"#c51b7d\"], [0.2, \"#de77ae\"], [0.3, \"#f1b6da\"], [0.4, \"#fde0ef\"], [0.5, \"#f7f7f7\"], [0.6, \"#e6f5d0\"], [0.7, \"#b8e186\"], [0.8, \"#7fbc41\"], [0.9, \"#4d9221\"], [1, \"#276419\"]], \"sequential\": [[0.0, \"#0d0887\"], [0.1111111111111111, \"#46039f\"], [0.2222222222222222, \"#7201a8\"], [0.3333333333333333, \"#9c179e\"], [0.4444444444444444, \"#bd3786\"], [0.5555555555555556, \"#d8576b\"], [0.6666666666666666, \"#ed7953\"], [0.7777777777777778, \"#fb9f3a\"], [0.8888888888888888, \"#fdca26\"], [1.0, \"#f0f921\"]], \"sequentialminus\": [[0.0, \"#0d0887\"], [0.1111111111111111, \"#46039f\"], [0.2222222222222222, \"#7201a8\"], [0.3333333333333333, \"#9c179e\"], [0.4444444444444444, \"#bd3786\"], [0.5555555555555556, \"#d8576b\"], [0.6666666666666666, \"#ed7953\"], [0.7777777777777778, \"#fb9f3a\"], [0.8888888888888888, \"#fdca26\"], [1.0, \"#f0f921\"]]}, \"colorway\": [\"#636efa\", \"#EF553B\", \"#00cc96\", \"#ab63fa\", \"#FFA15A\", \"#19d3f3\", \"#FF6692\", \"#B6E880\", \"#FF97FF\", \"#FECB52\"], \"font\": {\"color\": \"#2a3f5f\"}, \"geo\": {\"bgcolor\": \"white\", \"lakecolor\": \"white\", \"landcolor\": \"#E5ECF6\", \"showlakes\": true, \"showland\": true, \"subunitcolor\": \"white\"}, \"hoverlabel\": {\"align\": \"left\"}, \"hovermode\": \"closest\", \"mapbox\": {\"style\": \"light\"}, \"paper_bgcolor\": \"white\", \"plot_bgcolor\": \"#E5ECF6\", \"polar\": {\"angularaxis\": {\"gridcolor\": \"white\", \"linecolor\": \"white\", \"ticks\": \"\"}, \"bgcolor\": \"#E5ECF6\", \"radialaxis\": {\"gridcolor\": \"white\", \"linecolor\": \"white\", \"ticks\": \"\"}}, \"scene\": {\"xaxis\": {\"backgroundcolor\": \"#E5ECF6\", \"gridcolor\": \"white\", \"gridwidth\": 2, \"linecolor\": \"white\", \"showbackground\": true, \"ticks\": \"\", \"zerolinecolor\": \"white\"}, \"yaxis\": {\"backgroundcolor\": \"#E5ECF6\", \"gridcolor\": \"white\", \"gridwidth\": 2, \"linecolor\": \"white\", \"showbackground\": true, \"ticks\": \"\", \"zerolinecolor\": \"white\"}, \"zaxis\": {\"backgroundcolor\": \"#E5ECF6\", \"gridcolor\": \"white\", \"gridwidth\": 2, \"linecolor\": \"white\", \"showbackground\": true, \"ticks\": \"\", \"zerolinecolor\": \"white\"}}, \"shapedefaults\": {\"line\": {\"color\": \"#2a3f5f\"}}, \"ternary\": {\"aaxis\": {\"gridcolor\": \"white\", \"linecolor\": \"white\", \"ticks\": \"\"}, \"baxis\": {\"gridcolor\": \"white\", \"linecolor\": \"white\", \"ticks\": \"\"}, \"bgcolor\": \"#E5ECF6\", \"caxis\": {\"gridcolor\": \"white\", \"linecolor\": \"white\", \"ticks\": \"\"}}, \"title\": {\"x\": 0.05}, \"xaxis\": {\"automargin\": true, \"gridcolor\": \"white\", \"linecolor\": \"white\", \"ticks\": \"\", \"zerolinecolor\": \"white\", \"zerolinewidth\": 2}, \"yaxis\": {\"automargin\": true, \"gridcolor\": \"white\", \"linecolor\": \"white\", \"ticks\": \"\", \"zerolinecolor\": \"white\", \"zerolinewidth\": 2}}}, \"title\": {\"text\": \"Target distribution\"}, \"width\": 600},\n",
       "                        {\"responsive\": true}\n",
       "                    ).then(function(){\n",
       "                            \n",
       "var gd = document.getElementById('69adb4b4-af87-46a8-bc72-cd172cca75f5');\n",
       "var x = new MutationObserver(function (mutations, observer) {{\n",
       "        var display = window.getComputedStyle(gd).display;\n",
       "        if (!display || display === 'none') {{\n",
       "            console.log([gd, 'removed!']);\n",
       "            Plotly.purge(gd);\n",
       "            observer.disconnect();\n",
       "        }}\n",
       "}});\n",
       "\n",
       "// Listen for the removal of the full notebook cells\n",
       "var notebookContainer = gd.closest('#notebook-container');\n",
       "if (notebookContainer) {{\n",
       "    x.observe(notebookContainer, {childList: true});\n",
       "}}\n",
       "\n",
       "// Listen for the clearing of the current output cell\n",
       "var outputEl = gd.closest('.output');\n",
       "if (outputEl) {{\n",
       "    x.observe(outputEl, {childList: true});\n",
       "}}\n",
       "\n",
       "                        })\n",
       "                };\n",
       "                });\n",
       "            </script>\n",
       "        </div>"
      ]
     },
     "metadata": {},
     "output_type": "display_data"
    }
   ],
   "source": [
    "## target count ##\n",
    "cnt_srs = train_df['target'].value_counts()\n",
    "trace = go.Bar(\n",
    "    x=cnt_srs.index,\n",
    "    y=cnt_srs.values,\n",
    "    marker=dict(\n",
    "        color=cnt_srs.values,\n",
    "        colorscale = 'Picnic',\n",
    "        reversescale = True\n",
    "    ),\n",
    ")\n",
    "\n",
    "layout = go.Layout(\n",
    "    title='Target Count',\n",
    "    font=dict(size=18)\n",
    ")\n",
    "\n",
    "data = [trace]\n",
    "fig = go.Figure(data=data, layout=layout)\n",
    "py.iplot(fig, filename=\"TargetCount\")\n",
    "\n",
    "## target distribution ##\n",
    "labels = (np.array(cnt_srs.index))\n",
    "sizes = (np.array((cnt_srs / cnt_srs.sum())*100))\n",
    "\n",
    "trace = go.Pie(labels=labels, values=sizes)\n",
    "layout = go.Layout(\n",
    "    title='Target distribution',\n",
    "    font=dict(size=18),\n",
    "    width=600,\n",
    "    height=600,\n",
    ")\n",
    "data = [trace]\n",
    "fig = go.Figure(data=data, layout=layout)\n",
    "py.iplot(fig, filename=\"usertype\")"
   ]
  },
  {
   "cell_type": "markdown",
   "metadata": {
    "_uuid": "595a4e32ed75442c2500b9b12b178e40b0a7e155"
   },
   "source": [
    "So about 6% of the training data are insincere questions (target=1) and rest of them are sincere. \n",
    "\n",
    "**Word Cloud:**\n",
    "\n",
    "Now let us look at the frequently occuring words in the data by creating a word cloud on the 'question_text' column."
   ]
  },
  {
   "cell_type": "code",
   "execution_count": 39,
   "metadata": {},
   "outputs": [
    {
     "name": "stdout",
     "output_type": "stream",
     "text": [
      "Collecting wordcloud\n",
      "  Using cached https://files.pythonhosted.org/packages/f6/e7/f4ed7fac1993615b4ba92f473a77e27a3d210c5d23a000c2c98846963f9a/wordcloud-1.7.0-cp36-cp36m-manylinux1_x86_64.whl\n",
      "Requirement already satisfied: matplotlib in /opt/conda/lib/python3.6/site-packages (from wordcloud) (3.0.3)\n",
      "Requirement already satisfied: pillow in /opt/conda/lib/python3.6/site-packages (from wordcloud) (6.2.1)\n",
      "Requirement already satisfied: numpy>=1.6.1 in /opt/conda/lib/python3.6/site-packages (from wordcloud) (1.17.0)\n",
      "Requirement already satisfied: kiwisolver>=1.0.1 in /opt/conda/lib/python3.6/site-packages (from matplotlib->wordcloud) (1.1.0)\n",
      "Requirement already satisfied: python-dateutil>=2.1 in /opt/conda/lib/python3.6/site-packages (from matplotlib->wordcloud) (2.8.0)\n",
      "Requirement already satisfied: cycler>=0.10 in /opt/conda/lib/python3.6/site-packages (from matplotlib->wordcloud) (0.10.0)\n",
      "Requirement already satisfied: pyparsing!=2.0.4,!=2.1.2,!=2.1.6,>=2.0.1 in /opt/conda/lib/python3.6/site-packages (from matplotlib->wordcloud) (2.4.2)\n",
      "Requirement already satisfied: setuptools in /opt/conda/lib/python3.6/site-packages (from kiwisolver>=1.0.1->matplotlib->wordcloud) (41.4.0)\n",
      "Requirement already satisfied: six>=1.5 in /opt/conda/lib/python3.6/site-packages (from python-dateutil>=2.1->matplotlib->wordcloud) (1.12.0)\n",
      "Installing collected packages: wordcloud\n",
      "\u001b[33m  WARNING: The script wordcloud_cli is installed in '/notebooks/home/.local/bin' which is not on PATH.\n",
      "  Consider adding this directory to PATH or, if you prefer to suppress this warning, use --no-warn-script-location.\u001b[0m\n",
      "Successfully installed wordcloud-1.7.0\n"
     ]
    }
   ],
   "source": [
    "!pip install wordcloud --user"
   ]
  },
  {
   "cell_type": "code",
   "execution_count": 43,
   "metadata": {},
   "outputs": [
    {
     "name": "stdout",
     "output_type": "stream",
     "text": [
      "/notebooks/home\n",
      "/opt/conda/bin:/usr/local/sbin:/usr/local/bin:/usr/sbin:/usr/bin:/sbin:/bin\n"
     ]
    }
   ],
   "source": [
    "!echo $HOME\n",
    "!echo $PATH"
   ]
  },
  {
   "cell_type": "code",
   "execution_count": 46,
   "metadata": {},
   "outputs": [
    {
     "name": "stdout",
     "output_type": "stream",
     "text": [
      "4 drwxrwsr-x 2 root staff 4096 May  6  2019 /usr/local/bin\r\n",
      "4 drwxrwsr-x 2 root staff 4096 May  6  2019 /usr/local/sbin\r\n"
     ]
    }
   ],
   "source": [
    "!ls -lsd /usr/local/sbin /usr/local/bin"
   ]
  },
  {
   "cell_type": "code",
   "execution_count": 64,
   "metadata": {},
   "outputs": [],
   "source": [
    "!rm -rf $HOME/.local/bin/*"
   ]
  },
  {
   "cell_type": "code",
   "execution_count": 66,
   "metadata": {},
   "outputs": [
    {
     "name": "stdout",
     "output_type": "stream",
     "text": [
      "ls: cannot access '/notebooks/home/.local/bin/*': No such file or directory\n",
      "    4 -rw-r--r--  1 501 80     2562 Jun 11 01:43 /notebooks/home/.conda/pkgs/_libgcc_mutex-0.1-conda_forge.tar.bz2\n",
      "    8 -rw-r--r--  1 501 80     5187 Jun 11 01:45 /notebooks/home/.conda/pkgs/_openmp_mutex-4.5-1_llvm.tar.bz2\n",
      "  136 -rw-r--r--  1 501 80   135675 Jun 11 02:30 /notebooks/home/.conda/pkgs/ca-certificates-2020.1.1-0.tar.bz2\n",
      "  148 -rw-r--r--  1 501 80   150025 Jun 11 01:14 /notebooks/home/.conda/pkgs/ca-certificates-2020.4.5.2-hecda079_0.tar.bz2\n",
      "  152 -rw-r--r--  1 501 80   152093 Jun 11 03:04 /notebooks/home/.conda/pkgs/certifi-2019.11.28-py27_0.tar.bz2\n",
      "  160 -rw-r--r--  1 501 80   162855 Jun 11 02:30 /notebooks/home/.conda/pkgs/certifi-2020.4.5.1-py38_0.tar.bz2\n",
      "  152 -rw-r--r--  1 501 80   155511 Jun 11 01:15 /notebooks/home/.conda/pkgs/certifi-2020.4.5.2-py36h9f0ad1d_0.tar.bz2\n",
      "  156 -rw-r--r--  1 501 80   155907 Jun 11 01:43 /notebooks/home/.conda/pkgs/certifi-2020.4.5.2-py38h32f6830_0.tar.bz2\n",
      "  232 -rw-r--r--  1 501 80   233535 Jun 11 02:31 /notebooks/home/.conda/pkgs/cffi-1.14.0-py38he30daa8_1.tar.bz2\n",
      "  172 -rw-r--r--  1 501 80   174316 Jun 11 02:31 /notebooks/home/.conda/pkgs/chardet-3.0.4-py38_1003.tar.bz2\n",
      " 3100 -rw-r--r--  1 501 80  3170945 Jun 11 01:14 /notebooks/home/.conda/pkgs/conda-4.8.3-py36h9f0ad1d_1.tar.bz2\n",
      " 3112 -rw-r--r--  1 501 80  3185688 Jun 11 02:30 /notebooks/home/.conda/pkgs/conda-4.8.3-py38_0.tar.bz2\n",
      "  872 -rw-r--r--  1 501 80   889506 Jun 11 02:30 /notebooks/home/.conda/pkgs/conda-package-handling-1.6.1-py38h7b6447c_0.tar.bz2\n",
      "  632 -rw-r--r--  1 501 80   644864 Jun 11 02:30 /notebooks/home/.conda/pkgs/cryptography-2.9.2-py38h1ba5d50_0.tar.bz2\n",
      "   12 -rw-r--r--  1 501 80     9602 Jun 11 01:46 /notebooks/home/.conda/pkgs/cycler-0.10.0-py_2.tar.bz2\n",
      "  908 -rw-r--r--  1 501 80   927107 Jun 11 01:46 /notebooks/home/.conda/pkgs/freetype-2.10.2-he06d7ca_0.tar.bz2\n",
      "13136 -rw-r--r--  1 501 80 13186721 Jun 11 01:45 /notebooks/home/.conda/pkgs/icu-64.2-he1b5a44_1.tar.bz2\n",
      "   56 -rw-r--r--  1 501 80    57014 Jun 11 02:30 /notebooks/home/.conda/pkgs/idna-2.9-py_1.tar.bz2\n",
      "  268 -rw-r--r--  1 501 80   272409 Jun 11 01:45 /notebooks/home/.conda/pkgs/jpeg-9d-h516909a_0.tar.bz2\n",
      "   88 -rw-r--r--  1 501 80    89413 Jun 11 01:43 /notebooks/home/.conda/pkgs/kiwisolver-1.2.0-py38hbf85e49_0.tar.bz2\n",
      "  648 -rw-r--r--  1 501 80   660486 Jun 11 02:32 /notebooks/home/.conda/pkgs/ld_impl_linux-64-2.33.1-h53a641e_7.tar.bz2\n",
      "  616 -rw-r--r--  1 501 80   630736 Jun 11 01:47 /notebooks/home/.conda/pkgs/ld_impl_linux-64-2.34-h53a641e_5.tar.bz2\n",
      "   12 -rw-r--r--  1 501 80    10383 Jun 11 01:45 /notebooks/home/.conda/pkgs/libblas-3.8.0-16_openblas.tar.bz2\n",
      "   12 -rw-r--r--  1 501 80    10296 Jun 11 01:43 /notebooks/home/.conda/pkgs/libcblas-3.8.0-16_openblas.tar.bz2\n",
      "   48 -rw-r--r--  1 501 80    48003 Jun 11 01:44 /notebooks/home/.conda/pkgs/libffi-3.2.1-he1b5a44_1007.tar.bz2\n",
      "   56 -rw-r--r--  1 501 80    55007 Jun 11 02:30 /notebooks/home/.conda/pkgs/libffi-3.3-he6710b0_1.tar.bz2\n",
      " 8896 -rw-r--r--  1 501 80  8623390 Jun 11 01:46 /notebooks/home/.conda/pkgs/libgcc-ng-9.2.0-h24d8f2e_2.tar.bz2\n",
      " 1716 -rw-r--r--  1 501 80  1754730 Jun 11 01:44 /notebooks/home/.conda/pkgs/libgfortran-ng-7.5.0-hdf63c60_6.tar.bz2\n",
      "   12 -rw-r--r--  1 501 80    10325 Jun 11 01:43 /notebooks/home/.conda/pkgs/liblapack-3.8.0-16_openblas.tar.bz2\n",
      " 8368 -rw-r--r--  1 501 80  8156437 Jun 11 01:47 /notebooks/home/.conda/pkgs/libopenblas-0.3.9-h5ec1e0e_0.tar.bz2\n",
      "  312 -rw-r--r--  1 501 80   315784 Jun 11 01:47 /notebooks/home/.conda/pkgs/libpng-1.6.37-hed695b0_1.tar.bz2\n",
      " 4564 -rw-r--r--  1 501 80  4670814 Jun 11 01:46 /notebooks/home/.conda/pkgs/libstdcxx-ng-9.2.0-hdf63c60_2.tar.bz2\n",
      "  668 -rw-r--r--  1 501 80   683848 Jun 11 01:45 /notebooks/home/.conda/pkgs/libtiff-4.1.0-hc7e4089_6.tar.bz2\n",
      "  848 -rw-r--r--  1 501 80   865381 Jun 11 01:45 /notebooks/home/.conda/pkgs/libwebp-base-1.1.0-h516909a_3.tar.bz2\n",
      " 2864 -rw-r--r--  1 501 80  2928977 Jun 11 01:45 /notebooks/home/.conda/pkgs/llvm-openmp-10.0.0-hc9558a2_0.tar.bz2\n",
      "  228 -rw-r--r--  1 501 80   231679 Jun 11 01:45 /notebooks/home/.conda/pkgs/lz4-c-1.9.2-he1b5a44_1.tar.bz2\n",
      " 7536 -rw-r--r--  1 501 80  6944535 Jun 11 01:14 /notebooks/home/.conda/pkgs/matplotlib-base-3.1.3-py36hef1b27d_0.tar.bz2\n",
      " 7264 -rw-r--r--  1 501 80  7436272 Jun 11 01:44 /notebooks/home/.conda/pkgs/matplotlib-base-3.2.1-py38h2af1d28_0.tar.bz2\n",
      " 1344 -rw-r--r--  1 501 80  1376193 Jun 11 01:46 /notebooks/home/.conda/pkgs/ncurses-6.1-hf484d3e_1002.tar.bz2\n",
      " 1092 -rw-r--r--  1 501 80  1116403 Jun 11 02:03 /notebooks/home/.conda/pkgs/ncurses-6.2-he6710b0_1.tar.bz2\n",
      " 4360 -rw-r--r--  1 501 80  4463715 Jun 11 03:04 /notebooks/home/.conda/pkgs/numpy-1.16.5-py27h95a1406_0.tar.bz2\n",
      " 6304 -rw-r--r--  1 501 80  5422788 Jun 11 01:43 /notebooks/home/.conda/pkgs/numpy-1.18.5-py38h8854b6b_0.tar.bz2\n",
      "   32 -rw-r--r--  1 501 80    31322 Jun 11 01:43 /notebooks/home/.conda/pkgs/olefile-0.46-py_0.tar.bz2\n",
      " 3648 -rw-r--r--  1 501 80  3313747 Jun 11 01:14 /notebooks/home/.conda/pkgs/openssl-1.0.2u-h516909a_0.tar.bz2\n",
      " 2624 -rw-r--r--  1 501 80  2227395 Jun 11 01:43 /notebooks/home/.conda/pkgs/openssl-1.1.1g-h516909a_0.tar.bz2\n",
      " 3884 -rw-r--r--  1 501 80  3975903 Jun 11 02:30 /notebooks/home/.conda/pkgs/openssl-1.1.1g-h7b6447c_0.tar.bz2\n",
      "  628 -rw-r--r--  1 501 80   639887 Jun 11 03:04 /notebooks/home/.conda/pkgs/pillow-6.2.1-py27hd70f55b_1.tar.bz2\n",
      "  656 -rw-r--r--  1 501 80   670108 Jun 11 01:43 /notebooks/home/.conda/pkgs/pillow-7.1.2-py38h9776b28_0.tar.bz2\n",
      " 1932 -rw-r--r--  1 501 80  1977685 Jun 11 02:30 /notebooks/home/.conda/pkgs/pip-20.0.2-py38_3.tar.bz2\n",
      " 1080 -rw-r--r--  1 501 80  1105309 Jun 11 01:45 /notebooks/home/.conda/pkgs/pip-20.1.1-py_1.tar.bz2\n",
      " 1080 -rw-r--r--  1 501 80  1104526 Jun 11 03:04 /notebooks/home/.conda/pkgs/pip-20.1.1-pyh9f0ad1d_0.tar.bz2\n",
      "  108 -rw-r--r--  1 501 80   109687 Jun 11 02:30 /notebooks/home/.conda/pkgs/pycosat-0.6.3-py38h7b6447c_1.tar.bz2\n",
      "   96 -rw-r--r--  1 501 80    94947 Jun 11 02:31 /notebooks/home/.conda/pkgs/pycparser-2.20-py_0.tar.bz2\n",
      "   88 -rw-r--r--  1 501 80    89235 Jun 11 02:32 /notebooks/home/.conda/pkgs/pyopenssl-19.1.0-py38_0.tar.bz2\n",
      "   60 -rw-r--r--  1 501 80    60960 Jun 11 01:43 /notebooks/home/.conda/pkgs/pyparsing-2.4.7-pyh9f0ad1d_0.tar.bz2\n",
      "   28 -rw-r--r--  1 501 80    28112 Jun 11 02:30 /notebooks/home/.conda/pkgs/pysocks-1.7.1-py38_0.tar.bz2\n",
      "12992 -rw-r--r--  1 501 80 12872783 Jun 11 03:03 /notebooks/home/.conda/pkgs/python-2.7.15-h5a48372_1010_cpython.tar.bz2\n",
      "82928 -rw-r--r--  1 501 80 74419796 Jun 11 01:44 /notebooks/home/.conda/pkgs/python-3.8.3-cpython_he5300dc_0.tar.bz2\n",
      "59696 -rw-r--r--  1 501 80 60096409 Jun 11 02:31 /notebooks/home/.conda/pkgs/python-3.8.3-hcff3b4d_0.tar.bz2\n",
      "  220 -rw-r--r--  1 501 80   224841 Jun 11 01:43 /notebooks/home/.conda/pkgs/python-dateutil-2.8.1-py_0.tar.bz2\n",
      "    4 -rw-r--r--  1 501 80     3781 Jun 11 01:15 /notebooks/home/.conda/pkgs/python_abi-3.6-1_cp36m.tar.bz2\n",
      "    4 -rw-r--r--  1 501 80     3778 Jun 11 01:45 /notebooks/home/.conda/pkgs/python_abi-3.8-1_cp38.tar.bz2\n",
      "  428 -rw-r--r--  1 501 80   437901 Jun 11 02:30 /notebooks/home/.conda/pkgs/readline-8.0-h7b6447c_0.tar.bz2\n",
      "  444 -rw-r--r--  1 501 80   451643 Jun 11 01:43 /notebooks/home/.conda/pkgs/readline-8.0-hf8c457e_0.tar.bz2\n",
      "   92 -rw-r--r--  1 501 80    93191 Jun 11 02:30 /notebooks/home/.conda/pkgs/requests-2.23.0-py38_0.tar.bz2\n",
      "  272 -rw-r--r--  1 501 80   275486 Jun 11 02:30 /notebooks/home/.conda/pkgs/ruamel_yaml-0.15.87-py38h7b6447c_0.tar.bz2\n",
      "  664 -rw-r--r--  1 501 80   678847 Jun 11 03:03 /notebooks/home/.conda/pkgs/setuptools-44.0.0-py27_0.tar.bz2\n",
      "  652 -rw-r--r--  1 501 80   664641 Jun 11 02:30 /notebooks/home/.conda/pkgs/setuptools-47.1.1-py38_0.tar.bz2\n",
      "  656 -rw-r--r--  1 501 80   669138 Jun 11 01:43 /notebooks/home/.conda/pkgs/setuptools-47.1.1-py38h32f6830_0.tar.bz2\n",
      "   16 -rw-r--r--  1 501 80    13402 Jun 11 02:31 /notebooks/home/.conda/pkgs/six-1.15.0-py_0.tar.bz2\n",
      "   16 -rw-r--r--  1 501 80    13926 Jun 11 01:43 /notebooks/home/.conda/pkgs/six-1.15.0-pyh9f0ad1d_0.tar.bz2\n",
      " 2012 -rw-r--r--  1 501 80  2059655 Jun 11 01:45 /notebooks/home/.conda/pkgs/sqlite-3.30.1-hcee41ef_0.tar.bz2\n",
      " 2052 -rw-r--r--  1 501 80  2101076 Jun 11 02:31 /notebooks/home/.conda/pkgs/sqlite-3.31.1-h62c20be_1.tar.bz2\n",
      " 3296 -rw-r--r--  1 501 80  3372242 Jun 11 01:46 /notebooks/home/.conda/pkgs/tk-8.6.10-hed695b0_0.tar.bz2\n",
      "  644 -rw-r--r--  1 501 80   657445 Jun 11 01:45 /notebooks/home/.conda/pkgs/tornado-6.0.4-py38h1e0a361_1.tar.bz2\n",
      "   60 -rw-r--r--  1 501 80    61172 Jun 11 02:30 /notebooks/home/.conda/pkgs/tqdm-4.46.0-py_0.tar.bz2\n",
      "  168 -rw-r--r--  1 501 80   169757 Jun 11 02:30 /notebooks/home/.conda/pkgs/urllib3-1.25.8-py38_0.tar.bz2\n",
      "    0 -rw-r--r--  1 501 80        0 Jun 11 01:06 /notebooks/home/.conda/pkgs/urls\n",
      "    8 -rw-r--r--  1 501 80     6955 Jun 11 03:04 /notebooks/home/.conda/pkgs/urls.txt\n",
      "   52 -rw-r--r--  1 501 80    50342 Jun 11 02:31 /notebooks/home/.conda/pkgs/wheel-0.34.2-py38_0.tar.bz2\n",
      "   24 -rw-r--r--  1 501 80    24204 Jun 11 01:43 /notebooks/home/.conda/pkgs/wheel-0.34.2-py_1.tar.bz2\n",
      "  352 -rw-r--r--  1 501 80   312280 Jun 11 03:04 /notebooks/home/.conda/pkgs/wordcloud-1.2.1-py27_0.tar.bz2\n",
      "  192 -rw-r--r--  1 501 80   194067 Jun 11 01:14 /notebooks/home/.conda/pkgs/wordcloud-1.7.0-py36h8c4c3a4_0.tar.bz2\n",
      "  196 -rw-r--r--  1 501 80   196734 Jun 11 01:43 /notebooks/home/.conda/pkgs/wordcloud-1.7.0-py38h1e0a361_0.tar.bz2\n",
      "  432 -rw-r--r--  1 501 80   440739 Jun 11 01:43 /notebooks/home/.conda/pkgs/xz-5.2.5-h516909a_0.tar.bz2\n",
      "  440 -rw-r--r--  1 501 80   448605 Jun 11 02:31 /notebooks/home/.conda/pkgs/xz-5.2.5-h7b6447c_0.tar.bz2\n",
      "  108 -rw-r--r--  1 501 80   107652 Jun 11 01:45 /notebooks/home/.conda/pkgs/zlib-1.2.11-h516909a_1006.tar.bz2\n",
      "  992 -rw-r--r--  1 501 80  1014904 Jun 11 01:47 /notebooks/home/.conda/pkgs/zstd-1.4.4-h6597ccf_3.tar.bz2\n",
      "\n",
      "/notebooks/home/.conda/pkgs/_libgcc_mutex-0.1-conda_forge:\n",
      "total 0\n",
      "0 drwxr-xr-x   3 501 80   96 Jun 11 01:43 .\n",
      "0 drwxrwxr-x 177 501 80 5664 Jun 11 03:04 ..\n",
      "0 drwxr-xr-x  11 501 80  352 Jun 11 01:43 info\n",
      "\n",
      "/notebooks/home/.conda/pkgs/_openmp_mutex-4.5-1_llvm:\n"
     ]
    },
    {
     "name": "stdout",
     "output_type": "stream",
     "text": [
      "total 0\n",
      "0 drwxr-xr-x   4 501 80  128 Jun 11 01:45 .\n",
      "0 drwxrwxr-x 177 501 80 5664 Jun 11 03:04 ..\n",
      "0 drwxr-xr-x  13 501 80  416 Jun 11 01:45 info\n",
      "0 drwxr-xr-x   3 501 80   96 Jun 11 01:45 lib\n",
      "\n",
      "/notebooks/home/.conda/pkgs/ca-certificates-2020.1.1-0:\n",
      "total 0\n",
      "0 drwxr-xr-x   4 501 80  128 Jun 11 02:30 .\n",
      "0 drwxrwxr-x 177 501 80 5664 Jun 11 03:04 ..\n",
      "0 drwxr-xr-x  11 501 80  352 Jun 11 02:30 info\n",
      "0 drwxr-xr-x   4 501 80  128 Jun 11 02:30 ssl\n",
      "\n",
      "/notebooks/home/.conda/pkgs/ca-certificates-2020.4.5.2-hecda079_0:\n",
      "total 0\n",
      "0 drwxr-xr-x   4 501 80  128 Jun 11 01:14 .\n",
      "0 drwxrwxr-x 177 501 80 5664 Jun 11 03:04 ..\n",
      "0 drwxr-xr-x  12 501 80  384 Jun 11 01:14 info\n",
      "0 drwxr-xr-x   4 501 80  128 Jun 11 01:14 ssl\n",
      "\n",
      "/notebooks/home/.conda/pkgs/cache:\n",
      "total 210852\n",
      "    0 drwxrwxr-x  14 501 80      448 Jun 11 01:07 .\n",
      "    0 drwxrwxr-x 177 501 80     5664 Jun 11 03:04 ..\n",
      "18560 -rw-r--r--   1 501 80 18845719 Jun 11 03:02 09cdf8bf.json\n",
      "13440 -rw-r--r--   1 501 80 13231326 Jun 11 03:02 09cdf8bf.q\n",
      " 6924 -rw-r--r--   1 501 80  7087815 Jun 11 03:02 2ce54b42.json\n",
      " 2912 -rw-r--r--   1 501 80  2981567 Jun 11 01:06 2ce54b42.q\n",
      " 2176 -rw-r--r--   1 501 80  1584170 Jun 11 03:02 3e39a7aa.json\n",
      "  584 -rw-r--r--   1 501 80   596804 Jun 11 01:41 3e39a7aa.q\n",
      "20608 -rw-r--r--   1 501 80 20890136 Jun 11 03:02 47929eba.json\n",
      " 8320 -rw-r--r--   1 501 80  7750217 Jun 11 01:42 47929eba.q\n",
      "82048 -rw-r--r--   1 501 80 71425383 Jun 11 03:02 497deca9.json\n",
      "50304 -rw-r--r--   1 501 80 51249711 Jun 11 03:02 497deca9.q\n",
      " 2872 -rw-r--r--   1 501 80  2938964 Jun 11 03:02 4ea078d6.json\n",
      " 2104 -rw-r--r--   1 501 80  2152531 Jun 11 01:06 4ea078d6.q\n",
      "\n",
      "/notebooks/home/.conda/pkgs/certifi-2019.11.28-py27_0:\n",
      "total 0\n",
      "0 drwxr-xr-x   4 501 80  128 Jun 11 03:04 .\n",
      "0 drwxrwxr-x 177 501 80 5664 Jun 11 03:04 ..\n",
      "0 drwxr-xr-x  12 501 80  384 Jun 11 03:04 info\n",
      "0 drwxr-xr-x   3 501 80   96 Jun 11 03:04 lib\n",
      "\n",
      "/notebooks/home/.conda/pkgs/certifi-2020.4.5.1-py38_0:\n",
      "total 0\n",
      "0 drwxr-xr-x   4 501 80  128 Jun 11 02:30 .\n",
      "0 drwxrwxr-x 177 501 80 5664 Jun 11 03:04 ..\n",
      "0 drwxr-xr-x  12 501 80  384 Jun 11 02:30 info\n",
      "0 drwxr-xr-x   3 501 80   96 Jun 11 02:30 lib\n",
      "\n",
      "/notebooks/home/.conda/pkgs/certifi-2020.4.5.2-py36h9f0ad1d_0:\n",
      "total 0\n",
      "0 drwxr-xr-x   4 501 80  128 Jun 11 01:15 .\n",
      "0 drwxrwxr-x 177 501 80 5664 Jun 11 03:04 ..\n",
      "0 drwxr-xr-x  12 501 80  384 Jun 11 01:15 info\n",
      "0 drwxr-xr-x   3 501 80   96 Jun 11 01:15 lib\n",
      "\n",
      "/notebooks/home/.conda/pkgs/certifi-2020.4.5.2-py38h32f6830_0:\n",
      "total 0\n",
      "0 drwxr-xr-x   4 501 80  128 Jun 11 01:43 .\n",
      "0 drwxrwxr-x 177 501 80 5664 Jun 11 03:04 ..\n",
      "0 drwxr-xr-x  12 501 80  384 Jun 11 01:43 info\n",
      "0 drwxr-xr-x   3 501 80   96 Jun 11 01:43 lib\n",
      "\n",
      "/notebooks/home/.conda/pkgs/cffi-1.14.0-py38he30daa8_1:\n",
      "total 0\n",
      "0 drwxr-xr-x   4 501 80  128 Jun 11 02:31 .\n",
      "0 drwxrwxr-x 177 501 80 5664 Jun 11 03:04 ..\n",
      "0 drwxr-xr-x  12 501 80  384 Jun 11 02:31 info\n",
      "0 drwxr-xr-x   3 501 80   96 Jun 11 02:31 lib\n",
      "\n",
      "/notebooks/home/.conda/pkgs/chardet-3.0.4-py38_1003:\n",
      "total 0\n",
      "0 drwxr-xr-x   5 501 80  160 Jun 11 02:31 .\n",
      "0 drwxrwxr-x 177 501 80 5664 Jun 11 03:04 ..\n",
      "0 drwxr-xr-x   3 501 80   96 Jun 11 02:31 bin\n",
      "0 drwxr-xr-x  13 501 80  416 Jun 11 02:31 info\n",
      "0 drwxr-xr-x   3 501 80   96 Jun 11 02:31 lib\n",
      "\n",
      "/notebooks/home/.conda/pkgs/conda-4.8.3-py36h9f0ad1d_1:\n",
      "total 0\n",
      "0 drwxr-xr-x   8 501 80  256 Jun 11 01:14 .\n",
      "0 drwxrwxr-x 177 501 80 5664 Jun 11 03:04 ..\n",
      "0 drwxr-xr-x   6 501 80  192 Jun 11 01:14 bin\n",
      "0 drwxr-xr-x   3 501 80   96 Jun 11 01:14 condabin\n",
      "0 drwxr-xr-x   4 501 80  128 Jun 11 01:14 etc\n",
      "0 drwxr-xr-x  13 501 80  416 Jun 11 01:14 info\n",
      "0 drwxr-xr-x   3 501 80   96 Jun 11 01:14 lib\n",
      "0 drwxr-xr-x   3 501 80   96 Jun 11 01:14 shell\n",
      "\n",
      "/notebooks/home/.conda/pkgs/conda-4.8.3-py38_0:\n",
      "total 0\n",
      "0 drwxr-xr-x   8 501 80  256 Jun 11 02:30 .\n",
      "0 drwxrwxr-x 177 501 80 5664 Jun 11 03:04 ..\n",
      "0 drwxr-xr-x   6 501 80  192 Jun 11 02:30 bin\n",
      "0 drwxr-xr-x   3 501 80   96 Jun 11 02:30 condabin\n",
      "0 drwxr-xr-x   4 501 80  128 Jun 11 02:30 etc\n",
      "0 drwxr-xr-x  13 501 80  416 Jun 11 02:30 info\n",
      "0 drwxr-xr-x   3 501 80   96 Jun 11 02:30 lib\n",
      "0 drwxr-xr-x   3 501 80   96 Jun 11 02:30 shell\n",
      "\n",
      "/notebooks/home/.conda/pkgs/conda-package-handling-1.6.1-py38h7b6447c_0:\n",
      "total 0\n",
      "0 drwxr-xr-x   5 501 80  160 Jun 11 02:30 .\n",
      "0 drwxrwxr-x 177 501 80 5664 Jun 11 03:04 ..\n",
      "0 drwxr-xr-x   3 501 80   96 Jun 11 02:30 bin\n",
      "0 drwxr-xr-x  13 501 80  416 Jun 11 02:30 info\n",
      "0 drwxr-xr-x   3 501 80   96 Jun 11 02:30 lib\n",
      "\n",
      "/notebooks/home/.conda/pkgs/cryptography-2.9.2-py38h1ba5d50_0:\n",
      "total 0\n",
      "0 drwxr-xr-x   4 501 80  128 Jun 11 02:30 .\n",
      "0 drwxrwxr-x 177 501 80 5664 Jun 11 03:04 ..\n",
      "0 drwxr-xr-x  12 501 80  384 Jun 11 02:30 info\n",
      "0 drwxr-xr-x   3 501 80   96 Jun 11 02:30 lib\n",
      "\n",
      "/notebooks/home/.conda/pkgs/cycler-0.10.0-py_2:\n",
      "total 0\n",
      "0 drwxr-xr-x   4 501 80  128 Jun 11 01:46 .\n",
      "0 drwxrwxr-x 177 501 80 5664 Jun 11 03:04 ..\n",
      "0 drwxr-xr-x  13 501 80  416 Jun 11 01:46 info\n",
      "0 drwxr-xr-x   4 501 80  128 Jun 11 01:46 site-packages\n",
      "\n",
      "/notebooks/home/.conda/pkgs/freetype-2.10.2-he06d7ca_0:\n",
      "total 0\n",
      "0 drwxr-xr-x   7 501 80  224 Jun 11 01:46 .\n",
      "0 drwxrwxr-x 177 501 80 5664 Jun 11 03:04 ..\n",
      "0 drwxr-xr-x   3 501 80   96 Jun 11 01:46 bin\n",
      "0 drwxr-xr-x   3 501 80   96 Jun 11 01:46 include\n",
      "0 drwxr-xr-x  14 501 80  448 Jun 11 01:46 info\n",
      "0 drwxr-xr-x   7 501 80  224 Jun 11 01:46 lib\n",
      "0 drwxr-xr-x   4 501 80  128 Jun 11 01:46 share\n",
      "\n",
      "/notebooks/home/.conda/pkgs/icu-64.2-he1b5a44_1:\n",
      "total 0\n",
      "0 drwxr-xr-x   7 501 80  224 Jun 11 01:45 .\n",
      "0 drwxrwxr-x 177 501 80 5664 Jun 11 03:04 ..\n",
      "0 drwxr-xr-x  12 501 80  384 Jun 11 01:45 bin\n",
      "0 drwxr-xr-x   3 501 80   96 Jun 11 01:45 include\n",
      "0 drwxr-xr-x  14 501 80  448 Jun 11 01:45 info\n",
      "0 drwxr-xr-x  22 501 80  704 Jun 11 01:45 lib\n",
      "0 drwxr-xr-x   4 501 80  128 Jun 11 01:45 share\n",
      "\n",
      "/notebooks/home/.conda/pkgs/idna-2.9-py_1:\n",
      "total 0\n",
      "0 drwxr-xr-x   4 501 80  128 Jun 11 02:30 .\n",
      "0 drwxrwxr-x 177 501 80 5664 Jun 11 03:04 ..\n",
      "0 drwxr-xr-x  13 501 80  416 Jun 11 02:30 info\n",
      "0 drwxr-xr-x   4 501 80  128 Jun 11 02:30 site-packages\n",
      "\n",
      "/notebooks/home/.conda/pkgs/jpeg-9d-h516909a_0:\n",
      "total 0\n",
      "0 drwxr-xr-x   7 501 80  224 Jun 11 01:45 .\n",
      "0 drwxrwxr-x 177 501 80 5664 Jun 11 03:04 ..\n",
      "0 drwxr-xr-x   7 501 80  224 Jun 11 01:45 bin\n",
      "0 drwxr-xr-x   6 501 80  192 Jun 11 01:45 include\n",
      "0 drwxr-xr-x  14 501 80  448 Jun 11 01:45 info\n",
      "0 drwxr-xr-x   7 501 80  224 Jun 11 01:45 lib\n",
      "0 drwxr-xr-x   3 501 80   96 Jun 11 01:45 share\n",
      "\n",
      "/notebooks/home/.conda/pkgs/kiwisolver-1.2.0-py38hbf85e49_0:\n",
      "total 0\n",
      "0 drwxr-xr-x   4 501 80  128 Jun 11 01:43 .\n",
      "0 drwxrwxr-x 177 501 80 5664 Jun 11 03:04 ..\n",
      "0 drwxr-xr-x  12 501 80  384 Jun 11 01:43 info\n",
      "0 drwxr-xr-x   3 501 80   96 Jun 11 01:43 lib\n",
      "\n",
      "/notebooks/home/.conda/pkgs/ld_impl_linux-64-2.33.1-h53a641e_7:\n",
      "total 0\n",
      "0 drwxr-xr-x   4 501 80  128 Jun 11 02:32 .\n",
      "0 drwxrwxr-x 177 501 80 5664 Jun 11 03:04 ..\n",
      "0 drwxr-xr-x   3 501 80   96 Jun 11 02:32 bin\n",
      "0 drwxr-xr-x  12 501 80  384 Jun 11 02:32 info\n",
      "\n",
      "/notebooks/home/.conda/pkgs/ld_impl_linux-64-2.34-h53a641e_5:\n",
      "total 0\n",
      "0 drwxr-xr-x   4 501 80  128 Jun 11 01:47 .\n",
      "0 drwxrwxr-x 177 501 80 5664 Jun 11 03:04 ..\n",
      "0 drwxr-xr-x   3 501 80   96 Jun 11 01:47 bin\n",
      "0 drwxr-xr-x  12 501 80  384 Jun 11 01:47 info\n",
      "\n",
      "/notebooks/home/.conda/pkgs/libblas-3.8.0-16_openblas:\n",
      "total 0\n",
      "0 drwxr-xr-x   4 501 80  128 Jun 11 01:45 .\n",
      "0 drwxrwxr-x 177 501 80 5664 Jun 11 03:04 ..\n",
      "0 drwxr-xr-x  13 501 80  416 Jun 11 01:45 info\n",
      "0 drwxr-xr-x   4 501 80  128 Jun 11 01:45 lib\n",
      "\n",
      "/notebooks/home/.conda/pkgs/libcblas-3.8.0-16_openblas:\n",
      "total 0\n",
      "0 drwxr-xr-x   4 501 80  128 Jun 11 01:43 .\n",
      "0 drwxrwxr-x 177 501 80 5664 Jun 11 03:04 ..\n",
      "0 drwxr-xr-x  13 501 80  416 Jun 11 01:43 info\n",
      "0 drwxr-xr-x   4 501 80  128 Jun 11 01:43 lib\n",
      "\n",
      "/notebooks/home/.conda/pkgs/libffi-3.2.1-he1b5a44_1007:\n",
      "total 0\n",
      "0 drwxr-xr-x   6 501 80  192 Jun 11 01:44 .\n",
      "0 drwxrwxr-x 177 501 80 5664 Jun 11 03:04 ..\n",
      "0 drwxr-xr-x   4 501 80  128 Jun 11 01:44 include\n",
      "0 drwxr-xr-x  14 501 80  448 Jun 11 01:44 info\n",
      "0 drwxr-xr-x   7 501 80  224 Jun 11 01:44 lib\n",
      "0 drwxr-xr-x   4 501 80  128 Jun 11 01:44 share\n",
      "\n",
      "/notebooks/home/.conda/pkgs/libffi-3.3-he6710b0_1:\n",
      "total 0\n",
      "0 drwxr-xr-x   6 501 80  192 Jun 11 02:30 .\n",
      "0 drwxrwxr-x 177 501 80 5664 Jun 11 03:04 ..\n",
      "0 drwxr-xr-x   4 501 80  128 Jun 11 02:30 include\n",
      "0 drwxr-xr-x  13 501 80  416 Jun 11 02:30 info\n",
      "0 drwxr-xr-x   7 501 80  224 Jun 11 02:30 lib\n",
      "0 drwxr-xr-x   4 501 80  128 Jun 11 02:30 share\n",
      "\n",
      "/notebooks/home/.conda/pkgs/libgcc-ng-9.2.0-h24d8f2e_2:\n"
     ]
    },
    {
     "name": "stdout",
     "output_type": "stream",
     "text": [
      "total 0\n",
      "0 drwxr-xr-x   6 501 80  192 Jun 11 01:46 .\n",
      "0 drwxrwxr-x 177 501 80 5664 Jun 11 03:04 ..\n",
      "0 drwxr-xr-x  11 501 80  352 Jun 11 01:46 info\n",
      "0 drwxr-xr-x  25 501 80  800 Jun 11 01:46 lib\n",
      "0 drwxr-xr-x   4 501 80  128 Jun 11 01:46 share\n",
      "0 drwxr-xr-x   3 501 80   96 Jun 11 01:46 x86_64-conda_cos6-linux-gnu\n",
      "\n",
      "/notebooks/home/.conda/pkgs/libgfortran-ng-7.5.0-hdf63c60_6:\n",
      "total 0\n",
      "0 drwxr-xr-x   6 501 80  192 Jun 11 01:44 .\n",
      "0 drwxrwxr-x 177 501 80 5664 Jun 11 03:04 ..\n",
      "0 drwxr-xr-x  11 501 80  352 Jun 11 01:44 info\n",
      "0 drwxr-xr-x   5 501 80  160 Jun 11 01:44 lib\n",
      "0 drwxr-xr-x   3 501 80   96 Jun 11 01:44 share\n",
      "0 drwxr-xr-x   3 501 80   96 Jun 11 01:44 x86_64-conda_cos6-linux-gnu\n",
      "\n",
      "/notebooks/home/.conda/pkgs/liblapack-3.8.0-16_openblas:\n",
      "total 0\n",
      "0 drwxr-xr-x   4 501 80  128 Jun 11 01:43 .\n",
      "0 drwxrwxr-x 177 501 80 5664 Jun 11 03:04 ..\n",
      "0 drwxr-xr-x  13 501 80  416 Jun 11 01:43 info\n",
      "0 drwxr-xr-x   4 501 80  128 Jun 11 01:43 lib\n",
      "\n",
      "/notebooks/home/.conda/pkgs/libopenblas-0.3.9-h5ec1e0e_0:\n",
      "total 0\n",
      "0 drwxr-xr-x   4 501 80  128 Jun 11 01:47 .\n",
      "0 drwxrwxr-x 177 501 80 5664 Jun 11 03:04 ..\n",
      "0 drwxr-xr-x  13 501 80  416 Jun 11 01:47 info\n",
      "0 drwxr-xr-x   4 501 80  128 Jun 11 01:47 lib\n",
      "\n",
      "/notebooks/home/.conda/pkgs/libpng-1.6.37-hed695b0_1:\n",
      "total 0\n",
      "0 drwxr-xr-x   7 501 80  224 Jun 11 01:47 .\n",
      "0 drwxrwxr-x 177 501 80 5664 Jun 11 03:04 ..\n",
      "0 drwxr-xr-x   6 501 80  192 Jun 11 01:47 bin\n",
      "0 drwxr-xr-x   6 501 80  192 Jun 11 01:47 include\n",
      "0 drwxr-xr-x  14 501 80  448 Jun 11 01:47 info\n",
      "0 drwxr-xr-x   9 501 80  288 Jun 11 01:47 lib\n",
      "0 drwxr-xr-x   3 501 80   96 Jun 11 01:47 share\n",
      "\n",
      "/notebooks/home/.conda/pkgs/libstdcxx-ng-9.2.0-hdf63c60_2:\n",
      "total 0\n",
      "0 drwxr-xr-x   6 501 80  192 Jun 11 01:46 .\n",
      "0 drwxrwxr-x 177 501 80 5664 Jun 11 03:04 ..\n",
      "0 drwxr-xr-x  11 501 80  352 Jun 11 01:46 info\n",
      "0 drwxr-xr-x   5 501 80  160 Jun 11 01:46 lib\n",
      "0 drwxr-xr-x   3 501 80   96 Jun 11 01:46 share\n",
      "0 drwxr-xr-x   3 501 80   96 Jun 11 01:46 x86_64-conda_cos6-linux-gnu\n",
      "\n",
      "/notebooks/home/.conda/pkgs/libtiff-4.1.0-hc7e4089_6:\n",
      "total 0\n",
      "0 drwxr-xr-x   6 501 80  192 Jun 11 01:45 .\n",
      "0 drwxrwxr-x 177 501 80 5664 Jun 11 03:04 ..\n",
      "0 drwxr-xr-x  20 501 80  640 Jun 11 01:45 bin\n",
      "0 drwxr-xr-x   7 501 80  224 Jun 11 01:45 include\n",
      "0 drwxr-xr-x  14 501 80  448 Jun 11 01:45 info\n",
      "0 drwxr-xr-x  11 501 80  352 Jun 11 01:45 lib\n",
      "\n",
      "/notebooks/home/.conda/pkgs/libwebp-base-1.1.0-h516909a_3:\n",
      "total 0\n",
      "0 drwxr-xr-x   7 501 80  224 Jun 11 01:45 .\n",
      "0 drwxrwxr-x 177 501 80 5664 Jun 11 03:04 ..\n",
      "0 drwxr-xr-x   4 501 80  128 Jun 11 01:45 bin\n",
      "0 drwxr-xr-x   3 501 80   96 Jun 11 01:45 include\n",
      "0 drwxr-xr-x  14 501 80  448 Jun 11 01:45 info\n",
      "0 drwxr-xr-x  15 501 80  480 Jun 11 01:45 lib\n",
      "0 drwxr-xr-x   3 501 80   96 Jun 11 01:45 share\n",
      "\n",
      "/notebooks/home/.conda/pkgs/llvm-openmp-10.0.0-hc9558a2_0:\n",
      "total 0\n",
      "0 drwxr-xr-x   5 501 80  160 Jun 11 01:45 .\n",
      "0 drwxrwxr-x 177 501 80 5664 Jun 11 03:04 ..\n",
      "0 drwxr-xr-x   5 501 80  160 Jun 11 01:45 include\n",
      "0 drwxr-xr-x  13 501 80  416 Jun 11 01:46 info\n",
      "0 drwxr-xr-x   8 501 80  256 Jun 11 01:46 lib\n",
      "\n",
      "/notebooks/home/.conda/pkgs/lz4-c-1.9.2-he1b5a44_1:\n",
      "total 0\n",
      "0 drwxr-xr-x   7 501 80  224 Jun 11 01:45 .\n",
      "0 drwxrwxr-x 177 501 80 5664 Jun 11 03:04 ..\n",
      "0 drwxr-xr-x   6 501 80  192 Jun 11 01:45 bin\n",
      "0 drwxr-xr-x   6 501 80  192 Jun 11 01:45 include\n",
      "0 drwxr-xr-x  14 501 80  448 Jun 11 01:45 info\n",
      "0 drwxr-xr-x   7 501 80  224 Jun 11 01:45 lib\n",
      "0 drwxr-xr-x   3 501 80   96 Jun 11 01:45 share\n",
      "\n",
      "/notebooks/home/.conda/pkgs/matplotlib-base-3.1.3-py36hef1b27d_0:\n",
      "total 0\n",
      "0 drwxr-xr-x   4 501 80  128 Jun 11 01:14 .\n",
      "0 drwxrwxr-x 177 501 80 5664 Jun 11 03:04 ..\n",
      "0 drwxr-xr-x  12 501 80  384 Jun 11 01:15 info\n",
      "0 drwxr-xr-x   5 501 80  160 Jun 11 01:14 lib\n",
      "\n",
      "/notebooks/home/.conda/pkgs/matplotlib-base-3.2.1-py38h2af1d28_0:\n",
      "total 0\n",
      "0 drwxr-xr-x   4 501 80  128 Jun 11 01:44 .\n",
      "0 drwxrwxr-x 177 501 80 5664 Jun 11 03:04 ..\n",
      "0 drwxr-xr-x  11 501 80  352 Jun 11 01:44 info\n",
      "0 drwxr-xr-x   3 501 80   96 Jun 11 01:44 lib\n",
      "\n",
      "/notebooks/home/.conda/pkgs/ncurses-6.1-hf484d3e_1002:\n",
      "total 0\n",
      "0 drwxr-xr-x   7 501 80  224 Jun 11 01:46 .\n",
      "0 drwxrwxr-x 177 501 80 5664 Jun 11 03:04 ..\n",
      "0 drwxr-xr-x  14 501 80  448 Jun 11 01:46 bin\n",
      "0 drwxr-xr-x  24 501 80  768 Jun 11 01:46 include\n",
      "0 drwxr-xr-x  12 501 80  384 Jun 11 01:47 info\n",
      "0 drwxr-xr-x  46 501 80 1472 Jun 11 01:46 lib\n",
      "0 drwxr-xr-x   4 501 80  128 Jun 11 01:46 share\n",
      "\n",
      "/notebooks/home/.conda/pkgs/ncurses-6.2-he6710b0_1:\n",
      "total 0\n",
      "0 drwxr-xr-x   7 501 80  224 Jun 11 02:03 .\n",
      "0 drwxrwxr-x 177 501 80 5664 Jun 11 03:04 ..\n",
      "0 drwxr-xr-x  13 501 80  416 Jun 11 02:03 bin\n",
      "0 drwxr-xr-x  24 501 80  768 Jun 11 02:03 include\n",
      "0 drwxr-xr-x  13 501 80  416 Jun 11 02:04 info\n",
      "0 drwxr-xr-x  46 501 80 1472 Jun 11 02:04 lib\n",
      "0 drwxr-xr-x   4 501 80  128 Jun 11 02:04 share\n",
      "\n",
      "/notebooks/home/.conda/pkgs/numpy-1.16.5-py27h95a1406_0:\n",
      "total 0\n",
      "0 drwxr-xr-x   5 501 80  160 Jun 11 03:04 .\n",
      "0 drwxrwxr-x 177 501 80 5664 Jun 11 03:04 ..\n",
      "0 drwxr-xr-x   5 501 80  160 Jun 11 03:04 bin\n",
      "0 drwxr-xr-x  13 501 80  416 Jun 11 03:04 info\n",
      "0 drwxr-xr-x   3 501 80   96 Jun 11 03:04 lib\n",
      "\n",
      "/notebooks/home/.conda/pkgs/numpy-1.18.5-py38h8854b6b_0:\n",
      "total 0\n",
      "0 drwxr-xr-x   5 501 80  160 Jun 11 01:43 .\n",
      "0 drwxrwxr-x 177 501 80 5664 Jun 11 03:04 ..\n",
      "0 drwxr-xr-x   5 501 80  160 Jun 11 01:43 bin\n",
      "0 drwxr-xr-x  13 501 80  416 Jun 11 01:43 info\n",
      "0 drwxr-xr-x   3 501 80   96 Jun 11 01:43 lib\n",
      "\n",
      "/notebooks/home/.conda/pkgs/olefile-0.46-py_0:\n",
      "total 0\n",
      "0 drwxr-xr-x   4 501 80  128 Jun 11 01:43 .\n",
      "0 drwxrwxr-x 177 501 80 5664 Jun 11 03:04 ..\n",
      "0 drwxr-xr-x  12 501 80  384 Jun 11 01:43 info\n",
      "0 drwxr-xr-x   4 501 80  128 Jun 11 01:43 site-packages\n",
      "\n",
      "/notebooks/home/.conda/pkgs/openssl-1.0.2u-h516909a_0:\n",
      "total 0\n",
      "0 drwxr-xr-x   7 501 80  224 Jun 11 01:14 .\n",
      "0 drwxrwxr-x 177 501 80 5664 Jun 11 03:04 ..\n",
      "0 drwxr-xr-x   4 501 80  128 Jun 11 01:14 bin\n",
      "0 drwxr-xr-x   3 501 80   96 Jun 11 01:14 include\n",
      "0 drwxr-xr-x  15 501 80  480 Jun 11 01:14 info\n",
      "0 drwxr-xr-x  10 501 80  320 Jun 11 01:14 lib\n",
      "0 drwxr-xr-x   4 501 80  128 Jun 11 01:14 ssl\n",
      "\n",
      "/notebooks/home/.conda/pkgs/openssl-1.1.1g-h516909a_0:\n",
      "total 0\n",
      "0 drwxr-xr-x   7 501 80  224 Jun 11 01:43 .\n",
      "0 drwxrwxr-x 177 501 80 5664 Jun 11 03:04 ..\n",
      "0 drwxr-xr-x   4 501 80  128 Jun 11 01:43 bin\n",
      "0 drwxr-xr-x   3 501 80   96 Jun 11 01:43 include\n",
      "0 drwxr-xr-x  15 501 80  480 Jun 11 01:43 info\n",
      "0 drwxr-xr-x   8 501 80  256 Jun 11 01:43 lib\n",
      "0 drwxr-xr-x   7 501 80  224 Jun 11 01:43 ssl\n",
      "\n",
      "/notebooks/home/.conda/pkgs/openssl-1.1.1g-h7b6447c_0:\n",
      "total 0\n",
      "0 drwxr-xr-x   7 501 80  224 Jun 11 02:30 .\n",
      "0 drwxrwxr-x 177 501 80 5664 Jun 11 03:04 ..\n",
      "0 drwxr-xr-x   4 501 80  128 Jun 11 02:30 bin\n",
      "0 drwxr-xr-x   3 501 80   96 Jun 11 02:30 include\n",
      "0 drwxr-xr-x  15 501 80  480 Jun 11 02:30 info\n",
      "0 drwxr-xr-x  10 501 80  320 Jun 11 02:30 lib\n",
      "0 drwxr-xr-x   7 501 80  224 Jun 11 02:30 ssl\n",
      "\n",
      "/notebooks/home/.conda/pkgs/pillow-6.2.1-py27hd70f55b_1:\n",
      "total 0\n",
      "0 drwxr-xr-x   4 501 80  128 Jun 11 03:04 .\n",
      "0 drwxrwxr-x 177 501 80 5664 Jun 11 03:04 ..\n",
      "0 drwxr-xr-x  12 501 80  384 Jun 11 03:04 info\n",
      "0 drwxr-xr-x   3 501 80   96 Jun 11 03:04 lib\n",
      "\n",
      "/notebooks/home/.conda/pkgs/pillow-7.1.2-py38h9776b28_0:\n",
      "total 0\n",
      "0 drwxr-xr-x   4 501 80  128 Jun 11 01:43 .\n",
      "0 drwxrwxr-x 177 501 80 5664 Jun 11 03:04 ..\n",
      "0 drwxr-xr-x  12 501 80  384 Jun 11 01:43 info\n",
      "0 drwxr-xr-x   3 501 80   96 Jun 11 01:43 lib\n",
      "\n",
      "/notebooks/home/.conda/pkgs/pip-20.0.2-py38_3:\n",
      "total 0\n",
      "0 drwxr-xr-x   5 501 80  160 Jun 11 02:30 .\n",
      "0 drwxrwxr-x 177 501 80 5664 Jun 11 03:04 ..\n",
      "0 drwxr-xr-x   3 501 80   96 Jun 11 02:30 bin\n",
      "0 drwxr-xr-x  13 501 80  416 Jun 11 02:30 info\n",
      "0 drwxr-xr-x   3 501 80   96 Jun 11 02:30 lib\n",
      "\n",
      "/notebooks/home/.conda/pkgs/pip-20.1.1-py_1:\n",
      "total 0\n",
      "0 drwxr-xr-x   4 501 80  128 Jun 11 01:45 .\n",
      "0 drwxrwxr-x 177 501 80 5664 Jun 11 03:04 ..\n",
      "0 drwxr-xr-x  13 501 80  416 Jun 11 01:45 info\n",
      "0 drwxr-xr-x   4 501 80  128 Jun 11 01:45 site-packages\n",
      "\n",
      "/notebooks/home/.conda/pkgs/pip-20.1.1-pyh9f0ad1d_0:\n",
      "total 0\n",
      "0 drwxr-xr-x   4 501 80  128 Jun 11 03:04 .\n",
      "0 drwxrwxr-x 177 501 80 5664 Jun 11 03:04 ..\n",
      "0 drwxr-xr-x  13 501 80  416 Jun 11 03:04 info\n",
      "0 drwxr-xr-x   4 501 80  128 Jun 11 03:04 site-packages\n",
      "\n",
      "/notebooks/home/.conda/pkgs/pycosat-0.6.3-py38h7b6447c_1:\n",
      "total 0\n",
      "0 drwxr-xr-x   4 501 80  128 Jun 11 02:30 .\n",
      "0 drwxrwxr-x 177 501 80 5664 Jun 11 03:04 ..\n",
      "0 drwxr-xr-x  11 501 80  352 Jun 11 02:30 info\n",
      "0 drwxr-xr-x   3 501 80   96 Jun 11 02:30 lib\n",
      "\n",
      "/notebooks/home/.conda/pkgs/pycparser-2.20-py_0:\n",
      "total 0\n",
      "0 drwxr-xr-x   4 501 80  128 Jun 11 02:31 .\n",
      "0 drwxrwxr-x 177 501 80 5664 Jun 11 03:04 ..\n",
      "0 drwxr-xr-x  13 501 80  416 Jun 11 02:31 info\n",
      "0 drwxr-xr-x   4 501 80  128 Jun 11 02:31 site-packages\n",
      "\n",
      "/notebooks/home/.conda/pkgs/pyopenssl-19.1.0-py38_0:\n",
      "total 0\n",
      "0 drwxr-xr-x   4 501 80  128 Jun 11 02:32 .\n",
      "0 drwxrwxr-x 177 501 80 5664 Jun 11 03:04 ..\n",
      "0 drwxr-xr-x  12 501 80  384 Jun 11 02:32 info\n",
      "0 drwxr-xr-x   3 501 80   96 Jun 11 02:32 lib\n",
      "\n",
      "/notebooks/home/.conda/pkgs/pyparsing-2.4.7-pyh9f0ad1d_0:\n"
     ]
    },
    {
     "name": "stdout",
     "output_type": "stream",
     "text": [
      "total 0\n",
      "0 drwxr-xr-x   4 501 80  128 Jun 11 01:43 .\n",
      "0 drwxrwxr-x 177 501 80 5664 Jun 11 03:04 ..\n",
      "0 drwxr-xr-x  13 501 80  416 Jun 11 01:43 info\n",
      "0 drwxr-xr-x   4 501 80  128 Jun 11 01:43 site-packages\n",
      "\n",
      "/notebooks/home/.conda/pkgs/pysocks-1.7.1-py38_0:\n",
      "total 0\n",
      "0 drwxr-xr-x   4 501 80  128 Jun 11 02:30 .\n",
      "0 drwxrwxr-x 177 501 80 5664 Jun 11 03:04 ..\n",
      "0 drwxr-xr-x  12 501 80  384 Jun 11 02:30 info\n",
      "0 drwxr-xr-x   3 501 80   96 Jun 11 02:30 lib\n",
      "\n",
      "/notebooks/home/.conda/pkgs/python-2.7.15-h5a48372_1010_cpython:\n",
      "total 0\n",
      "0 drwxr-xr-x   8 501 80  256 Jun 11 03:03 .\n",
      "0 drwxrwxr-x 177 501 80 5664 Jun 11 03:04 ..\n",
      "0 drwxr-xr-x  12 501 80  384 Jun 11 03:03 bin\n",
      "0 drwxr-xr-x   4 501 80  128 Jun 11 03:03 compiler_compat\n",
      "0 drwxr-xr-x   3 501 80   96 Jun 11 03:03 include\n",
      "0 drwxr-xr-x  15 501 80  480 Jun 11 03:03 info\n",
      "0 drwxr-xr-x   6 501 80  192 Jun 11 03:03 lib\n",
      "0 drwxr-xr-x   3 501 80   96 Jun 11 03:03 share\n",
      "\n",
      "/notebooks/home/.conda/pkgs/python-3.8.3-cpython_he5300dc_0:\n",
      "total 0\n",
      "0 drwxr-xr-x   8 501 80  256 Jun 11 01:45 .\n",
      "0 drwxrwxr-x 177 501 80 5664 Jun 11 03:04 ..\n",
      "0 drwxr-xr-x  14 501 80  448 Jun 11 01:44 bin\n",
      "0 drwxr-xr-x   4 501 80  128 Jun 11 01:44 compiler_compat\n",
      "0 drwxr-xr-x   3 501 80   96 Jun 11 01:45 include\n",
      "0 drwxr-xr-x  14 501 80  448 Jun 11 01:45 info\n",
      "0 drwxr-xr-x   9 501 80  288 Jun 11 01:45 lib\n",
      "0 drwxr-xr-x   3 501 80   96 Jun 11 01:44 share\n",
      "\n",
      "/notebooks/home/.conda/pkgs/python-3.8.3-hcff3b4d_0:\n",
      "total 0\n",
      "0 drwxr-xr-x   8 501 80  256 Jun 11 02:31 .\n",
      "0 drwxrwxr-x 177 501 80 5664 Jun 11 03:04 ..\n",
      "0 drwxr-xr-x  14 501 80  448 Jun 11 02:32 bin\n",
      "0 drwxr-xr-x   4 501 80  128 Jun 11 02:31 compiler_compat\n",
      "0 drwxr-xr-x   3 501 80   96 Jun 11 02:31 include\n",
      "0 drwxr-xr-x  13 501 80  416 Jun 11 02:32 info\n",
      "0 drwxr-xr-x   9 501 80  288 Jun 11 02:32 lib\n",
      "0 drwxr-xr-x   3 501 80   96 Jun 11 02:31 share\n",
      "\n",
      "/notebooks/home/.conda/pkgs/python-dateutil-2.8.1-py_0:\n",
      "total 0\n",
      "0 drwxr-xr-x   4 501 80  128 Jun 11 01:43 .\n",
      "0 drwxrwxr-x 177 501 80 5664 Jun 11 03:04 ..\n",
      "0 drwxr-xr-x  13 501 80  416 Jun 11 01:43 info\n",
      "0 drwxr-xr-x   4 501 80  128 Jun 11 01:43 site-packages\n",
      "\n",
      "/notebooks/home/.conda/pkgs/python_abi-3.6-1_cp36m:\n",
      "total 0\n",
      "0 drwxr-xr-x   3 501 80   96 Jun 11 01:15 .\n",
      "0 drwxrwxr-x 177 501 80 5664 Jun 11 03:04 ..\n",
      "0 drwxr-xr-x  12 501 80  384 Jun 11 01:15 info\n",
      "\n",
      "/notebooks/home/.conda/pkgs/python_abi-3.8-1_cp38:\n",
      "total 0\n",
      "0 drwxr-xr-x   3 501 80   96 Jun 11 01:45 .\n",
      "0 drwxrwxr-x 177 501 80 5664 Jun 11 03:04 ..\n",
      "0 drwxr-xr-x  12 501 80  384 Jun 11 01:45 info\n",
      "\n",
      "/notebooks/home/.conda/pkgs/readline-8.0-h7b6447c_0:\n",
      "total 0\n",
      "0 drwxr-xr-x   6 501 80  192 Jun 11 02:30 .\n",
      "0 drwxrwxr-x 177 501 80 5664 Jun 11 03:04 ..\n",
      "0 drwxr-xr-x   3 501 80   96 Jun 11 02:30 include\n",
      "0 drwxr-xr-x  14 501 80  448 Jun 11 02:30 info\n",
      "0 drwxr-xr-x  11 501 80  352 Jun 11 02:30 lib\n",
      "0 drwxr-xr-x   6 501 80  192 Jun 11 02:30 share\n",
      "\n",
      "/notebooks/home/.conda/pkgs/readline-8.0-hf8c457e_0:\n",
      "total 0\n",
      "0 drwxr-xr-x   6 501 80  192 Jun 11 01:43 .\n",
      "0 drwxrwxr-x 177 501 80 5664 Jun 11 03:04 ..\n",
      "0 drwxr-xr-x   3 501 80   96 Jun 11 01:43 include\n",
      "0 drwxr-xr-x  14 501 80  448 Jun 11 01:43 info\n",
      "0 drwxr-xr-x  11 501 80  352 Jun 11 01:43 lib\n",
      "0 drwxr-xr-x   6 501 80  192 Jun 11 01:43 share\n",
      "\n",
      "/notebooks/home/.conda/pkgs/requests-2.23.0-py38_0:\n",
      "total 0\n",
      "0 drwxr-xr-x   4 501 80  128 Jun 11 02:30 .\n",
      "0 drwxrwxr-x 177 501 80 5664 Jun 11 03:04 ..\n",
      "0 drwxr-xr-x  12 501 80  384 Jun 11 02:30 info\n",
      "0 drwxr-xr-x   3 501 80   96 Jun 11 02:30 lib\n",
      "\n",
      "/notebooks/home/.conda/pkgs/ruamel_yaml-0.15.87-py38h7b6447c_0:\n",
      "total 0\n",
      "0 drwxr-xr-x   4 501 80  128 Jun 11 02:30 .\n",
      "0 drwxrwxr-x 177 501 80 5664 Jun 11 03:04 ..\n",
      "0 drwxr-xr-x  12 501 80  384 Jun 11 02:30 info\n",
      "0 drwxr-xr-x   3 501 80   96 Jun 11 02:30 lib\n",
      "\n",
      "/notebooks/home/.conda/pkgs/setuptools-44.0.0-py27_0:\n",
      "total 0\n",
      "0 drwxr-xr-x   5 501 80  160 Jun 11 03:04 .\n",
      "0 drwxrwxr-x 177 501 80 5664 Jun 11 03:04 ..\n",
      "0 drwxr-xr-x   3 501 80   96 Jun 11 03:04 bin\n",
      "0 drwxr-xr-x  13 501 80  416 Jun 11 03:04 info\n",
      "0 drwxr-xr-x   3 501 80   96 Jun 11 03:03 lib\n",
      "\n",
      "/notebooks/home/.conda/pkgs/setuptools-47.1.1-py38_0:\n",
      "total 0\n",
      "0 drwxr-xr-x   5 501 80  160 Jun 11 02:31 .\n",
      "0 drwxrwxr-x 177 501 80 5664 Jun 11 03:04 ..\n",
      "0 drwxr-xr-x   3 501 80   96 Jun 11 02:31 bin\n",
      "0 drwxr-xr-x  13 501 80  416 Jun 11 02:31 info\n",
      "0 drwxr-xr-x   3 501 80   96 Jun 11 02:30 lib\n",
      "\n",
      "/notebooks/home/.conda/pkgs/setuptools-47.1.1-py38h32f6830_0:\n",
      "total 0\n",
      "0 drwxr-xr-x   5 501 80  160 Jun 11 01:43 .\n",
      "0 drwxrwxr-x 177 501 80 5664 Jun 11 03:04 ..\n",
      "0 drwxr-xr-x   3 501 80   96 Jun 11 01:43 bin\n",
      "0 drwxr-xr-x  13 501 80  416 Jun 11 01:43 info\n",
      "0 drwxr-xr-x   3 501 80   96 Jun 11 01:43 lib\n",
      "\n",
      "/notebooks/home/.conda/pkgs/six-1.15.0-py_0:\n",
      "total 0\n",
      "0 drwxr-xr-x   4 501 80  128 Jun 11 02:31 .\n",
      "0 drwxrwxr-x 177 501 80 5664 Jun 11 03:04 ..\n",
      "0 drwxr-xr-x  13 501 80  416 Jun 11 02:31 info\n",
      "0 drwxr-xr-x   4 501 80  128 Jun 11 02:31 site-packages\n",
      "\n",
      "/notebooks/home/.conda/pkgs/six-1.15.0-pyh9f0ad1d_0:\n",
      "total 0\n",
      "0 drwxr-xr-x   4 501 80  128 Jun 11 01:43 .\n",
      "0 drwxrwxr-x 177 501 80 5664 Jun 11 03:04 ..\n",
      "0 drwxr-xr-x  13 501 80  416 Jun 11 01:43 info\n",
      "0 drwxr-xr-x   4 501 80  128 Jun 11 01:43 site-packages\n",
      "\n",
      "/notebooks/home/.conda/pkgs/sqlite-3.30.1-hcee41ef_0:\n",
      "total 0\n",
      "0 drwxr-xr-x   7 501 80  224 Jun 11 01:45 .\n",
      "0 drwxrwxr-x 177 501 80 5664 Jun 11 03:04 ..\n",
      "0 drwxr-xr-x   3 501 80   96 Jun 11 01:45 bin\n",
      "0 drwxr-xr-x   4 501 80  128 Jun 11 01:45 include\n",
      "0 drwxr-xr-x  13 501 80  416 Jun 11 01:45 info\n",
      "0 drwxr-xr-x   7 501 80  224 Jun 11 01:45 lib\n",
      "0 drwxr-xr-x   3 501 80   96 Jun 11 01:45 share\n",
      "\n",
      "/notebooks/home/.conda/pkgs/sqlite-3.31.1-h62c20be_1:\n",
      "total 0\n",
      "0 drwxr-xr-x   7 501 80  224 Jun 11 02:31 .\n",
      "0 drwxrwxr-x 177 501 80 5664 Jun 11 03:04 ..\n",
      "0 drwxr-xr-x   3 501 80   96 Jun 11 02:31 bin\n",
      "0 drwxr-xr-x   4 501 80  128 Jun 11 02:31 include\n",
      "0 drwxr-xr-x  13 501 80  416 Jun 11 02:31 info\n",
      "0 drwxr-xr-x   7 501 80  224 Jun 11 02:31 lib\n",
      "0 drwxr-xr-x   3 501 80   96 Jun 11 02:31 share\n",
      "\n",
      "/notebooks/home/.conda/pkgs/tk-8.6.10-hed695b0_0:\n",
      "total 0\n",
      "0 drwxr-xr-x   6 501 80  192 Jun 11 01:46 .\n",
      "0 drwxrwxr-x 177 501 80 5664 Jun 11 03:04 ..\n",
      "0 drwxr-xr-x   7 501 80  224 Jun 11 01:46 bin\n",
      "0 drwxr-xr-x  76 501 80 2432 Jun 11 01:46 include\n",
      "0 drwxr-xr-x  14 501 80  448 Jun 11 01:46 info\n",
      "0 drwxr-xr-x  20 501 80  640 Jun 11 01:46 lib\n",
      "\n",
      "/notebooks/home/.conda/pkgs/tornado-6.0.4-py38h1e0a361_1:\n",
      "total 0\n",
      "0 drwxr-xr-x   4 501 80  128 Jun 11 01:45 .\n",
      "0 drwxrwxr-x 177 501 80 5664 Jun 11 03:04 ..\n",
      "0 drwxr-xr-x  12 501 80  384 Jun 11 01:45 info\n",
      "0 drwxr-xr-x   3 501 80   96 Jun 11 01:45 lib\n",
      "\n",
      "/notebooks/home/.conda/pkgs/tqdm-4.46.0-py_0:\n",
      "total 0\n",
      "0 drwxr-xr-x   4 501 80  128 Jun 11 02:30 .\n",
      "0 drwxrwxr-x 177 501 80 5664 Jun 11 03:04 ..\n",
      "0 drwxr-xr-x  13 501 80  416 Jun 11 02:30 info\n",
      "0 drwxr-xr-x   4 501 80  128 Jun 11 02:30 site-packages\n",
      "\n",
      "/notebooks/home/.conda/pkgs/urllib3-1.25.8-py38_0:\n",
      "total 0\n",
      "0 drwxr-xr-x   4 501 80  128 Jun 11 02:30 .\n",
      "0 drwxrwxr-x 177 501 80 5664 Jun 11 03:04 ..\n",
      "0 drwxr-xr-x  12 501 80  384 Jun 11 02:30 info\n",
      "0 drwxr-xr-x   3 501 80   96 Jun 11 02:30 lib\n",
      "\n",
      "/notebooks/home/.conda/pkgs/wheel-0.34.2-py38_0:\n",
      "total 0\n",
      "0 drwxr-xr-x   5 501 80  160 Jun 11 02:31 .\n",
      "0 drwxrwxr-x 177 501 80 5664 Jun 11 03:04 ..\n",
      "0 drwxr-xr-x   3 501 80   96 Jun 11 02:31 bin\n",
      "0 drwxr-xr-x  13 501 80  416 Jun 11 02:31 info\n",
      "0 drwxr-xr-x   3 501 80   96 Jun 11 02:31 lib\n",
      "\n",
      "/notebooks/home/.conda/pkgs/wheel-0.34.2-py_1:\n",
      "total 0\n",
      "0 drwxr-xr-x   4 501 80  128 Jun 11 01:43 .\n",
      "0 drwxrwxr-x 177 501 80 5664 Jun 11 03:04 ..\n",
      "0 drwxr-xr-x  13 501 80  416 Jun 11 01:43 info\n",
      "0 drwxr-xr-x   4 501 80  128 Jun 11 01:43 site-packages\n",
      "\n",
      "/notebooks/home/.conda/pkgs/wordcloud-1.2.1-py27_0:\n",
      "total 0\n",
      "0 drwxr-xr-x   5 501 80  160 Jun 11 03:04 .\n",
      "0 drwxrwxr-x 177 501 80 5664 Jun 11 03:04 ..\n",
      "0 drwxr-xr-x   4 501 80  128 Jun 11 03:04 bin\n",
      "0 drwxr-xr-x   8 501 80  256 Jun 11 03:04 info\n",
      "0 drwxr-xr-x   3 501 80   96 Jun 11 03:04 lib\n",
      "\n",
      "/notebooks/home/.conda/pkgs/wordcloud-1.7.0-py36h8c4c3a4_0:\n",
      "total 0\n",
      "0 drwxr-xr-x   5 501 80  160 Jun 11 01:14 .\n",
      "0 drwxrwxr-x 177 501 80 5664 Jun 11 03:04 ..\n",
      "0 drwxr-xr-x   3 501 80   96 Jun 11 01:14 bin\n",
      "0 drwxr-xr-x  13 501 80  416 Jun 11 01:14 info\n",
      "0 drwxr-xr-x   3 501 80   96 Jun 11 01:14 lib\n",
      "\n",
      "/notebooks/home/.conda/pkgs/wordcloud-1.7.0-py38h1e0a361_0:\n",
      "total 0\n",
      "0 drwxr-xr-x   5 501 80  160 Jun 11 01:43 .\n",
      "0 drwxrwxr-x 177 501 80 5664 Jun 11 03:04 ..\n",
      "0 drwxr-xr-x   3 501 80   96 Jun 11 01:43 bin\n",
      "0 drwxr-xr-x  13 501 80  416 Jun 11 01:43 info\n",
      "0 drwxr-xr-x   3 501 80   96 Jun 11 01:43 lib\n",
      "\n",
      "/notebooks/home/.conda/pkgs/xz-5.2.5-h516909a_0:\n",
      "total 0\n",
      "0 drwxr-xr-x   7 501 80  224 Jun 11 01:43 .\n",
      "0 drwxrwxr-x 177 501 80 5664 Jun 11 03:04 ..\n",
      "0 drwxr-xr-x  25 501 80  800 Jun 11 01:43 bin\n",
      "0 drwxr-xr-x   4 501 80  128 Jun 11 01:43 include\n",
      "0 drwxr-xr-x  14 501 80  448 Jun 11 01:43 info\n",
      "0 drwxr-xr-x   7 501 80  224 Jun 11 01:43 lib\n",
      "0 drwxr-xr-x   5 501 80  160 Jun 11 01:43 share\n"
     ]
    },
    {
     "name": "stdout",
     "output_type": "stream",
     "text": [
      "\r\n",
      "/notebooks/home/.conda/pkgs/xz-5.2.5-h7b6447c_0:\r\n",
      "total 0\r\n",
      "0 drwxr-xr-x   7 501 80  224 Jun 11 02:31 .\r\n",
      "0 drwxrwxr-x 177 501 80 5664 Jun 11 03:04 ..\r\n",
      "0 drwxr-xr-x  25 501 80  800 Jun 11 02:31 bin\r\n",
      "0 drwxr-xr-x   4 501 80  128 Jun 11 02:31 include\r\n",
      "0 drwxr-xr-x  14 501 80  448 Jun 11 02:31 info\r\n",
      "0 drwxr-xr-x   7 501 80  224 Jun 11 02:31 lib\r\n",
      "0 drwxr-xr-x   5 501 80  160 Jun 11 02:31 share\r\n",
      "\r\n",
      "/notebooks/home/.conda/pkgs/zlib-1.2.11-h516909a_1006:\r\n",
      "total 0\r\n",
      "0 drwxr-xr-x   5 501 80  160 Jun 11 01:45 .\r\n",
      "0 drwxrwxr-x 177 501 80 5664 Jun 11 03:04 ..\r\n",
      "0 drwxr-xr-x   4 501 80  128 Jun 11 01:45 include\r\n",
      "0 drwxr-xr-x  14 501 80  448 Jun 11 01:45 info\r\n",
      "0 drwxr-xr-x   7 501 80  224 Jun 11 01:45 lib\r\n",
      "\r\n",
      "/notebooks/home/.conda/pkgs/zstd-1.4.4-h6597ccf_3:\r\n",
      "total 0\r\n",
      "0 drwxr-xr-x   7 501 80  224 Jun 11 01:47 .\r\n",
      "0 drwxrwxr-x 177 501 80 5664 Jun 11 03:04 ..\r\n",
      "0 drwxr-xr-x   8 501 80  256 Jun 11 01:47 bin\r\n",
      "0 drwxr-xr-x   7 501 80  224 Jun 11 01:47 include\r\n",
      "0 drwxr-xr-x  14 501 80  448 Jun 11 01:47 info\r\n",
      "0 drwxr-xr-x   7 501 80  224 Jun 11 01:47 lib\r\n",
      "0 drwxr-xr-x   3 501 80   96 Jun 11 01:47 share\r\n"
     ]
    }
   ],
   "source": [
    "!ls -lsa $HOME/.local/bin/* /notebooks/home/.conda/pkgs/*"
   ]
  },
  {
   "cell_type": "code",
   "execution_count": 67,
   "metadata": {},
   "outputs": [
    {
     "name": "stdout",
     "output_type": "stream",
     "text": [
      "Collecting package metadata (repodata.json): done\n",
      "Solving environment: done\n",
      "\n",
      "\n",
      "==> WARNING: A newer version of conda exists. <==\n",
      "  current version: 4.7.12\n",
      "  latest version: 4.8.3\n",
      "\n",
      "Please update conda by running\n",
      "\n",
      "    $ conda update -n base -c defaults conda\n",
      "\n",
      "\n",
      "\n",
      "## Package Plan ##\n",
      "\n",
      "  environment location: /notebooks/home/.local/bin\n",
      "\n",
      "  added / updated specs:\n",
      "    - wordcloud=1.7\n",
      "\n",
      "\n",
      "The following NEW packages will be INSTALLED:\n",
      "\n",
      "  _libgcc_mutex      conda-forge/linux-64::_libgcc_mutex-0.1-conda_forge\n",
      "  _openmp_mutex      conda-forge/linux-64::_openmp_mutex-4.5-1_llvm\n",
      "  ca-certificates    conda-forge/linux-64::ca-certificates-2020.4.5.2-hecda079_0\n",
      "  certifi            conda-forge/linux-64::certifi-2020.4.5.2-py38h32f6830_0\n",
      "  cycler             conda-forge/noarch::cycler-0.10.0-py_2\n",
      "  freetype           conda-forge/linux-64::freetype-2.10.2-he06d7ca_0\n",
      "  icu                conda-forge/linux-64::icu-64.2-he1b5a44_1\n",
      "  jpeg               conda-forge/linux-64::jpeg-9d-h516909a_0\n",
      "  kiwisolver         conda-forge/linux-64::kiwisolver-1.2.0-py38hbf85e49_0\n",
      "  ld_impl_linux-64   conda-forge/linux-64::ld_impl_linux-64-2.34-h53a641e_5\n",
      "  libblas            conda-forge/linux-64::libblas-3.8.0-16_openblas\n",
      "  libcblas           conda-forge/linux-64::libcblas-3.8.0-16_openblas\n",
      "  libffi             conda-forge/linux-64::libffi-3.2.1-he1b5a44_1007\n",
      "  libgcc-ng          conda-forge/linux-64::libgcc-ng-9.2.0-h24d8f2e_2\n",
      "  libgfortran-ng     conda-forge/linux-64::libgfortran-ng-7.5.0-hdf63c60_6\n",
      "  liblapack          conda-forge/linux-64::liblapack-3.8.0-16_openblas\n",
      "  libopenblas        conda-forge/linux-64::libopenblas-0.3.9-h5ec1e0e_0\n",
      "  libpng             conda-forge/linux-64::libpng-1.6.37-hed695b0_1\n",
      "  libstdcxx-ng       conda-forge/linux-64::libstdcxx-ng-9.2.0-hdf63c60_2\n",
      "  libtiff            conda-forge/linux-64::libtiff-4.1.0-hc7e4089_6\n",
      "  libwebp-base       conda-forge/linux-64::libwebp-base-1.1.0-h516909a_3\n",
      "  llvm-openmp        conda-forge/linux-64::llvm-openmp-10.0.0-hc9558a2_0\n",
      "  lz4-c              conda-forge/linux-64::lz4-c-1.9.2-he1b5a44_1\n",
      "  matplotlib-base    conda-forge/linux-64::matplotlib-base-3.2.1-py38h2af1d28_0\n",
      "  ncurses            conda-forge/linux-64::ncurses-6.1-hf484d3e_1002\n",
      "  numpy              conda-forge/linux-64::numpy-1.18.5-py38h8854b6b_0\n",
      "  olefile            conda-forge/noarch::olefile-0.46-py_0\n",
      "  openssl            conda-forge/linux-64::openssl-1.1.1g-h516909a_0\n",
      "  pillow             conda-forge/linux-64::pillow-7.1.2-py38h9776b28_0\n",
      "  pip                conda-forge/noarch::pip-20.1.1-py_1\n",
      "  pyparsing          conda-forge/noarch::pyparsing-2.4.7-pyh9f0ad1d_0\n",
      "  python             conda-forge/linux-64::python-3.8.3-cpython_he5300dc_0\n",
      "  python-dateutil    conda-forge/noarch::python-dateutil-2.8.1-py_0\n",
      "  python_abi         conda-forge/linux-64::python_abi-3.8-1_cp38\n",
      "  readline           conda-forge/linux-64::readline-8.0-hf8c457e_0\n",
      "  setuptools         conda-forge/linux-64::setuptools-47.1.1-py38h32f6830_0\n",
      "  six                conda-forge/noarch::six-1.15.0-pyh9f0ad1d_0\n",
      "  sqlite             conda-forge/linux-64::sqlite-3.30.1-hcee41ef_0\n",
      "  tk                 conda-forge/linux-64::tk-8.6.10-hed695b0_0\n",
      "  tornado            conda-forge/linux-64::tornado-6.0.4-py38h1e0a361_1\n",
      "  wheel              conda-forge/noarch::wheel-0.34.2-py_1\n",
      "  wordcloud          conda-forge/linux-64::wordcloud-1.7.0-py38h1e0a361_0\n",
      "  xz                 conda-forge/linux-64::xz-5.2.5-h516909a_0\n",
      "  zlib               conda-forge/linux-64::zlib-1.2.11-h516909a_1006\n",
      "  zstd               conda-forge/linux-64::zstd-1.4.4-h6597ccf_3\n",
      "\n",
      "\n",
      "Preparing transaction: done\n",
      "Verifying transaction: - \n",
      "SafetyError: The package for ncurses located at /notebooks/home/.conda/pkgs/ncurses-6.1-hf484d3e_1002\n",
      "appears to be corrupted. The path 'share/terminfo/e/eterm'\n",
      "has an incorrect size.\n",
      "  reported size: 842 bytes\n",
      "  actual size: 2274 bytes\n",
      "\n",
      "SafetyError: The package for ncurses located at /notebooks/home/.conda/pkgs/ncurses-6.1-hf484d3e_1002\n",
      "appears to be corrupted. The path 'share/terminfo/e/eterm-color'\n",
      "has an incorrect size.\n",
      "  reported size: 1249 bytes\n",
      "  actual size: 2274 bytes\n",
      "\n",
      "\n",
      "done\n",
      "Executing transaction: done\n",
      "ERROR conda.core.link:_execute(700): An error occurred while installing package 'conda-forge::ncurses-6.1-hf484d3e_1002'.\n",
      "Rolling back transaction: done\n",
      "\n",
      "[Errno 17] File exists: 'Eterm' -> '/notebooks/home/.local/bin/share/terminfo/e/eterm-color'\n",
      "()\n",
      "\n"
     ]
    }
   ],
   "source": [
    "!conda install --yes -p $HOME/.local/bin -c conda-forge wordcloud=1.7"
   ]
  },
  {
   "cell_type": "code",
   "execution_count": 56,
   "metadata": {},
   "outputs": [
    {
     "name": "stdout",
     "output_type": "stream",
     "text": [
      "Collecting package metadata (repodata.json): done\n",
      "Solving environment: done\n",
      "\n",
      "\n",
      "==> WARNING: A newer version of conda exists. <==\n",
      "  current version: 4.7.12\n",
      "  latest version: 4.8.3\n",
      "\n",
      "Please update conda by running\n",
      "\n",
      "    $ conda update -n base -c defaults conda\n",
      "\n",
      "\n",
      "\n",
      "## Package Plan ##\n",
      "\n",
      "  environment location: /notebooks/home/.local/bin\n",
      "\n",
      "  added / updated specs:\n",
      "    - ncurses\n",
      "\n",
      "\n",
      "The following packages will be downloaded:\n",
      "\n",
      "    package                    |            build\n",
      "    ---------------------------|-----------------\n",
      "    ncurses-6.2                |       he6710b0_1         1.1 MB\n",
      "    ------------------------------------------------------------\n",
      "                                           Total:         1.1 MB\n",
      "\n",
      "The following NEW packages will be INSTALLED:\n",
      "\n",
      "  _libgcc_mutex      pkgs/main/linux-64::_libgcc_mutex-0.1-main\n",
      "  libgcc-ng          pkgs/main/linux-64::libgcc-ng-9.1.0-hdf63c60_0\n",
      "  libstdcxx-ng       pkgs/main/linux-64::libstdcxx-ng-9.1.0-hdf63c60_0\n",
      "  ncurses            pkgs/main/linux-64::ncurses-6.2-he6710b0_1\n",
      "\n",
      "\n",
      "\n",
      "Downloading and Extracting Packages\n",
      "ncurses-6.2          | 1.1 MB    | ##################################### | 100% \n",
      "Preparing transaction: done\n",
      "Verifying transaction: | \n",
      "SafetyError: The package for ncurses located at /notebooks/home/.conda/pkgs/ncurses-6.2-he6710b0_1\n",
      "appears to be corrupted. The path 'share/terminfo/e/eterm'\n",
      "has an incorrect size.\n",
      "  reported size: 842 bytes\n",
      "  actual size: 2224 bytes\n",
      "\n",
      "SafetyError: The package for ncurses located at /notebooks/home/.conda/pkgs/ncurses-6.2-he6710b0_1\n",
      "appears to be corrupted. The path 'share/terminfo/e/eterm-color'\n",
      "has an incorrect size.\n",
      "  reported size: 1249 bytes\n",
      "  actual size: 2224 bytes\n",
      "\n",
      "\n",
      "done\n",
      "Executing transaction: done\n",
      "ERROR conda.core.link:_execute(700): An error occurred while installing package 'defaults::ncurses-6.2-he6710b0_1'.\n",
      "Rolling back transaction: done\n",
      "\n",
      "[Errno 17] File exists: 'Eterm' -> '/notebooks/home/.local/bin/share/terminfo/e/eterm-color'\n",
      "()\n",
      "\n"
     ]
    }
   ],
   "source": [
    "!conda create --yes -p $HOME/.local/bin ncurses\n",
    "#!echo y | conda install -c conda-forge wordcloud"
   ]
  },
  {
   "cell_type": "code",
   "execution_count": 50,
   "metadata": {},
   "outputs": [
    {
     "name": "stdout",
     "output_type": "stream",
     "text": [
      "['/opt/conda/lib/python36.zip', '/notebooks/home/.local/bin', '/notebooks/home/.local/bin', '/notebooks/home/.local/bin', '/opt/conda/lib/python3.6', '/opt/conda/lib/python3.6/lib-dynload', '', '/opt/conda/lib/python3.6/site-packages', '/opt/conda/lib/python3.6/site-packages/IPython/extensions', '/notebooks/home/.ipython']\n"
     ]
    }
   ],
   "source": [
    "import sys\n",
    "# insert at 1, 0 is the script path (or '' in REPL)\n",
    "#sys.path.insert(1, '/notebooks/home/.local/bin')\n",
    "print(sys.path)"
   ]
  },
  {
   "cell_type": "code",
   "execution_count": 51,
   "metadata": {
    "_kg_hide-input": true,
    "_uuid": "0b0fcfc1ab5b12bb9efcff2882a799bdee8d3959"
   },
   "outputs": [
    {
     "ename": "ModuleNotFoundError",
     "evalue": "No module named 'wordcloud'",
     "output_type": "error",
     "traceback": [
      "\u001b[0;31m---------------------------------------------------------------------------\u001b[0m",
      "\u001b[0;31mModuleNotFoundError\u001b[0m                       Traceback (most recent call last)",
      "\u001b[0;32m<ipython-input-51-b24ecb8a6041>\u001b[0m in \u001b[0;36m<module>\u001b[0;34m\u001b[0m\n\u001b[0;32m----> 1\u001b[0;31m \u001b[0;32mfrom\u001b[0m \u001b[0mwordcloud\u001b[0m \u001b[0;32mimport\u001b[0m \u001b[0mWordCloud\u001b[0m\u001b[0;34m,\u001b[0m \u001b[0mSTOPWORDS\u001b[0m\u001b[0;34m\u001b[0m\u001b[0m\n\u001b[0m\u001b[1;32m      2\u001b[0m \u001b[0;34m\u001b[0m\u001b[0m\n\u001b[1;32m      3\u001b[0m \u001b[0;31m# Thanks : https://www.kaggle.com/aashita/word-clouds-of-various-shapes ##\u001b[0m\u001b[0;34m\u001b[0m\u001b[0;34m\u001b[0m\u001b[0m\n\u001b[1;32m      4\u001b[0m def plot_wordcloud(text, mask=None, max_words=200, max_font_size=100, figure_size=(24.0,16.0), \n\u001b[1;32m      5\u001b[0m                    title = None, title_size=40, image_color=False):\n",
      "\u001b[0;31mModuleNotFoundError\u001b[0m: No module named 'wordcloud'"
     ]
    }
   ],
   "source": [
    "from wordcloud import WordCloud, STOPWORDS\n",
    "\n",
    "# Thanks : https://www.kaggle.com/aashita/word-clouds-of-various-shapes ##\n",
    "def plot_wordcloud(text, mask=None, max_words=200, max_font_size=100, figure_size=(24.0,16.0), \n",
    "                   title = None, title_size=40, image_color=False):\n",
    "    stopwords = set(STOPWORDS)\n",
    "    more_stopwords = {'one', 'br', 'Po', 'th', 'sayi', 'fo', 'Unknown'}\n",
    "    stopwords = stopwords.union(more_stopwords)\n",
    "\n",
    "    wordcloud = WordCloud(background_color='black',\n",
    "                    stopwords = stopwords,\n",
    "                    max_words = max_words,\n",
    "                    max_font_size = max_font_size, \n",
    "                    random_state = 42,\n",
    "                    width=800, \n",
    "                    height=400,\n",
    "                    mask = mask)\n",
    "    wordcloud.generate(str(text))\n",
    "    \n",
    "    plt.figure(figsize=figure_size)\n",
    "    if image_color:\n",
    "        image_colors = ImageColorGenerator(mask);\n",
    "        plt.imshow(wordcloud.recolor(color_func=image_colors), interpolation=\"bilinear\");\n",
    "        plt.title(title, fontdict={'size': title_size,  \n",
    "                                  'verticalalignment': 'bottom'})\n",
    "    else:\n",
    "        plt.imshow(wordcloud);\n",
    "        plt.title(title, fontdict={'size': title_size, 'color': 'black', \n",
    "                                  'verticalalignment': 'bottom'})\n",
    "    plt.axis('off');\n",
    "    plt.tight_layout()  \n",
    "    \n",
    "plot_wordcloud(train_df[\"question_text\"], title=\"Word Cloud of Questions\")"
   ]
  },
  {
   "cell_type": "markdown",
   "metadata": {
    "_uuid": "1fe54117c937a36f48c76fcb53f424d60f1db1a4"
   },
   "source": [
    "There seem to be a variety of words in there. May be it is a good idea to look at the most frequent words in each of the classes separately.\n",
    "\n",
    "**Word Frequency plot of sincere & insincere questions:****"
   ]
  },
  {
   "cell_type": "code",
   "execution_count": null,
   "metadata": {
    "_kg_hide-input": true,
    "_uuid": "04c98e7f39d052efd187330436a0797c6745a8d5"
   },
   "outputs": [],
   "source": [
    "from collections import defaultdict\n",
    "train1_df = train_df[train_df[\"target\"]==1]\n",
    "train0_df = train_df[train_df[\"target\"]==0]\n",
    "\n",
    "## custom function for ngram generation ##\n",
    "def generate_ngrams(text, n_gram=1):\n",
    "    token = [token for token in text.lower().split(\" \") if token != \"\" if token not in STOPWORDS]\n",
    "    ngrams = zip(*[token[i:] for i in range(n_gram)])\n",
    "    return [\" \".join(ngram) for ngram in ngrams]\n",
    "\n",
    "## custom function for horizontal bar chart ##\n",
    "def horizontal_bar_chart(df, color):\n",
    "    trace = go.Bar(\n",
    "        y=df[\"word\"].values[::-1],\n",
    "        x=df[\"wordcount\"].values[::-1],\n",
    "        showlegend=False,\n",
    "        orientation = 'h',\n",
    "        marker=dict(\n",
    "            color=color,\n",
    "        ),\n",
    "    )\n",
    "    return trace\n",
    "\n",
    "## Get the bar chart from sincere questions ##\n",
    "freq_dict = defaultdict(int)\n",
    "for sent in train0_df[\"question_text\"]:\n",
    "    for word in generate_ngrams(sent):\n",
    "        freq_dict[word] += 1\n",
    "fd_sorted = pd.DataFrame(sorted(freq_dict.items(), key=lambda x: x[1])[::-1])\n",
    "fd_sorted.columns = [\"word\", \"wordcount\"]\n",
    "trace0 = horizontal_bar_chart(fd_sorted.head(50), 'blue')\n",
    "\n",
    "## Get the bar chart from insincere questions ##\n",
    "freq_dict = defaultdict(int)\n",
    "for sent in train1_df[\"question_text\"]:\n",
    "    for word in generate_ngrams(sent):\n",
    "        freq_dict[word] += 1\n",
    "fd_sorted = pd.DataFrame(sorted(freq_dict.items(), key=lambda x: x[1])[::-1])\n",
    "fd_sorted.columns = [\"word\", \"wordcount\"]\n",
    "trace1 = horizontal_bar_chart(fd_sorted.head(50), 'blue')\n",
    "\n",
    "# Creating two subplots\n",
    "fig = tools.make_subplots(rows=1, cols=2, vertical_spacing=0.04,\n",
    "                          subplot_titles=[\"Frequent words of sincere questions\", \n",
    "                                          \"Frequent words of insincere questions\"])\n",
    "fig.append_trace(trace0, 1, 1)\n",
    "fig.append_trace(trace1, 1, 2)\n",
    "fig['layout'].update(height=1200, width=900, paper_bgcolor='rgb(233,233,233)', title=\"Word Count Plots\")\n",
    "py.iplot(fig, filename='word-plots')\n",
    "\n",
    "#plt.figure(figsize=(10,16))\n",
    "#sns.barplot(x=\"ngram_count\", y=\"ngram\", data=fd_sorted.loc[:50,:], color=\"b\")\n",
    "#plt.title(\"Frequent words for Insincere Questions\", fontsize=16)\n",
    "#plt.show()\n"
   ]
  },
  {
   "cell_type": "markdown",
   "metadata": {
    "_uuid": "ae522b4ba487398d13b482718d4578b7176f5f65"
   },
   "source": [
    "**Observations:**\n",
    "* Some of the top words are common across both the classes like 'people', 'will', 'think' etc\n",
    "* The other top words in sincere questions after excluding the common ones at the very top are 'best', 'good' etc\n",
    "* The other top words in insincere questions after excluding the common ones are 'trump', 'women', 'white' etc\n",
    "\n",
    "Now let us also create bigram frequency plots for both the classes separately to get more idea."
   ]
  },
  {
   "cell_type": "code",
   "execution_count": null,
   "metadata": {
    "_kg_hide-input": true,
    "_uuid": "0e9e5b7478800de62faffaeb4415136142a6cdf5"
   },
   "outputs": [],
   "source": [
    "freq_dict = defaultdict(int)\n",
    "for sent in train0_df[\"question_text\"]:\n",
    "    for word in generate_ngrams(sent,2):\n",
    "        freq_dict[word] += 1\n",
    "fd_sorted = pd.DataFrame(sorted(freq_dict.items(), key=lambda x: x[1])[::-1])\n",
    "fd_sorted.columns = [\"word\", \"wordcount\"]\n",
    "trace0 = horizontal_bar_chart(fd_sorted.head(50), 'orange')\n",
    "\n",
    "\n",
    "freq_dict = defaultdict(int)\n",
    "for sent in train1_df[\"question_text\"]:\n",
    "    for word in generate_ngrams(sent,2):\n",
    "        freq_dict[word] += 1\n",
    "fd_sorted = pd.DataFrame(sorted(freq_dict.items(), key=lambda x: x[1])[::-1])\n",
    "fd_sorted.columns = [\"word\", \"wordcount\"]\n",
    "trace1 = horizontal_bar_chart(fd_sorted.head(50), 'orange')\n",
    "\n",
    "# Creating two subplots\n",
    "fig = tools.make_subplots(rows=1, cols=2, vertical_spacing=0.04,horizontal_spacing=0.15,\n",
    "                          subplot_titles=[\"Frequent bigrams of sincere questions\", \n",
    "                                          \"Frequent bigrams of insincere questions\"])\n",
    "fig.append_trace(trace0, 1, 1)\n",
    "fig.append_trace(trace1, 1, 2)\n",
    "fig['layout'].update(height=1200, width=900, paper_bgcolor='rgb(233,233,233)', title=\"Bigram Count Plots\")\n",
    "py.iplot(fig, filename='word-plots')\n"
   ]
  },
  {
   "cell_type": "markdown",
   "metadata": {
    "_uuid": "3d5c9c88e687cfde98a39f03691c4d2654d8e05c"
   },
   "source": [
    "**Observations:**\n",
    "* The plot says it all. Please look at the plots and do the inference by yourselves ;)\n",
    "\n",
    "Now let usl look at the trigram plots as well."
   ]
  },
  {
   "cell_type": "code",
   "execution_count": null,
   "metadata": {
    "_kg_hide-input": true,
    "_uuid": "f076a0aebb6b0e4e9966bc1e65fe40d7a3437c9b"
   },
   "outputs": [],
   "source": [
    "freq_dict = defaultdict(int)\n",
    "for sent in train0_df[\"question_text\"]:\n",
    "    for word in generate_ngrams(sent,3):\n",
    "        freq_dict[word] += 1\n",
    "fd_sorted = pd.DataFrame(sorted(freq_dict.items(), key=lambda x: x[1])[::-1])\n",
    "fd_sorted.columns = [\"word\", \"wordcount\"]\n",
    "trace0 = horizontal_bar_chart(fd_sorted.head(50), 'green')\n",
    "\n",
    "\n",
    "freq_dict = defaultdict(int)\n",
    "for sent in train1_df[\"question_text\"]:\n",
    "    for word in generate_ngrams(sent,3):\n",
    "        freq_dict[word] += 1\n",
    "fd_sorted = pd.DataFrame(sorted(freq_dict.items(), key=lambda x: x[1])[::-1])\n",
    "fd_sorted.columns = [\"word\", \"wordcount\"]\n",
    "trace1 = horizontal_bar_chart(fd_sorted.head(50), 'green')\n",
    "\n",
    "# Creating two subplots\n",
    "fig = tools.make_subplots(rows=1, cols=2, vertical_spacing=0.04, horizontal_spacing=0.2,\n",
    "                          subplot_titles=[\"Frequent trigrams of sincere questions\", \n",
    "                                          \"Frequent trigrams of insincere questions\"])\n",
    "fig.append_trace(trace0, 1, 1)\n",
    "fig.append_trace(trace1, 1, 2)\n",
    "fig['layout'].update(height=1200, width=1200, paper_bgcolor='rgb(233,233,233)', title=\"Trigram Count Plots\")\n",
    "py.iplot(fig, filename='word-plots')"
   ]
  },
  {
   "cell_type": "markdown",
   "metadata": {
    "_uuid": "510eb370265db86a06cb0dd78c3a7a3a57f1d151"
   },
   "source": [
    "**Meta Features:**\n",
    "\n",
    "Now let us create some meta features and then look at how they are distributed between the classes. The ones that we will create are\n",
    "1. Number of words in the text\n",
    "2. Number of unique words in the text\n",
    "3. Number of characters in the text\n",
    "4. Number of stopwords\n",
    "5. Number of punctuations\n",
    "6. Number of upper case words\n",
    "7. Number of title case words\n",
    "8. Average length of the words"
   ]
  },
  {
   "cell_type": "code",
   "execution_count": null,
   "metadata": {
    "_uuid": "add38afa4885fecfa4eb12057fb1da9897db20c2"
   },
   "outputs": [],
   "source": [
    "## Number of words in the text ##\n",
    "train_df[\"num_words\"] = train_df[\"question_text\"].apply(lambda x: len(str(x).split()))\n",
    "test_df[\"num_words\"] = test_df[\"question_text\"].apply(lambda x: len(str(x).split()))\n",
    "\n",
    "## Number of unique words in the text ##\n",
    "train_df[\"num_unique_words\"] = train_df[\"question_text\"].apply(lambda x: len(set(str(x).split())))\n",
    "test_df[\"num_unique_words\"] = test_df[\"question_text\"].apply(lambda x: len(set(str(x).split())))\n",
    "\n",
    "## Number of characters in the text ##\n",
    "train_df[\"num_chars\"] = train_df[\"question_text\"].apply(lambda x: len(str(x)))\n",
    "test_df[\"num_chars\"] = test_df[\"question_text\"].apply(lambda x: len(str(x)))\n",
    "\n",
    "## Number of stopwords in the text ##\n",
    "train_df[\"num_stopwords\"] = train_df[\"question_text\"].apply(lambda x: len([w for w in str(x).lower().split() if w in STOPWORDS]))\n",
    "test_df[\"num_stopwords\"] = test_df[\"question_text\"].apply(lambda x: len([w for w in str(x).lower().split() if w in STOPWORDS]))\n",
    "\n",
    "## Number of punctuations in the text ##\n",
    "train_df[\"num_punctuations\"] =train_df['question_text'].apply(lambda x: len([c for c in str(x) if c in string.punctuation]) )\n",
    "test_df[\"num_punctuations\"] =test_df['question_text'].apply(lambda x: len([c for c in str(x) if c in string.punctuation]) )\n",
    "\n",
    "## Number of title case words in the text ##\n",
    "train_df[\"num_words_upper\"] = train_df[\"question_text\"].apply(lambda x: len([w for w in str(x).split() if w.isupper()]))\n",
    "test_df[\"num_words_upper\"] = test_df[\"question_text\"].apply(lambda x: len([w for w in str(x).split() if w.isupper()]))\n",
    "\n",
    "## Number of title case words in the text ##\n",
    "train_df[\"num_words_title\"] = train_df[\"question_text\"].apply(lambda x: len([w for w in str(x).split() if w.istitle()]))\n",
    "test_df[\"num_words_title\"] = test_df[\"question_text\"].apply(lambda x: len([w for w in str(x).split() if w.istitle()]))\n",
    "\n",
    "## Average length of the words in the text ##\n",
    "train_df[\"mean_word_len\"] = train_df[\"question_text\"].apply(lambda x: np.mean([len(w) for w in str(x).split()]))\n",
    "test_df[\"mean_word_len\"] = test_df[\"question_text\"].apply(lambda x: np.mean([len(w) for w in str(x).split()]))"
   ]
  },
  {
   "cell_type": "markdown",
   "metadata": {
    "_uuid": "bb78505d4b82074447f41ff345959584595de623"
   },
   "source": [
    "Now let us see how these meta features are distributed between both sincere and insincere questions."
   ]
  },
  {
   "cell_type": "code",
   "execution_count": null,
   "metadata": {
    "_kg_hide-input": true,
    "_uuid": "539ca7bb74261742b87ce5fa1bfe6071a1f861f8"
   },
   "outputs": [],
   "source": [
    "## Truncate some extreme values for better visuals ##\n",
    "train_df['num_words'].loc[train_df['num_words']>60] = 60 #truncation for better visuals\n",
    "train_df['num_punctuations'].loc[train_df['num_punctuations']>10] = 10 #truncation for better visuals\n",
    "train_df['num_chars'].loc[train_df['num_chars']>350] = 350 #truncation for better visuals\n",
    "\n",
    "f, axes = plt.subplots(3, 1, figsize=(10,20))\n",
    "sns.boxplot(x='target', y='num_words', data=train_df, ax=axes[0])\n",
    "axes[0].set_xlabel('Target', fontsize=12)\n",
    "axes[0].set_title(\"Number of words in each class\", fontsize=15)\n",
    "\n",
    "sns.boxplot(x='target', y='num_chars', data=train_df, ax=axes[1])\n",
    "axes[1].set_xlabel('Target', fontsize=12)\n",
    "axes[1].set_title(\"Number of characters in each class\", fontsize=15)\n",
    "\n",
    "sns.boxplot(x='target', y='num_punctuations', data=train_df, ax=axes[2])\n",
    "axes[2].set_xlabel('Target', fontsize=12)\n",
    "#plt.ylabel('Number of punctuations in text', fontsize=12)\n",
    "axes[2].set_title(\"Number of punctuations in each class\", fontsize=15)\n",
    "plt.show()\n"
   ]
  },
  {
   "cell_type": "markdown",
   "metadata": {
    "_uuid": "2efe9f3d1deff6bfa12ef60a731c2b707be1d377"
   },
   "source": [
    "**Inference:**\n",
    "* We can see that the insincere questions have more number of words as well as characters compared to sincere questions. So this might be a useful feature in our model.\n",
    "\n",
    "**Baseline Model:**\n",
    "\n",
    "To start with, let us just build a baseline model (Logistic Regression) with TFIDF vectors."
   ]
  },
  {
   "cell_type": "code",
   "execution_count": null,
   "metadata": {
    "_uuid": "ae694b35b307f1dd57761384742891da7096caf5"
   },
   "outputs": [],
   "source": [
    "# Get the tfidf vectors #\n",
    "tfidf_vec = TfidfVectorizer(stop_words='english', ngram_range=(1,3))\n",
    "tfidf_vec.fit_transform(train_df['question_text'].values.tolist() + test_df['question_text'].values.tolist())\n",
    "train_tfidf = tfidf_vec.transform(train_df['question_text'].values.tolist())\n",
    "test_tfidf = tfidf_vec.transform(test_df['question_text'].values.tolist())"
   ]
  },
  {
   "cell_type": "markdown",
   "metadata": {
    "_uuid": "691b434b68a36e6689f874b43c8d072e4d4b49ec"
   },
   "source": [
    "Let us build the model now."
   ]
  },
  {
   "cell_type": "code",
   "execution_count": null,
   "metadata": {
    "_uuid": "865965945fbf113a3dae9702b3674e3fd3501a17"
   },
   "outputs": [],
   "source": [
    "train_y = train_df[\"target\"].values\n",
    "\n",
    "def runModel(train_X, train_y, test_X, test_y, test_X2):\n",
    "    model = linear_model.LogisticRegression(C=5., solver='sag')\n",
    "    model.fit(train_X, train_y)\n",
    "    pred_test_y = model.predict_proba(test_X)[:,1]\n",
    "    pred_test_y2 = model.predict_proba(test_X2)[:,1]\n",
    "    return pred_test_y, pred_test_y2, model\n",
    "\n",
    "print(\"Building model.\")\n",
    "cv_scores = []\n",
    "pred_full_test = 0\n",
    "pred_train = np.zeros([train_df.shape[0]])\n",
    "kf = model_selection.KFold(n_splits=5, shuffle=True, random_state=2017)\n",
    "for dev_index, val_index in kf.split(train_df):\n",
    "    dev_X, val_X = train_tfidf[dev_index], train_tfidf[val_index]\n",
    "    dev_y, val_y = train_y[dev_index], train_y[val_index]\n",
    "    pred_val_y, pred_test_y, model = runModel(dev_X, dev_y, val_X, val_y, test_tfidf)\n",
    "    pred_full_test = pred_full_test + pred_test_y\n",
    "    pred_train[val_index] = pred_val_y\n",
    "    cv_scores.append(metrics.log_loss(val_y, pred_val_y))\n",
    "    break"
   ]
  },
  {
   "cell_type": "markdown",
   "metadata": {
    "_uuid": "0ce56f0d6e4d18705dcb9e90706459305b2edd18"
   },
   "source": [
    "Getting the best threshold based on validation sample."
   ]
  },
  {
   "cell_type": "code",
   "execution_count": null,
   "metadata": {
    "_uuid": "1ae3f1341ed8e0652836945a6838a1385cb9a037"
   },
   "outputs": [],
   "source": [
    "for thresh in np.arange(0.1, 0.201, 0.01):\n",
    "    thresh = np.round(thresh, 2)\n",
    "    print(\"F1 score at threshold {0} is {1}\".format(thresh, metrics.f1_score(val_y, (pred_val_y>thresh).astype(int))))\n"
   ]
  },
  {
   "cell_type": "markdown",
   "metadata": {
    "_uuid": "c4fe6d873b7ea9a2aeb773f93e044c0bc36bf352"
   },
   "source": [
    "So we are getting a better F1 score for this model at 0.17.! \n",
    "\n",
    "Now let us look at the important words used for classifying the insincere questions. We will use eli5 library for the same. Thanks to [this excellent kernel](https://www.kaggle.com/lopuhin/eli5-for-mercari) by @lopuhin"
   ]
  },
  {
   "cell_type": "code",
   "execution_count": null,
   "metadata": {
    "_uuid": "029dd8d87acd64c03827f28594cedd3b45309078"
   },
   "outputs": [],
   "source": [
    "import eli5\n",
    "eli5.show_weights(model, vec=tfidf_vec, top=100, feature_filter=lambda x: x != '<BIAS>')"
   ]
  },
  {
   "cell_type": "markdown",
   "metadata": {
    "_uuid": "59e87ce9629062f8375a6a3e251767e7f3b40172"
   },
   "source": [
    "**References:**\n",
    "\n",
    "Thanks to all the below kernels which I used for reference.\n",
    "\n",
    "1. https://www.kaggle.com/aashita/word-clouds-of-various-shapes\n",
    "2. https://www.kaggle.com/tunguz/just-some-simple-eda\n",
    "3. https://www.kaggle.com/lopuhin/eli5-for-mercari"
   ]
  },
  {
   "cell_type": "markdown",
   "metadata": {
    "_uuid": "4d29bf884b3fc298e901f2d3fdeae0d76c8455b7"
   },
   "source": [
    "**More to come. Stay tuned.!**"
   ]
  },
  {
   "cell_type": "code",
   "execution_count": null,
   "metadata": {
    "_uuid": "0e59af0195cf991bf30af4dfbc1d4ec1a6c760ff"
   },
   "outputs": [],
   "source": []
  }
 ],
 "metadata": {
  "kernelspec": {
   "display_name": "Python 3",
   "language": "python",
   "name": "python3"
  },
  "language_info": {
   "codemirror_mode": {
    "name": "ipython",
    "version": 3
   },
   "file_extension": ".py",
   "mimetype": "text/x-python",
   "name": "python",
   "nbconvert_exporter": "python",
   "pygments_lexer": "ipython3",
   "version": "3.6.6"
  }
 },
 "nbformat": 4,
 "nbformat_minor": 1
}
